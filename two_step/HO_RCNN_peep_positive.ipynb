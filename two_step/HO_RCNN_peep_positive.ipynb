{
 "cells": [
  {
   "cell_type": "code",
   "execution_count": 1,
   "metadata": {},
   "outputs": [
    {
     "name": "stderr",
     "output_type": "stream",
     "text": [
      "Using TensorFlow backend.\n"
     ]
    }
   ],
   "source": [
    "import pandas as pd\n",
    "import cv2\n",
    "import os\n",
    "import numpy as np\n",
    "import time\n",
    "import matplotlib.pyplot as plt\n",
    "%matplotlib inline\n",
    "import json\n",
    "import keras\n",
    "import keras.backend as K\n",
    "# from keras_retinanet.models.resnet import custom_objects\n",
    "from keras_retinanet.models.resnet import resnet_retinanet as retinanet, custom_objects, download_imagenet\n",
    "# import keras_retinanet\n",
    "import keras_retinanet.bin.train\n",
    "from sklearn.utils import shuffle \n",
    "import sklearn.model_selection"
   ]
  },
  {
   "cell_type": "markdown",
   "metadata": {},
   "source": [
    "# data preparation"
   ]
  },
  {
   "cell_type": "code",
   "execution_count": 2,
   "metadata": {},
   "outputs": [],
   "source": [
    "train_data = pd.read_json('../train_data_simple.json')\n",
    "train_data = train_data.sort_index()\n",
    "retinanet_data = pd.read_json('retinanet_data.json')\n",
    "retinanet_data = retinanet_data.sort_index()"
   ]
  },
  {
   "cell_type": "code",
   "execution_count": 3,
   "metadata": {},
   "outputs": [
    {
     "data": {
      "text/plain": [
       "((26561, 7), (26561, 8))"
      ]
     },
     "execution_count": 3,
     "metadata": {},
     "output_type": "execute_result"
    }
   ],
   "source": [
    "train_data.shape,retinanet_data.shape"
   ]
  },
  {
   "cell_type": "code",
   "execution_count": 4,
   "metadata": {},
   "outputs": [
    {
     "data": {
      "text/html": [
       "<div>\n",
       "<table border=\"1\" class=\"dataframe\">\n",
       "  <thead>\n",
       "    <tr style=\"text-align: right;\">\n",
       "      <th></th>\n",
       "      <th>action_no</th>\n",
       "      <th>human_bbox</th>\n",
       "      <th>name</th>\n",
       "      <th>obj_id</th>\n",
       "      <th>obj_list</th>\n",
       "      <th>object_bbox</th>\n",
       "      <th>size</th>\n",
       "    </tr>\n",
       "  </thead>\n",
       "  <tbody>\n",
       "    <tr>\n",
       "      <th>0</th>\n",
       "      <td>[153, 154, 155, 156]</td>\n",
       "      <td>[209, 434, 28, 320]</td>\n",
       "      <td>HICO_train2015_00000001.jpg</td>\n",
       "      <td>[3]</td>\n",
       "      <td>[motorcycle]</td>\n",
       "      <td>[64, 576, 103, 399]</td>\n",
       "      <td>[640, 480, 3]</td>\n",
       "    </tr>\n",
       "    <tr>\n",
       "      <th>1</th>\n",
       "      <td>[224]</td>\n",
       "      <td>[262, 638, 1, 138]</td>\n",
       "      <td>HICO_train2015_00000002.jpg</td>\n",
       "      <td>[46]</td>\n",
       "      <td>[banana]</td>\n",
       "      <td>[162, 258, 131, 165]</td>\n",
       "      <td>[640, 480, 3]</td>\n",
       "    </tr>\n",
       "  </tbody>\n",
       "</table>\n",
       "</div>"
      ],
      "text/plain": [
       "              action_no           human_bbox                         name  \\\n",
       "0  [153, 154, 155, 156]  [209, 434, 28, 320]  HICO_train2015_00000001.jpg   \n",
       "1                 [224]   [262, 638, 1, 138]  HICO_train2015_00000002.jpg   \n",
       "\n",
       "  obj_id      obj_list           object_bbox           size  \n",
       "0    [3]  [motorcycle]   [64, 576, 103, 399]  [640, 480, 3]  \n",
       "1   [46]      [banana]  [162, 258, 131, 165]  [640, 480, 3]  "
      ]
     },
     "execution_count": 4,
     "metadata": {},
     "output_type": "execute_result"
    }
   ],
   "source": [
    "train_data.head(2)"
   ]
  },
  {
   "cell_type": "code",
   "execution_count": 5,
   "metadata": {},
   "outputs": [
    {
     "data": {
      "text/html": [
       "<div>\n",
       "<table border=\"1\" class=\"dataframe\">\n",
       "  <thead>\n",
       "    <tr style=\"text-align: right;\">\n",
       "      <th></th>\n",
       "      <th>human_boxes</th>\n",
       "      <th>human_boxes_scale</th>\n",
       "      <th>human_classes</th>\n",
       "      <th>human_scores</th>\n",
       "      <th>obj_boxes</th>\n",
       "      <th>obj_boxes_scale</th>\n",
       "      <th>obj_classes</th>\n",
       "      <th>obj_scores</th>\n",
       "    </tr>\n",
       "  </thead>\n",
       "  <tbody>\n",
       "    <tr>\n",
       "      <th>0</th>\n",
       "      <td>[[408.5285644531, 137.1702575684, 590.03033447...</td>\n",
       "      <td>[[217, 82, 314, 289], [189, 108, 388, 279], [2...</td>\n",
       "      <td>[0, 0, 0, 0]</td>\n",
       "      <td>[0.24128636720000002, 0.2087177634, 0.35492742...</td>\n",
       "      <td>[[384.8578491211, 70.9428253174, 883.437683105...</td>\n",
       "      <td>[[205, 42, 471, 217], [217, 82, 314, 289], [16...</td>\n",
       "      <td>[3, 0, 3, 3, 3, 0, 0, 0, 3]</td>\n",
       "      <td>[0.2452710122, 0.24128636720000002, 0.49595344...</td>\n",
       "    </tr>\n",
       "    <tr>\n",
       "      <th>1</th>\n",
       "      <td>[[515.2573242188, 2.3874969482, 1107.571899414...</td>\n",
       "      <td>[[274, 1, 590, 126], [401, 0, 636, 140]]</td>\n",
       "      <td>[0, 0]</td>\n",
       "      <td>[0.34479168060000004, 0.6770228148]</td>\n",
       "      <td>[[756.3471679688, 567.7899169922, 817.62744140...</td>\n",
       "      <td>[[403, 340, 436, 363], [405, 341, 436, 363], [...</td>\n",
       "      <td>[49, 51, 51, 39, 41, 39, 55, 53, 45, 41, 45, 7...</td>\n",
       "      <td>[0.2125296295, 0.235072419, 0.2925423980000000...</td>\n",
       "    </tr>\n",
       "    <tr>\n",
       "      <th>2</th>\n",
       "      <td>[]</td>\n",
       "      <td>[[274, 401], [1, 0], [590, 636], [126, 140]]</td>\n",
       "      <td>[]</td>\n",
       "      <td>[]</td>\n",
       "      <td>[[295.9039916992, 352.1661376953, 341.69757080...</td>\n",
       "      <td>[[147, 281, 170, 341], [0, 361, 15, 388], [0, ...</td>\n",
       "      <td>[9, 2, 2, 2, 2, 2, 2, 2, 2, 7, 5, 5, 5]</td>\n",
       "      <td>[0.45125731830000004, 0.2788699865, 0.64107280...</td>\n",
       "    </tr>\n",
       "    <tr>\n",
       "      <th>3</th>\n",
       "      <td>[[939.8218383789, 401.7608642578, 984.80657958...</td>\n",
       "      <td>[[501, 214, 525, 277], [130, 203, 165, 311], [...</td>\n",
       "      <td>[0, 0, 0, 0, 0, 0]</td>\n",
       "      <td>[0.6018131971, 0.2301999032, 0.3746683598, 0.9...</td>\n",
       "      <td>[[939.8218383789, 401.7608642578, 984.80657958...</td>\n",
       "      <td>[[501, 214, 525, 277], [130, 203, 165, 311], [...</td>\n",
       "      <td>[0, 0, 27, 0, 0, 0, 0]</td>\n",
       "      <td>[0.6018131971, 0.2301999032, 0.2251143306, 0.3...</td>\n",
       "    </tr>\n",
       "    <tr>\n",
       "      <th>4</th>\n",
       "      <td>[[192.0525970459, 291.7764892578, 370.51116943...</td>\n",
       "      <td>[[102, 155, 197, 265]]</td>\n",
       "      <td>[0]</td>\n",
       "      <td>[0.9221789241]</td>\n",
       "      <td>[[321.814666748, 445.8058776855, 350.372467041...</td>\n",
       "      <td>[[171, 236, 186, 261], [532, 275, 554, 292], [...</td>\n",
       "      <td>[41, 67, 39, 0, 62, 59, 60, 60, 13, 60, 59]</td>\n",
       "      <td>[0.21376061440000002, 0.2884043753, 0.73071849...</td>\n",
       "    </tr>\n",
       "  </tbody>\n",
       "</table>\n",
       "</div>"
      ],
      "text/plain": [
       "                                         human_boxes  \\\n",
       "0  [[408.5285644531, 137.1702575684, 590.03033447...   \n",
       "1  [[515.2573242188, 2.3874969482, 1107.571899414...   \n",
       "2                                                 []   \n",
       "3  [[939.8218383789, 401.7608642578, 984.80657958...   \n",
       "4  [[192.0525970459, 291.7764892578, 370.51116943...   \n",
       "\n",
       "                                   human_boxes_scale       human_classes  \\\n",
       "0  [[217, 82, 314, 289], [189, 108, 388, 279], [2...        [0, 0, 0, 0]   \n",
       "1           [[274, 1, 590, 126], [401, 0, 636, 140]]              [0, 0]   \n",
       "2       [[274, 401], [1, 0], [590, 636], [126, 140]]                  []   \n",
       "3  [[501, 214, 525, 277], [130, 203, 165, 311], [...  [0, 0, 0, 0, 0, 0]   \n",
       "4                             [[102, 155, 197, 265]]                 [0]   \n",
       "\n",
       "                                        human_scores  \\\n",
       "0  [0.24128636720000002, 0.2087177634, 0.35492742...   \n",
       "1                [0.34479168060000004, 0.6770228148]   \n",
       "2                                                 []   \n",
       "3  [0.6018131971, 0.2301999032, 0.3746683598, 0.9...   \n",
       "4                                     [0.9221789241]   \n",
       "\n",
       "                                           obj_boxes  \\\n",
       "0  [[384.8578491211, 70.9428253174, 883.437683105...   \n",
       "1  [[756.3471679688, 567.7899169922, 817.62744140...   \n",
       "2  [[295.9039916992, 352.1661376953, 341.69757080...   \n",
       "3  [[939.8218383789, 401.7608642578, 984.80657958...   \n",
       "4  [[321.814666748, 445.8058776855, 350.372467041...   \n",
       "\n",
       "                                     obj_boxes_scale  \\\n",
       "0  [[205, 42, 471, 217], [217, 82, 314, 289], [16...   \n",
       "1  [[403, 340, 436, 363], [405, 341, 436, 363], [...   \n",
       "2  [[147, 281, 170, 341], [0, 361, 15, 388], [0, ...   \n",
       "3  [[501, 214, 525, 277], [130, 203, 165, 311], [...   \n",
       "4  [[171, 236, 186, 261], [532, 275, 554, 292], [...   \n",
       "\n",
       "                                         obj_classes  \\\n",
       "0                        [3, 0, 3, 3, 3, 0, 0, 0, 3]   \n",
       "1  [49, 51, 51, 39, 41, 39, 55, 53, 45, 41, 45, 7...   \n",
       "2            [9, 2, 2, 2, 2, 2, 2, 2, 2, 7, 5, 5, 5]   \n",
       "3                             [0, 0, 27, 0, 0, 0, 0]   \n",
       "4        [41, 67, 39, 0, 62, 59, 60, 60, 13, 60, 59]   \n",
       "\n",
       "                                          obj_scores  \n",
       "0  [0.2452710122, 0.24128636720000002, 0.49595344...  \n",
       "1  [0.2125296295, 0.235072419, 0.2925423980000000...  \n",
       "2  [0.45125731830000004, 0.2788699865, 0.64107280...  \n",
       "3  [0.6018131971, 0.2301999032, 0.2251143306, 0.3...  \n",
       "4  [0.21376061440000002, 0.2884043753, 0.73071849...  "
      ]
     },
     "execution_count": 5,
     "metadata": {},
     "output_type": "execute_result"
    }
   ],
   "source": [
    "retinanet_data.head()"
   ]
  },
  {
   "cell_type": "code",
   "execution_count": 6,
   "metadata": {},
   "outputs": [],
   "source": [
    "action_list = []\n",
    "image_name = []\n",
    "for id_ in range(len(train_data)):\n",
    "    image_name.append(os.path.join('/home/jovyan/projectdata/cht01/hico_20160224_det/images/train2015/',train_data['name'][id_]))\n",
    "    action_array = np.zeros(600)\n",
    "    for i in train_data.action_no[id_]:\n",
    "        action_array[i-1]=1\n",
    "    action_list.append(action_array)\n",
    "action_list = np.array(action_list)\n",
    "image_name = np.array(image_name)"
   ]
  },
  {
   "cell_type": "code",
   "execution_count": 7,
   "metadata": {},
   "outputs": [],
   "source": [
    "human_gt = [[item[0],item[2],item[1],item[3]] for item in train_data.human_bbox.tolist()]\n",
    "human_gt = np.array(human_gt)\n",
    "object_gt = [[item[0],item[2],item[1],item[3]] for item in train_data.object_bbox.tolist()]\n",
    "object_gt = np.array(object_gt)\n",
    "obj_label_gt = train_data.obj_id.as_matrix()"
   ]
  },
  {
   "cell_type": "code",
   "execution_count": 8,
   "metadata": {},
   "outputs": [],
   "source": [
    "#img_input,obj_boxes,obj_classes,human_boxes\n",
    "obj_boxes,obj_boxes_scale,human_boxes,human_boxes_scale,obj_classes=[],[],[],[],[]\n",
    "for id_ in range(len(train_data)):\n",
    "    obj_box = retinanet_data.obj_boxes[id_]\n",
    "    obj_box_scale = retinanet_data.obj_boxes_scale[id_]\n",
    "    obj_class = retinanet_data.obj_classes[id_]\n",
    "    human_box = retinanet_data.human_boxes[id_]\n",
    "    human_box_scale = retinanet_data.human_boxes_scale[id_]\n",
    "\n",
    "    obj_box = np.array(obj_box)\n",
    "    obj_box_scale = np.array(obj_box_scale)\n",
    "    obj_class = np.array(obj_class)\n",
    "    human_box = np.array(human_box)\n",
    "    human_box_scale = np.array(human_box_scale)\n",
    "    \n",
    "    obj_boxes.append(obj_box)\n",
    "    obj_boxes_scale.append(obj_box_scale)\n",
    "    obj_classes.append(obj_class)\n",
    "    human_boxes.append(human_box)\n",
    "    human_boxes_scale.append(human_box_scale)\n",
    "    \n",
    "obj_boxes = np.array(obj_boxes)\n",
    "obj_boxes_scale = np.array(obj_boxes_scale)\n",
    "obj_classes = np.array(obj_classes)\n",
    "human_boxes = np.array(human_boxes)\n",
    "human_boxes_scale = np.array(human_boxes_scale)"
   ]
  },
  {
   "cell_type": "code",
   "execution_count": 9,
   "metadata": {},
   "outputs": [],
   "source": [
    "image_name_train,image_name_val = sklearn.model_selection.train_test_split(image_name,test_size=0.05,random_state=42)\n",
    "\n",
    "human_boxes_train,human_boxes_val = sklearn.model_selection.train_test_split(human_boxes,test_size=0.05,random_state=42)\n",
    "\n",
    "human_boxes_scale_train,human_boxes_scale_val = sklearn.model_selection.train_test_split(human_boxes_scale,test_size=0.05,random_state=42)\n",
    "\n",
    "obj_boxes_train,obj_boxes_val = sklearn.model_selection.train_test_split(obj_boxes,test_size=0.05,random_state=42)\n",
    "\n",
    "obj_boxes_scale_train,obj_boxes_scale_val = sklearn.model_selection.train_test_split(obj_boxes_scale,test_size=0.05,random_state=42)\n",
    "\n",
    "obj_classes_train,obj_classes_val = sklearn.model_selection.train_test_split(obj_classes,test_size=0.05,random_state=42)\n",
    "\n",
    "action_list_train,action_list_val = sklearn.model_selection.train_test_split(action_list,test_size=0.05,random_state=42)\n",
    "\n",
    "human_gt_train,human_gt_val = sklearn.model_selection.train_test_split(human_gt,test_size=0.05,random_state=42)\n",
    "\n",
    "object_gt_train,object_gt_val = sklearn.model_selection.train_test_split(object_gt,test_size=0.05,random_state=42)\n",
    "\n",
    "obj_label_gt_train,obj_label_gt_val = sklearn.model_selection.train_test_split(obj_label_gt,test_size=0.05,random_state=42)"
   ]
  },
  {
   "cell_type": "code",
   "execution_count": 10,
   "metadata": {},
   "outputs": [],
   "source": [
    "x_train = [image_name_train,human_boxes_train,human_boxes_scale_train,obj_boxes_train,obj_boxes_scale_train,obj_classes_train]\n",
    "\n",
    "x_val = [image_name_val,human_boxes_val,human_boxes_scale_val,obj_boxes_val,obj_boxes_scale_val,obj_classes_val]\n",
    "\n",
    "y_train = [action_list_train,human_gt_train,object_gt_train,obj_label_gt_train]\n",
    "\n",
    "y_val = [action_list_val,human_gt_val,object_gt_val,obj_label_gt_val]"
   ]
  },
  {
   "cell_type": "markdown",
   "metadata": {},
   "source": [
    "# define model"
   ]
  },
  {
   "cell_type": "code",
   "execution_count": 11,
   "metadata": {},
   "outputs": [],
   "source": [
    "def human_stream(ip):\n",
    "    ho_pair = ip[0]\n",
    "    human_boxes = ho_pair[:,:,0,:]\n",
    "    img_input = ip[1]\n",
    "    i = K.tf.constant(0)\n",
    "    batch_count = K.tf.shape(human_boxes)[0]\n",
    "    result = K.tf.TensorArray(dtype=K.tf.float32, size=batch_count)\n",
    "    human_boxes_norm = K.tf.TensorArray(dtype=K.tf.float32, size=batch_count)\n",
    "    \n",
    "    def condition(i,result,human_boxes_norm):\n",
    "        return i < batch_count    \n",
    "    def body(i,result,human_boxes_norm):\n",
    "        crop_size = K.tf.constant([200,200])\n",
    "        batch_inds = K.tf.zeros((K.tf.shape(human_boxes[i])[0],), dtype=K.tf.int32) \n",
    "        one_human_boxes_norm = human_boxes[i]/[1200,800,1200,800]\n",
    "        one_human_boxes_norm = K.tf.stack([one_human_boxes_norm[:,1],one_human_boxes_norm[:,0],one_human_boxes_norm[:,3],one_human_boxes_norm[:,2]],axis=1)\n",
    "        one_image = K.tf.image.crop_and_resize(K.expand_dims(img_input[i],axis=0),one_human_boxes_norm,batch_inds,crop_size)\n",
    "        one_image = (one_image-K.min(one_image))/255 \n",
    "        result = result.write(i, one_image)\n",
    "        human_boxes_norm = human_boxes_norm.write(i,one_human_boxes_norm)\n",
    "        i = K.tf.add(i,1)\n",
    "        return [i,result,human_boxes_norm]    \n",
    "    \n",
    "    _,result, human_boxes_norm = K.tf.while_loop(condition, body, [i, result,human_boxes_norm])\n",
    "    result_stack = result.stack()\n",
    "    human_boxes_norm_stack = human_boxes_norm.stack()\n",
    "    return [result_stack,human_boxes_norm_stack]\n",
    "    \n",
    "def obj_stream(ip):\n",
    "    ho_pair = ip[0]\n",
    "    obj_boxes = ho_pair[:,:,1,:]\n",
    "    img_input = ip[1]\n",
    "    i = K.tf.constant(0)\n",
    "    batch_count = K.tf.shape(obj_boxes)[0]\n",
    "    result = K.tf.TensorArray(dtype=K.tf.float32, size=batch_count)\n",
    "    obj_boxes_norm = K.tf.TensorArray(dtype=K.tf.float32, size=batch_count)\n",
    "    \n",
    "    def condition(i,result,obj_boxes_norm):\n",
    "        return i < batch_count    \n",
    "    def body(i,result,obj_boxes_norm):\n",
    "        crop_size = K.tf.constant([200,200])\n",
    "        batch_inds = K.tf.zeros((K.tf.shape(obj_boxes[i])[0],), dtype=K.tf.int32) \n",
    "        one_obj_boxes_norm = obj_boxes[i]/[1200,800,1200,800]\n",
    "        one_obj_boxes_norm = K.tf.stack([one_obj_boxes_norm[:,1],one_obj_boxes_norm[:,0],one_obj_boxes_norm[:,3],one_obj_boxes_norm[:,2]],axis=1)\n",
    "        one_image = K.tf.image.crop_and_resize(K.expand_dims(img_input[i],axis=0),one_obj_boxes_norm,batch_inds,crop_size)\n",
    "        one_image = (one_image-K.min(one_image))/255 \n",
    "        result = result.write(i, one_image)\n",
    "        obj_boxes_norm = obj_boxes_norm.write(i,one_obj_boxes_norm)\n",
    "        i = K.tf.add(i,1)\n",
    "        return [i,result,obj_boxes_norm]    \n",
    "    \n",
    "    _,result, obj_boxes_norm = K.tf.while_loop(condition, body, [i, result,obj_boxes_norm])\n",
    "    result_stack = result.stack()\n",
    "    obj_boxes_norm_stack = obj_boxes_norm.stack()\n",
    "    return [result_stack,obj_boxes_norm_stack]\n",
    "\n",
    "def human_object_pair(ip):\n",
    "    human_boxes=ip[0]\n",
    "    obj_boxes=ip[1]\n",
    "    i = K.tf.constant(0)\n",
    "    batch_count = K.tf.shape(obj_boxes)[0]\n",
    "    ho_pair = K.tf.TensorArray(dtype=K.tf.float32, size=batch_count)\n",
    "    \n",
    "    def condition(i,ho_pair):\n",
    "        return i < batch_count    \n",
    "    def body(i,ho_pair):\n",
    "        human_count =K.tf.shape(human_boxes[i])[0]\n",
    "        obj_count = K.tf.shape(obj_boxes[i])[0]\n",
    "        ho_pair_one=[]\n",
    "        xx = K.tf.expand_dims(human_boxes[i], -1)\n",
    "        xx = K.tf.tile(xx, K.tf.stack([1, 1, obj_count]))\n",
    "        yy = K.tf.expand_dims(obj_boxes[i], -1)\n",
    "        yy = K.tf.tile(yy, K.tf.stack([1, 1, human_count]))\n",
    "        yy = K.tf.transpose(yy, perm=[2, 1, 0])       \n",
    "        ho_pair_one = K.tf.stack([xx,yy],axis=1)\n",
    "        ho_pair_one = K.tf.transpose(ho_pair_one,perm=[0,3,1,2])\n",
    "        ho_pair_one = K.tf.reshape(ho_pair_one,shape=(-1,2,4))\n",
    "        ho_pair = ho_pair.write(i, ho_pair_one)\n",
    "        i = K.tf.add(i,1)\n",
    "        return [i,ho_pair]    \n",
    "    \n",
    "    _,ho_pair = K.tf.while_loop(condition, body, [i, ho_pair])\n",
    "    ho_pair_stack = ho_pair.stack()\n",
    "    return ho_pair_stack\n",
    "\n",
    "def attention_pattern(ho_pair):\n",
    "    \n",
    "    outer_i = K.tf.constant(0)\n",
    "    batch_count = K.tf.shape(ho_pair)[0]\n",
    "    all_image_pair_mask = K.tf.TensorArray(dtype=K.tf.float32, size=batch_count)\n",
    "\n",
    "\n",
    "    def outer_condition(i,all_image_pair_mask):\n",
    "        return i < batch_count\n",
    "    def outer_body(outer_i,all_image_pair_mask):\n",
    "        pair_count = K.tf.shape(ho_pair[outer_i])[0]\n",
    "        offset_height_h = K.tf.cast(ho_pair[outer_i,:,0,1],K.tf.int32)\n",
    "        offset_width_h = K.tf.cast(ho_pair[outer_i,:,0,0],K.tf.int32)\n",
    "        target_height_h = K.tf.cast(ho_pair[outer_i,:,0,3],K.tf.int32) - offset_height_h \n",
    "        target_width_h = K.tf.cast(ho_pair[outer_i,:,0,2],K.tf.int32) - offset_width_h\n",
    "        offset_height_o = K.tf.cast(ho_pair[outer_i,:,1,1],K.tf.int32)\n",
    "        offset_width_o = K.tf.cast(ho_pair[outer_i,:,1,0],K.tf.int32)\n",
    "        target_height_o = K.tf.cast(ho_pair[outer_i,:,1,3],K.tf.int32) - offset_height_o\n",
    "        target_width_o = K.tf.cast(ho_pair[outer_i,:,1,2],K.tf.int32) -offset_width_o\n",
    "        mask_base = K.tf.constant(1,shape=(800,1200,3),dtype=K.tf.float32)\n",
    "        inner_i = K.tf.constant(0)\n",
    "        one_image_pair_mask = K.tf.TensorArray(dtype=K.tf.float32, size=pair_count)\n",
    "        \n",
    "        def inner_condition(inner_i, outer_i,one_image_pair_mask):\n",
    "            return inner_i < pair_count\n",
    "    \n",
    "        def inner_body(inner_i, outer_i,one_image_pair_mask):\n",
    "        \n",
    "            top_bound = K.tf.reduce_min(K.tf.stack([offset_height_h[inner_i],offset_height_o[inner_i]]))\n",
    "            left_bound = K.tf.reduce_min(K.tf.stack([offset_width_h[inner_i],offset_width_o[inner_i]]))\n",
    "            bottom_bound = K.tf.reduce_max(K.tf.stack([offset_height_h[inner_i]+target_height_h[inner_i],offset_height_o[inner_i]+target_height_o[inner_i]]))\n",
    "            right_bound = K.tf.reduce_max(K.tf.stack([offset_width_h[inner_i]+target_width_h[inner_i],offset_width_o[inner_i]+target_width_o[inner_i]]))\n",
    "            mask_target_height = bottom_bound-top_bound\n",
    "            mask_target_width = right_bound-left_bound\n",
    "            mask_h = K.tf.image.crop_to_bounding_box(\n",
    "                mask_base,offset_height_h[inner_i],offset_width_h[inner_i],target_height_h[inner_i],target_width_h[inner_i])\n",
    "            mask_h = K.tf.image.pad_to_bounding_box(mask_h,offset_height_h[inner_i]-top_bound,offset_width_h[inner_i]-left_bound,mask_target_height,mask_target_width)\n",
    "            mask_h = K.tf.image.resize_image_with_crop_or_pad(mask_h,K.tf.shape(mask_base)[0],K.tf.shape(mask_base)[1])\n",
    "            mask_o = K.tf.image.crop_to_bounding_box(\n",
    "                mask_base,offset_height_o[inner_i],offset_width_o[inner_i],target_height_o[inner_i],target_width_o[inner_i])\n",
    "            mask_o = K.tf.image.pad_to_bounding_box(mask_o,offset_height_o[inner_i]-top_bound,offset_width_o[inner_i]-left_bound,mask_target_height,mask_target_width)\n",
    "            mask_o = K.tf.image.resize_image_with_crop_or_pad(mask_o,K.tf.shape(mask_base)[0],K.tf.shape(mask_base)[1])\n",
    "            mask_combine = [K.tf.reduce_mean(mask_h,axis=2),K.tf.reduce_mean(mask_o,axis=2),K.tf.constant(0,shape=(800,1200),dtype=K.tf.float32)]\n",
    "            mask_combine = K.tf.stack(mask_combine,axis =2)\n",
    "            mask_combine = K.tf.expand_dims(mask_combine,axis=0)\n",
    "            mask_combine = K.tf.image.resize_bilinear(mask_combine,[128,128])\n",
    "            mask_combine = K.tf.squeeze(mask_combine,axis=0)\n",
    "            one_image_pair_mask = one_image_pair_mask.write(inner_i, mask_combine)\n",
    "            inner_i = K.tf.add(inner_i,1)\n",
    "            return [inner_i,outer_i, one_image_pair_mask]  \n",
    "    \n",
    "        _,_,one_image_pair_mask= K.tf.while_loop(inner_condition, inner_body, [inner_i, outer_i,one_image_pair_mask])\n",
    "        one_image_pair_mask_stack = one_image_pair_mask.stack()\n",
    "        all_image_pair_mask = all_image_pair_mask.write(outer_i, one_image_pair_mask_stack)\n",
    "        outer_i = K.tf.add(outer_i,1)\n",
    "        return [outer_i, all_image_pair_mask] \n",
    "    \n",
    "    _,all_image_pair_mask = K.tf.while_loop(outer_condition, outer_body, [outer_i, all_image_pair_mask])\n",
    "    all_image_pair_mask_stack = all_image_pair_mask.stack()        \n",
    "\n",
    "    return all_image_pair_mask_stack"
   ]
  },
  {
   "cell_type": "code",
   "execution_count": 13,
   "metadata": {},
   "outputs": [
    {
     "data": {
      "text/plain": [
       "<tf.Tensor 'input_4:0' shape=(?, ?, 4) dtype=float32>"
      ]
     },
     "execution_count": 13,
     "metadata": {},
     "output_type": "execute_result"
    }
   ],
   "source": [
    "human_boxes"
   ]
  },
  {
   "cell_type": "code",
   "execution_count": 12,
   "metadata": {},
   "outputs": [],
   "source": [
    "img_input = keras.layers.Input(shape=(800,1200,3))\n",
    "obj_boxes = keras.layers.Input(shape=(None,4))\n",
    "obj_classes = keras.layers.Input(shape=(None,))\n",
    "human_boxes = keras.layers.Input(shape=(None,4))\n",
    "\n",
    "# ho_pair= keras.layers.Lambda(human_object_pair)([human_boxes,obj_boxes])\n",
    "\n",
    "# human_subimage,human_boxes_norm = keras.layers.Lambda(human_stream)([ho_pair,img_input])\n",
    "\n",
    "# obj_subimage,obj_boxes_norm = keras.layers.Lambda(obj_stream)([ho_pair,img_input])\n",
    "\n",
    "# pair_mask_stack = keras.layers.Lambda(attention_pattern)(ho_pair)"
   ]
  },
  {
   "cell_type": "code",
   "execution_count": 40,
   "metadata": {},
   "outputs": [],
   "source": [
    "def expand_dim(ip):\n",
    "    human_subimage = ip[0]\n",
    "    object_subimage = ip[1]\n",
    "    pair_mask_stack = ip[2]\n",
    "    human_subimage_expand = K.tf.expand_dims(human_subimage,axis=0)\n",
    "    obj_subimage_expand = K.tf.expand_dims(obj_subimage,axis=0)\n",
    "    pair_mask_stack_expand = K.tf.expand_dims(pair_mask_stack,axis=0)\n",
    "    return [human_subimage_expand,obj_subimage_expand,pair_mask_stack_expand]\n",
    "def output_sum(score_600):\n",
    "    score_sum = K.tf.reduce_sum(score_600,axis=1)\n",
    "    return score_sum"
   ]
  },
  {
   "cell_type": "code",
   "execution_count": 41,
   "metadata": {},
   "outputs": [],
   "source": [
    "#human stream\n",
    "h_conv1 = keras.layers.TimeDistributed(keras.layers.Conv2D(filters=16,kernel_size=(3,3),strides=(1, 1), padding='same',activation='relu'))(human_subimage)\n",
    "h_pool1 = keras.layers.TimeDistributed(keras.layers.MaxPool2D(pool_size=(3,3)))(h_conv1)\n",
    "h_conv2 = keras.layers.TimeDistributed(keras.layers.Conv2D(filters=32,kernel_size=(3,3),strides=(1, 1), padding='same',activation='relu'))(h_pool1)\n",
    "h_pool2 = keras.layers.TimeDistributed(keras.layers.MaxPool2D(pool_size=(3,3)))(h_conv2)\n",
    "h_conv3 = keras.layers.TimeDistributed(keras.layers.Conv2D(filters=32,kernel_size=(3,3),strides=(1, 1), padding='same',activation='relu'))(h_pool2)\n",
    "h_pool3 = keras.layers.TimeDistributed(keras.layers.MaxPool2D(pool_size=(3,3)))(h_conv3)\n",
    "h_flat = keras.layers.TimeDistributed(keras.layers.Flatten())(h_pool3)\n",
    "h_output = keras.layers.TimeDistributed(keras.layers.Dense(units=600,activation='relu'))(h_flat)\n",
    "#object stream\n",
    "o_conv1 = keras.layers.TimeDistributed(keras.layers.Conv2D(filters=16,kernel_size=(3,3),strides=(1, 1), padding='same',activation='relu'))(obj_subimage)\n",
    "o_pool1 = keras.layers.TimeDistributed(keras.layers.MaxPool2D(pool_size=(3,3)))(o_conv1)\n",
    "o_conv2 = keras.layers.TimeDistributed(keras.layers.Conv2D(filters=32,kernel_size=(3,3),strides=(1, 1), padding='same',activation='relu'))(o_pool1)\n",
    "o_pool2 = keras.layers.TimeDistributed(keras.layers.MaxPool2D(pool_size=(3,3)))(o_conv2)\n",
    "o_conv3 = keras.layers.TimeDistributed(keras.layers.Conv2D(filters=32,kernel_size=(3,3),strides=(1, 1), padding='same',activation='relu'))(o_pool2)\n",
    "o_pool3 = keras.layers.TimeDistributed(keras.layers.MaxPool2D(pool_size=(3,3)))(o_conv3)\n",
    "o_flat = keras.layers.TimeDistributed(keras.layers.Flatten())(o_pool3)\n",
    "o_output = keras.layers.TimeDistributed(keras.layers.Dense(units=600,activation='relu'))(o_flat)\n",
    "#pairwise stream\n",
    "p_conv1 = keras.layers.TimeDistributed(keras.layers.Conv2D(filters=16,kernel_size=(3,3),strides=(1, 1), padding='same',activation='relu'))(pair_mask_stack)\n",
    "p_pool1 = keras.layers.TimeDistributed(keras.layers.MaxPool2D(pool_size=(2,2)))(p_conv1)\n",
    "p_conv2 = keras.layers.TimeDistributed(keras.layers.Conv2D(filters=32,kernel_size=(3,3),strides=(1, 1), padding='same',activation='relu'))(p_pool1)\n",
    "p_pool2 = keras.layers.TimeDistributed(keras.layers.MaxPool2D(pool_size=(2,2)))(p_conv2)\n",
    "p_conv3 = keras.layers.TimeDistributed(keras.layers.Conv2D(filters=32,kernel_size=(3,3),strides=(1, 1), padding='same',activation='relu'))(p_pool2)\n",
    "p_pool3 = keras.layers.TimeDistributed(keras.layers.MaxPool2D(pool_size=(2,2)))(p_conv3)\n",
    "p_flat = keras.layers.TimeDistributed(keras.layers.Flatten())(p_pool3)\n",
    "p_output = keras.layers.TimeDistributed(keras.layers.Dense(units=600,activation='relu'))(p_flat)\n",
    "\n",
    "\n",
    "\n",
    "# score_sum = keras.layers.Add()([h_output_merge,o_output_merge,p_output_merge])\n",
    "# score_sum_sigmoid = keras.layers.Dense(600,activation='sigmoid')(score_sum)\n",
    "score_sum = keras.layers.Add()([h_output,o_output,p_output])\n",
    "score_sum_sigmoid = keras.layers.Dense(600,activation='sigmoid')(score_sum)\n",
    "obj_classes_output = keras.layers.Activation('relu')(obj_classes)"
   ]
  },
  {
   "cell_type": "code",
   "execution_count": 42,
   "metadata": {},
   "outputs": [],
   "source": [
    "model = keras.Model(inputs=[img_input,human_boxes,obj_boxes,obj_classes],outputs=[score_sum_sigmoid,obj_classes_output])"
   ]
  },
  {
   "cell_type": "code",
   "execution_count": 43,
   "metadata": {},
   "outputs": [
    {
     "name": "stdout",
     "output_type": "stream",
     "text": [
      "__________________________________________________________________________________________________\n",
      "Layer (type)                    Output Shape         Param #     Connected to                     \n",
      "==================================================================================================\n",
      "input_8 (InputLayer)            (None, None, 4)      0                                            \n",
      "__________________________________________________________________________________________________\n",
      "input_6 (InputLayer)            (None, None, 4)      0                                            \n",
      "__________________________________________________________________________________________________\n",
      "lambda_5 (Lambda)               (None, None, 2, 4)   0           input_8[0][0]                    \n",
      "                                                                 input_6[0][0]                    \n",
      "__________________________________________________________________________________________________\n",
      "input_5 (InputLayer)            (None, 800, 1200, 3) 0                                            \n",
      "__________________________________________________________________________________________________\n",
      "lambda_6 (Lambda)               [(None, None, 200, 2 0           lambda_5[0][0]                   \n",
      "                                                                 input_5[0][0]                    \n",
      "__________________________________________________________________________________________________\n",
      "lambda_7 (Lambda)               [(None, None, 200, 2 0           lambda_5[0][0]                   \n",
      "                                                                 input_5[0][0]                    \n",
      "__________________________________________________________________________________________________\n",
      "lambda_8 (Lambda)               (None, None, 128, 12 0           lambda_5[0][0]                   \n",
      "__________________________________________________________________________________________________\n",
      "time_distributed_25 (TimeDistri (None, None, 200, 20 448         lambda_6[0][0]                   \n",
      "__________________________________________________________________________________________________\n",
      "time_distributed_33 (TimeDistri (None, None, 200, 20 448         lambda_7[0][0]                   \n",
      "__________________________________________________________________________________________________\n",
      "time_distributed_41 (TimeDistri (None, None, 128, 12 448         lambda_8[0][0]                   \n",
      "__________________________________________________________________________________________________\n",
      "time_distributed_26 (TimeDistri (None, None, 66, 66, 0           time_distributed_25[0][0]        \n",
      "__________________________________________________________________________________________________\n",
      "time_distributed_34 (TimeDistri (None, None, 66, 66, 0           time_distributed_33[0][0]        \n",
      "__________________________________________________________________________________________________\n",
      "time_distributed_42 (TimeDistri (None, None, 64, 64, 0           time_distributed_41[0][0]        \n",
      "__________________________________________________________________________________________________\n",
      "time_distributed_27 (TimeDistri (None, None, 66, 66, 4640        time_distributed_26[0][0]        \n",
      "__________________________________________________________________________________________________\n",
      "time_distributed_35 (TimeDistri (None, None, 66, 66, 4640        time_distributed_34[0][0]        \n",
      "__________________________________________________________________________________________________\n",
      "time_distributed_43 (TimeDistri (None, None, 64, 64, 4640        time_distributed_42[0][0]        \n",
      "__________________________________________________________________________________________________\n",
      "time_distributed_28 (TimeDistri (None, None, 22, 22, 0           time_distributed_27[0][0]        \n",
      "__________________________________________________________________________________________________\n",
      "time_distributed_36 (TimeDistri (None, None, 22, 22, 0           time_distributed_35[0][0]        \n",
      "__________________________________________________________________________________________________\n",
      "time_distributed_44 (TimeDistri (None, None, 32, 32, 0           time_distributed_43[0][0]        \n",
      "__________________________________________________________________________________________________\n",
      "time_distributed_29 (TimeDistri (None, None, 22, 22, 9248        time_distributed_28[0][0]        \n",
      "__________________________________________________________________________________________________\n",
      "time_distributed_37 (TimeDistri (None, None, 22, 22, 9248        time_distributed_36[0][0]        \n",
      "__________________________________________________________________________________________________\n",
      "time_distributed_45 (TimeDistri (None, None, 32, 32, 9248        time_distributed_44[0][0]        \n",
      "__________________________________________________________________________________________________\n",
      "time_distributed_30 (TimeDistri (None, None, 7, 7, 3 0           time_distributed_29[0][0]        \n",
      "__________________________________________________________________________________________________\n",
      "time_distributed_38 (TimeDistri (None, None, 7, 7, 3 0           time_distributed_37[0][0]        \n",
      "__________________________________________________________________________________________________\n",
      "time_distributed_46 (TimeDistri (None, None, 16, 16, 0           time_distributed_45[0][0]        \n",
      "__________________________________________________________________________________________________\n",
      "time_distributed_31 (TimeDistri (None, None, 1568)   0           time_distributed_30[0][0]        \n",
      "__________________________________________________________________________________________________\n",
      "time_distributed_39 (TimeDistri (None, None, 1568)   0           time_distributed_38[0][0]        \n",
      "__________________________________________________________________________________________________\n",
      "time_distributed_47 (TimeDistri (None, None, 8192)   0           time_distributed_46[0][0]        \n",
      "__________________________________________________________________________________________________\n",
      "time_distributed_32 (TimeDistri (None, None, 600)    941400      time_distributed_31[0][0]        \n",
      "__________________________________________________________________________________________________\n",
      "time_distributed_40 (TimeDistri (None, None, 600)    941400      time_distributed_39[0][0]        \n",
      "__________________________________________________________________________________________________\n",
      "time_distributed_48 (TimeDistri (None, None, 600)    4915800     time_distributed_47[0][0]        \n",
      "__________________________________________________________________________________________________\n",
      "add_2 (Add)                     (None, None, 600)    0           time_distributed_32[0][0]        \n",
      "                                                                 time_distributed_40[0][0]        \n",
      "                                                                 time_distributed_48[0][0]        \n",
      "__________________________________________________________________________________________________\n",
      "input_7 (InputLayer)            (None, None)         0                                            \n",
      "__________________________________________________________________________________________________\n",
      "dense_8 (Dense)                 (None, None, 600)    360600      add_2[0][0]                      \n",
      "__________________________________________________________________________________________________\n",
      "activation_2 (Activation)       (None, None)         0           input_7[0][0]                    \n",
      "==================================================================================================\n",
      "Total params: 7,202,208\n",
      "Trainable params: 7,202,208\n",
      "Non-trainable params: 0\n",
      "__________________________________________________________________________________________________\n"
     ]
    }
   ],
   "source": [
    "model.summary()"
   ]
  },
  {
   "cell_type": "code",
   "execution_count": 17,
   "metadata": {},
   "outputs": [],
   "source": [
    "# def custom_loss(y_true, y_pred):\n",
    "#     y_true = y_true[0]\n",
    "#     y_pred = y_pred[0]\n",
    "#     return K.mean(K.binary_crossentropy(y_true, y_pred), axis=-1)\n",
    "\n",
    "# def binary_accuracy(y_true, y_pred):\n",
    "#     y_true = y_true[0]\n",
    "#     y_pred = y_pred[0]\n",
    "#     return K.mean(K.equal(y_true, K.round(y_pred)), axis=-1)"
   ]
  },
  {
   "cell_type": "code",
   "execution_count": 18,
   "metadata": {},
   "outputs": [],
   "source": [
    "opt = keras.optimizers.Adam()\n",
    "\n",
    "model.compile(loss='binary_crossentropy',\n",
    "              optimizer=opt,loss_weights=[1,0])\n",
    "earlystop = keras.callbacks.EarlyStopping(monitor='val_dense_4_loss',patience=2)"
   ]
  },
  {
   "cell_type": "markdown",
   "metadata": {},
   "source": [
    "# data generator"
   ]
  },
  {
   "cell_type": "code",
   "execution_count": 19,
   "metadata": {},
   "outputs": [],
   "source": [
    "# x_train = [image_name,human_boxes,obj_boxes,obj_classes]  y_label = [action_list,human_gt,object_gt]\n",
    "# (x1, y1, x2, y2)\n",
    "def bb_intersection_over_union(boxA,boxB):\n",
    "\t# determine the (x, y)-coordinates of the intersection rectangle\n",
    "\txA = max(boxA[0], boxB[0])\n",
    "\tyA = max(boxA[1], boxB[1])\n",
    "\txB = min(boxA[2], boxB[2])\n",
    "\tyB = min(boxA[3], boxB[3])\n",
    " \n",
    "\t# compute the area of intersection rectangle\n",
    "\tinterArea = (xB - xA + 1) * (yB - yA + 1)\n",
    " \n",
    "\t# compute the area of both the prediction and ground-truth\n",
    "\t# rectangles\n",
    "\tboxAArea = (boxA[2] - boxA[0] + 1) * (boxA[3] - boxA[1] + 1)\n",
    "\tboxBArea = (boxB[2] - boxB[0] + 1) * (boxB[3] - boxB[1] + 1)\n",
    " \n",
    "\t# compute the intersection over union by taking the intersection\n",
    "\t# area and dividing it by the sum of prediction + ground-truth\n",
    "\t# areas - the interesection area\n",
    "\tiou = interArea / float(boxAArea + boxBArea - interArea)\n",
    " \n",
    "\t# return the intersection over union value\n",
    "\treturn iou"
   ]
  },
  {
   "cell_type": "code",
   "execution_count": 20,
   "metadata": {},
   "outputs": [],
   "source": [
    "# x_train = [image_name_train, human_boxes_train, human_boxes_scale_train, obj_boxes_train, obj_boxes_scale_train, obj_classes_train]\n",
    "# x_val = [image_name_val,human_boxes_val,human_boxes_scale_val,obj_boxes_val,obj_boxes_scale_val,obj_classes_val]\n",
    "# y_train = [action_list_train, human_gt_train, object_gt_train, obj_label_gt_train]\n",
    "# y_val = [action_list_val,human_gt_val,object_gt_val,obj_label_gt_val]\n",
    "def data_gen(x_train, y_label,batch_size=8):\n",
    "    img_stack = np.array([]).reshape(0,800,1200,3)\n",
    "    action_array_stack = np.array([]).reshape(0,1,600)\n",
    "    human_stack = np.array([]).reshape(0,1,4)\n",
    "    object_stack = np.array([]).reshape(0,1,4)\n",
    "    object_class_stack = np.array([]).reshape(0,1)\n",
    "    while True:\n",
    "        new_ind = shuffle(range(len(x_train[0])))\n",
    "        for i in new_ind:\n",
    "            if (x_train[1][i].any()) & (x_train[3][i].any()) &(y_label[3][i][0] in x_train[5][i]):\n",
    "                \n",
    "                human_iou_list = []\n",
    "                for k in x_train[2][i]:\n",
    "                    human_iou_list.append(bb_intersection_over_union(y_label[1][i],k))\n",
    "                object_iou_list = []\n",
    "                for j in x_train[4][i]:\n",
    "                    object_iou_list.append(bb_intersection_over_union(y_label[1][i],j))\n",
    "                \n",
    "                ho_pair_h = x_train[1][i][np.argmax(human_iou_list)]\n",
    "                ho_pair_o = x_train[3][i][np.argmax((x_train[5][i]==y_label[3][i][0])*object_iou_list)]\n",
    "                ho_pair_h = np.expand_dims(ho_pair_h,axis=0)\n",
    "                ho_pair_h = np.expand_dims(ho_pair_h,axis=0)\n",
    "                ho_pair_o = np.expand_dims(ho_pair_o,axis=0)\n",
    "                ho_pair_o = np.expand_dims(ho_pair_o,axis=0)\n",
    "\n",
    "                object_class = x_train[5][i][np.argmax((x_train[5][i]==y_label[3][i][0])*object_iou_list)]\n",
    "                object_class = np.expand_dims(object_class,axis=0)\n",
    "                object_class = np.expand_dims(object_class,axis=0)\n",
    "\n",
    "                \n",
    "                img = cv2.imread(x_train[0][i])[:,:,::-1]\n",
    "                img = cv2.resize(img, (1200,800))\n",
    "                img = img/255\n",
    "                img = np.expand_dims(img,axis=0)\n",
    "                \n",
    "                action_array = y_label[0][i]\n",
    "                action_array = np.expand_dims(action_array,axis=0)\n",
    "                action_array = np.expand_dims(action_array,axis=0)\n",
    "\n",
    "\n",
    "                img_stack = np.row_stack([img_stack,img])\n",
    "                action_array_stack = np.row_stack([action_array_stack,action_array])\n",
    "                human_stack = np.row_stack([human_stack,ho_pair_h])\n",
    "                object_stack = np.row_stack([object_stack,ho_pair_o])\n",
    "                object_class_stack = np.row_stack([object_class_stack,object_class])\n",
    "                \n",
    "                if img_stack.shape[0]==batch_size:\n",
    "                    x_batch = [img_stack,human_stack,object_stack,object_class_stack]\n",
    "                    y_batch = [action_array_stack,object_class_stack]\n",
    "                    img_stack = np.array([]).reshape(0,800,1200,3)\n",
    "                    action_array_stack = np.array([]).reshape(0,1,600)\n",
    "                    human_stack = np.array([]).reshape(0,1,4)\n",
    "                    object_stack = np.array([]).reshape(0,1,4)\n",
    "                    object_class_stack = np.array([]).reshape(0,1)\n",
    "                    yield x_batch, y_batch"
   ]
  },
  {
   "cell_type": "code",
   "execution_count": 30,
   "metadata": {},
   "outputs": [],
   "source": [
    "batch=8\n",
    "train_gen = data_gen(x_train,y_train,batch)\n",
    "val_gen = data_gen(x_val,y_val,batch)"
   ]
  },
  {
   "cell_type": "code",
   "execution_count": 31,
   "metadata": {},
   "outputs": [
    {
     "data": {
      "text/plain": [
       "(25232, 1329)"
      ]
     },
     "execution_count": 31,
     "metadata": {},
     "output_type": "execute_result"
    }
   ],
   "source": [
    "len(x_train[0]),len(x_val[0])"
   ]
  },
  {
   "cell_type": "code",
   "execution_count": 137,
   "metadata": {},
   "outputs": [],
   "source": [
    "# a,b = next(train_gen)\n",
    "# a[0].shape,a[1].shape,a[2].shape,a[3].shape,b[0].shape,b[1].shape"
   ]
  },
  {
   "cell_type": "markdown",
   "metadata": {},
   "source": [
    "# 爆Train一發"
   ]
  },
  {
   "cell_type": "code",
   "execution_count": 68,
   "metadata": {},
   "outputs": [],
   "source": [
    "# #multiGPU在lamdba layer會有問題\n",
    "# model_multi = keras.utils.multi_gpu_model(model,gpus=2)\n",
    "# opt = keras.optimizers.Adam()\n",
    "\n",
    "# model_multi.compile(loss='binary_crossentropy',\n",
    "#               optimizer=opt,loss_weights=[1,0])"
   ]
  },
  {
   "cell_type": "code",
   "execution_count": 160,
   "metadata": {},
   "outputs": [
    {
     "name": "stdout",
     "output_type": "stream",
     "text": [
      "Epoch 1/100\n",
      " 583/3154 [====>.........................] - ETA: 33:34 - loss: 0.0111 - dense_4_loss: 0.0111 - activation_1_loss: -386.4730"
     ]
    },
    {
     "name": "stderr",
     "output_type": "stream",
     "text": [
      "/opt/conda/lib/python3.6/site-packages/ipykernel_launcher.py:21: RuntimeWarning: divide by zero encountered in true_divide\n",
      "/opt/conda/lib/python3.6/site-packages/ipykernel_launcher.py:24: RuntimeWarning: invalid value encountered in multiply\n",
      "/opt/conda/lib/python3.6/site-packages/ipykernel_launcher.py:30: RuntimeWarning: invalid value encountered in multiply\n"
     ]
    },
    {
     "name": "stdout",
     "output_type": "stream",
     "text": [
      "3154/3154 [==============================] - 2958s 938ms/step - loss: 0.0099 - dense_4_loss: 0.0099 - activation_1_loss: -397.6024 - val_loss: 0.0161 - val_dense_4_loss: 0.0161 - val_activation_1_loss: -397.1311\n",
      "Epoch 2/100\n",
      "3154/3154 [==============================] - 6874s 2s/step - loss: 0.0059 - dense_4_loss: 0.0059 - activation_1_loss: -399.7355 - val_loss: 0.0197 - val_dense_4_loss: 0.0197 - val_activation_1_loss: -401.6809\n",
      "Epoch 3/100\n",
      "3154/3154 [==============================] - 1840s 584ms/step - loss: 0.0031 - dense_4_loss: 0.0031 - activation_1_loss: -399.3437 - val_loss: 0.0265 - val_dense_4_loss: 0.0265 - val_activation_1_loss: -395.2703\n"
     ]
    },
    {
     "data": {
      "text/plain": [
       "<keras.callbacks.History at 0x7f2b18257da0>"
      ]
     },
     "execution_count": 160,
     "metadata": {},
     "output_type": "execute_result"
    }
   ],
   "source": [
    "model.fit_generator(train_gen,steps_per_epoch=int(25232/batch),epochs=100,\n",
    "                    validation_data=val_gen,validation_steps=int(1329/batch),callbacks=[earlystop])\n",
    "# model.fit_generator(train_gen,steps_per_epoch=10,epochs=2,validation_data=val_gen,validation_steps=2)\n",
    "# model_multi.fit_generator(train_gen,steps_per_epoch=30,epochs=10,validation_data=val_gen,validation_steps=2)\n"
   ]
  },
  {
   "cell_type": "code",
   "execution_count": 45,
   "metadata": {},
   "outputs": [],
   "source": [
    "model_json = model.to_json()\n",
    "with open(\"/home/jovyan/hico_model.json\", \"w\") as json_file:\n",
    "    json_file.write(model_json)\n",
    "# serialize weights to HDF5\n",
    "model.save_weights('/home/jovyan/hico_second_try.h5')\n"
   ]
  },
  {
   "cell_type": "markdown",
   "metadata": {},
   "source": [
    "# check training result"
   ]
  },
  {
   "cell_type": "code",
   "execution_count": 46,
   "metadata": {},
   "outputs": [],
   "source": [
    "json_file = open('/home/jovyan/hico_model.json', 'r')\n",
    "model_json = json_file.read()\n",
    "json_file.close()\n",
    "model = keras.models.model_from_json(model_json)\n",
    "model.load_weights('/home/jovyan/hico_second_try.h5')"
   ]
  },
  {
   "cell_type": "code",
   "execution_count": 22,
   "metadata": {},
   "outputs": [],
   "source": [
    "with open('../hoi_dict.json', 'r') as f:\n",
    "    hoi_dict = json.load(f)\n",
    "visualize_gen = data_gen(x_train,y_train,batch_size=1)"
   ]
  },
  {
   "cell_type": "code",
   "execution_count": 34,
   "metadata": {},
   "outputs": [
    {
     "name": "stdout",
     "output_type": "stream",
     "text": [
      "pred_id&score:  [[467, 0.85836297], [470, 0.80333132], [472, 0.84393972]]\n",
      "pred_hoi:  [['inspect', 'skis'], ['repair', 'skis'], ['stand_on', 'skis']]\n",
      "gt_id:  [467, 470, 472]\n",
      "gt_hoi:  [['inspect', 'skis'], ['repair', 'skis'], ['stand_on', 'skis']]\n"
     ]
    },
    {
     "data": {
      "text/plain": [
       "<matplotlib.image.AxesImage at 0x7f60200718d0>"
      ]
     },
     "execution_count": 34,
     "metadata": {},
     "output_type": "execute_result"
    },
    {
     "data": {
      "image/png": "[encoded data removed]",
      "text/plain": [
       "<matplotlib.figure.Figure at 0x7f6174c99cc0>"
      ]
     },
     "metadata": {},
     "output_type": "display_data"
    }
   ],
   "source": [
    "a,b= next(visualize_gen)\n",
    "pred = model.predict_on_batch(a)\n",
    "pred_id=[index for index, value in enumerate((pred[0][0][0]>0.4).tolist()) if value == 1]\n",
    "gt_id=[index for index, value in enumerate(b[0][0][0].tolist()) if value == 1]\n",
    "print('pred_id&score: ',[[item,pred[0][0][0][item]] for item in pred_id])\n",
    "print('pred_hoi: ',[hoi_dict[str(item)] for item in pred_id])\n",
    "print('gt_id: ',gt_id)\n",
    "print('gt_hoi: ',[hoi_dict[str(item)] for item in gt_id])\n",
    "plt.imshow(a[0][0])"
   ]
  },
  {
   "cell_type": "code",
   "execution_count": null,
   "metadata": {},
   "outputs": [],
   "source": []
  }
 ],
 "metadata": {
  "kernelspec": {
   "display_name": "Python 3",
   "language": "python",
   "name": "python3"
  },
  "language_info": {
   "codemirror_mode": {
    "name": "ipython",
    "version": 3
   },
   "file_extension": ".py",
   "mimetype": "text/x-python",
   "name": "python",
   "nbconvert_exporter": "python",
   "pygments_lexer": "ipython3",
   "version": "3.6.3"
  }
 },
 "nbformat": 4,
 "nbformat_minor": 2
}
