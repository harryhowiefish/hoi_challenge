{
 "cells": [
  {
   "cell_type": "code",
   "execution_count": 1,
   "metadata": {},
   "outputs": [
    {
     "name": "stderr",
     "output_type": "stream",
     "text": [
      "Using TensorFlow backend.\n"
     ]
    }
   ],
   "source": [
    "import pandas as pd\n",
    "import cv2\n",
    "import os\n",
    "import numpy as np\n",
    "import time\n",
    "import matplotlib.pyplot as plt\n",
    "%matplotlib inline\n",
    "import json\n",
    "import pickle\n",
    "# import tensorflow as tf\n",
    "import keras\n",
    "import keras.backend as K\n",
    "# from keras_retinanet.models.resnet import custom_objects\n",
    "# from keras_retinanet.models.resnet import resnet_retinanet as retinanet, custom_objects, download_imagenet\n",
    "# import keras_retinanet\n",
    "# import keras_retinanet.bin.train\n",
    "from sklearn.utils import shuffle \n",
    "from tqdm import tqdm_notebook as tqdm"
   ]
  },
  {
   "cell_type": "code",
   "execution_count": 2,
   "metadata": {},
   "outputs": [],
   "source": [
    "json_file = open('/home/jovyan/hico_model.json', 'r')\n",
    "model_json = json_file.read()\n",
    "json_file.close()\n",
    "model = keras.models.model_from_json(model_json)\n",
    "model.load_weights('/home/jovyan/hico_second_try.h5')"
   ]
  },
  {
   "cell_type": "code",
   "execution_count": 3,
   "metadata": {},
   "outputs": [
    {
     "name": "stdout",
     "output_type": "stream",
     "text": [
      "__________________________________________________________________________________________________\n",
      "Layer (type)                    Output Shape         Param #     Connected to                     \n",
      "==================================================================================================\n",
      "input_8 (InputLayer)            (None, None, 4)      0                                            \n",
      "__________________________________________________________________________________________________\n",
      "input_6 (InputLayer)            (None, None, 4)      0                                            \n",
      "__________________________________________________________________________________________________\n",
      "lambda_5 (Lambda)               (None, None, 2, 4)   0           input_8[0][0]                    \n",
      "                                                                 input_6[0][0]                    \n",
      "__________________________________________________________________________________________________\n",
      "input_5 (InputLayer)            (None, 800, 1200, 3) 0                                            \n",
      "__________________________________________________________________________________________________\n",
      "lambda_6 (Lambda)               [(None, None, 200, 2 0           lambda_5[0][0]                   \n",
      "                                                                 input_5[0][0]                    \n",
      "__________________________________________________________________________________________________\n",
      "lambda_7 (Lambda)               [(None, None, 200, 2 0           lambda_5[0][0]                   \n",
      "                                                                 input_5[0][0]                    \n",
      "__________________________________________________________________________________________________\n",
      "lambda_8 (Lambda)               (None, None, 128, 12 0           lambda_5[0][0]                   \n",
      "__________________________________________________________________________________________________\n",
      "time_distributed_25 (TimeDistri (None, None, 200, 20 448         lambda_6[0][0]                   \n",
      "__________________________________________________________________________________________________\n",
      "time_distributed_33 (TimeDistri (None, None, 200, 20 448         lambda_7[0][0]                   \n",
      "__________________________________________________________________________________________________\n",
      "time_distributed_41 (TimeDistri (None, None, 128, 12 448         lambda_8[0][0]                   \n",
      "__________________________________________________________________________________________________\n",
      "time_distributed_26 (TimeDistri (None, None, 66, 66, 0           time_distributed_25[0][0]        \n",
      "__________________________________________________________________________________________________\n",
      "time_distributed_34 (TimeDistri (None, None, 66, 66, 0           time_distributed_33[0][0]        \n",
      "__________________________________________________________________________________________________\n",
      "time_distributed_42 (TimeDistri (None, None, 64, 64, 0           time_distributed_41[0][0]        \n",
      "__________________________________________________________________________________________________\n",
      "time_distributed_27 (TimeDistri (None, None, 66, 66, 4640        time_distributed_26[0][0]        \n",
      "__________________________________________________________________________________________________\n",
      "time_distributed_35 (TimeDistri (None, None, 66, 66, 4640        time_distributed_34[0][0]        \n",
      "__________________________________________________________________________________________________\n",
      "time_distributed_43 (TimeDistri (None, None, 64, 64, 4640        time_distributed_42[0][0]        \n",
      "__________________________________________________________________________________________________\n",
      "time_distributed_28 (TimeDistri (None, None, 22, 22, 0           time_distributed_27[0][0]        \n",
      "__________________________________________________________________________________________________\n",
      "time_distributed_36 (TimeDistri (None, None, 22, 22, 0           time_distributed_35[0][0]        \n",
      "__________________________________________________________________________________________________\n",
      "time_distributed_44 (TimeDistri (None, None, 32, 32, 0           time_distributed_43[0][0]        \n",
      "__________________________________________________________________________________________________\n",
      "time_distributed_29 (TimeDistri (None, None, 22, 22, 9248        time_distributed_28[0][0]        \n",
      "__________________________________________________________________________________________________\n",
      "time_distributed_37 (TimeDistri (None, None, 22, 22, 9248        time_distributed_36[0][0]        \n",
      "__________________________________________________________________________________________________\n",
      "time_distributed_45 (TimeDistri (None, None, 32, 32, 9248        time_distributed_44[0][0]        \n",
      "__________________________________________________________________________________________________\n",
      "time_distributed_30 (TimeDistri (None, None, 7, 7, 3 0           time_distributed_29[0][0]        \n",
      "__________________________________________________________________________________________________\n",
      "time_distributed_38 (TimeDistri (None, None, 7, 7, 3 0           time_distributed_37[0][0]        \n",
      "__________________________________________________________________________________________________\n",
      "time_distributed_46 (TimeDistri (None, None, 16, 16, 0           time_distributed_45[0][0]        \n",
      "__________________________________________________________________________________________________\n",
      "time_distributed_31 (TimeDistri (None, None, 1568)   0           time_distributed_30[0][0]        \n",
      "__________________________________________________________________________________________________\n",
      "time_distributed_39 (TimeDistri (None, None, 1568)   0           time_distributed_38[0][0]        \n",
      "__________________________________________________________________________________________________\n",
      "time_distributed_47 (TimeDistri (None, None, 8192)   0           time_distributed_46[0][0]        \n",
      "__________________________________________________________________________________________________\n",
      "time_distributed_32 (TimeDistri (None, None, 600)    941400      time_distributed_31[0][0]        \n",
      "__________________________________________________________________________________________________\n",
      "time_distributed_40 (TimeDistri (None, None, 600)    941400      time_distributed_39[0][0]        \n",
      "__________________________________________________________________________________________________\n",
      "time_distributed_48 (TimeDistri (None, None, 600)    4915800     time_distributed_47[0][0]        \n",
      "__________________________________________________________________________________________________\n",
      "add_2 (Add)                     (None, None, 600)    0           time_distributed_32[0][0]        \n",
      "                                                                 time_distributed_40[0][0]        \n",
      "                                                                 time_distributed_48[0][0]        \n",
      "__________________________________________________________________________________________________\n",
      "input_7 (InputLayer)            (None, None)         0                                            \n",
      "__________________________________________________________________________________________________\n",
      "dense_8 (Dense)                 (None, None, 600)    360600      add_2[0][0]                      \n",
      "__________________________________________________________________________________________________\n",
      "activation_2 (Activation)       (None, None)         0           input_7[0][0]                    \n",
      "==================================================================================================\n",
      "Total params: 7,202,208\n",
      "Trainable params: 7,202,208\n",
      "Non-trainable params: 0\n",
      "__________________________________________________________________________________________________\n"
     ]
    }
   ],
   "source": [
    "model.summary()"
   ]
  },
  {
   "cell_type": "code",
   "execution_count": 3,
   "metadata": {},
   "outputs": [],
   "source": [
    "train_data = pd.read_json('../train_data_simple.json')\n",
    "train_data = train_data.sort_index()\n",
    "retinanet_train_data = pd.read_json('retinanet_train_data.json')\n",
    "retinanet_train_data = retinanet_train_data.sort_index()\n",
    "with open('../hoi_dict.json', 'r') as f:\n",
    "    hoi_dict = json.load(f)\n",
    "with open('../obj_dict.json', 'r') as f:\n",
    "    obj_dict = json.load(f)\n",
    "obj_word_to_id = {v:int(k) for k,v in obj_dict.items()}"
   ]
  },
  {
   "cell_type": "code",
   "execution_count": 9,
   "metadata": {},
   "outputs": [],
   "source": [
    "def train_data_gen(retinanet_train_data,train_data,id_):\n",
    "    img_stack = np.array([]).reshape(0,800,1200,3)\n",
    "    human_stack = np.array([]).reshape(0,4)\n",
    "    object_stack = np.array([]).reshape(0,4)\n",
    "    object_class_stack = np.array([]).reshape(1,0)\n",
    "            #image\n",
    "    img = cv2.imread(os.path.join('/home/jovyan/projectdata/cht01/hico_20160224_det/images/train2015/',train_data['name'][id_]))\n",
    "    img = cv2.resize(img, (1200,800))\n",
    "    img = img/255\n",
    "    img = np.expand_dims(img,axis=0)\n",
    "    img_stack = np.row_stack([img_stack,img])\n",
    "\n",
    "            \n",
    "            #human object bbox pair & object class\n",
    "    for i in range(len(retinanet_train_data.human_boxes[id_])):\n",
    "        if (np.max(retinanet_train_data.human_scores[id_]) >0.5) & (retinanet_train_data.human_scores[id_][i]<0.5):\n",
    "            continue\n",
    "        ho_pair_h = retinanet_train_data.human_boxes[id_][i]\n",
    "        ho_pair_h = np.expand_dims(ho_pair_h,axis=0)\n",
    "#         ho_pair_h = np.expand_dims(ho_pair_h,axis=0)\n",
    "        human_stack = np.row_stack([human_stack,ho_pair_h])\n",
    "\n",
    "    for j in range(len(retinanet_train_data.obj_boxes[id_])):\n",
    "        if (np.max(retinanet_train_data.obj_scores[id_]) >0.5) & (retinanet_train_data.obj_scores[id_][j]<0.5):\n",
    "            continue\n",
    "#         print(j)\n",
    "        ho_pair_o = retinanet_train_data.obj_boxes[id_][j]\n",
    "        object_class = retinanet_train_data.obj_classes[id_][j]\n",
    "        ho_pair_o = np.expand_dims(ho_pair_o,axis=0)\n",
    "#       ho_pair_o = np.expand_dims(ho_pair_o,axis=0)\n",
    "\n",
    "#       object_class = np.expand_dims(object_class,axis=0)\n",
    "            \n",
    "#       img_stack = np.row_stack([img_stack,img])\n",
    "        object_stack = np.row_stack([object_stack,ho_pair_o])\n",
    "        object_class_stack = np.column_stack([object_class_stack,object_class])\n",
    "#     img_stack = np.expand_dims(img_stack,axis=0)\n",
    "    human_stack = np.expand_dims(human_stack,axis=0)\n",
    "    object_stack = np.expand_dims(object_stack,axis=0)\n",
    "#     object_class_stack = np.expand_dims(object_class_stack,axis=0)\n",
    "    train_batch = [img_stack,human_stack,object_stack,object_class_stack]\n",
    "    return train_batch"
   ]
  },
  {
   "cell_type": "code",
   "execution_count": 10,
   "metadata": {},
   "outputs": [
    {
     "data": {
      "text/plain": [
       "((1, 800, 1200, 3), (1, 1, 4), (1, 8, 4), (1, 8))"
      ]
     },
     "execution_count": 10,
     "metadata": {},
     "output_type": "execute_result"
    }
   ],
   "source": [
    "test_one_img = train_data_gen(retinanet_train_data,train_data,1)\n",
    "test_one_img[0].shape,test_one_img[1].shape,test_one_img[2].shape,test_one_img[3].shape"
   ]
  },
  {
   "cell_type": "code",
   "execution_count": 12,
   "metadata": {},
   "outputs": [
    {
     "data": {
      "application/vnd.jupyter.widget-view+json": {
       "model_id": "f59e7f46c7d24401a16de56f18c48e4a",
       "version_major": 2,
       "version_minor": 0
      },
      "text/html": [
       "<p>Failed to display Jupyter Widget of type <code>HBox</code>.</p>\n",
       "<p>\n",
       "  If you're reading this message in the Jupyter Notebook or JupyterLab Notebook, it may mean\n",
       "  that the widgets JavaScript is still loading. If this message persists, it\n",
       "  likely means that the widgets JavaScript library is either not installed or\n",
       "  not enabled. See the <a href=\"https://ipywidgets.readthedocs.io/en/stable/user_install.html\">Jupyter\n",
       "  Widgets Documentation</a> for setup instructions.\n",
       "</p>\n",
       "<p>\n",
       "  If you're reading this message in another frontend (for example, a static\n",
       "  rendering on GitHub or <a href=\"https://nbviewer.jupyter.org/\">NBViewer</a>),\n",
       "  it may mean that your frontend doesn't currently support widgets.\n",
       "</p>\n"
      ],
      "text/plain": [
       "HBox(children=(IntProgress(value=0, max=26561), HTML(value='')))"
      ]
     },
     "metadata": {},
     "output_type": "display_data"
    },
    {
     "name": "stdout",
     "output_type": "stream",
     "text": [
      "\n"
     ]
    }
   ],
   "source": [
    "pred_all = []\n",
    "for i in tqdm(range(train_data.shape[0])):\n",
    "    train_one_img = train_data_gen(retinanet_train_data,train_data,i)\n",
    "    if train_one_img[1].any()==True:\n",
    "        pred = model.predict(train_one_img)\n",
    "    else:\n",
    "        pred = [np.array([]).reshape((1,0,600)),np.array([]).reshape((1,0))]\n",
    "    pred_all.append(pred)"
   ]
  },
  {
   "cell_type": "code",
   "execution_count": 20,
   "metadata": {},
   "outputs": [],
   "source": [
    "with open('training_predict_result','wb') as file:\n",
    "    pickle.dump(pred_all,file)"
   ]
  },
  {
   "cell_type": "markdown",
   "metadata": {},
   "source": [
    "# mAP calculation"
   ]
  },
  {
   "cell_type": "code",
   "execution_count": 4,
   "metadata": {},
   "outputs": [],
   "source": [
    "with open('training_predict_result','rb') as file:\n",
    "    pred_all = pickle.load(file)"
   ]
  },
  {
   "cell_type": "code",
   "execution_count": 5,
   "metadata": {},
   "outputs": [
    {
     "data": {
      "text/html": [
       "<div>\n",
       "<table border=\"1\" class=\"dataframe\">\n",
       "  <thead>\n",
       "    <tr style=\"text-align: right;\">\n",
       "      <th></th>\n",
       "      <th>human_boxes</th>\n",
       "      <th>human_boxes_scale</th>\n",
       "      <th>human_classes</th>\n",
       "      <th>human_scores</th>\n",
       "      <th>obj_boxes</th>\n",
       "      <th>obj_boxes_scale</th>\n",
       "      <th>obj_classes</th>\n",
       "      <th>obj_scores</th>\n",
       "    </tr>\n",
       "  </thead>\n",
       "  <tbody>\n",
       "    <tr>\n",
       "      <th>0</th>\n",
       "      <td>[[408.5285644531, 137.1702575684, 590.03033447...</td>\n",
       "      <td>[[217, 82, 314, 289], [189, 108, 388, 279], [2...</td>\n",
       "      <td>[0, 0, 0, 0]</td>\n",
       "      <td>[0.24128636720000002, 0.2087177634, 0.35492742...</td>\n",
       "      <td>[[384.8578491211, 70.9428253174, 883.437683105...</td>\n",
       "      <td>[[205, 42, 471, 217], [217, 82, 314, 289], [16...</td>\n",
       "      <td>[3, 0, 3, 3, 3, 0, 0, 0, 3]</td>\n",
       "      <td>[0.2452710122, 0.24128636720000002, 0.49595344...</td>\n",
       "    </tr>\n",
       "    <tr>\n",
       "      <th>1</th>\n",
       "      <td>[[515.2573242188, 2.3874969482, 1107.571899414...</td>\n",
       "      <td>[[274, 1, 590, 126], [401, 0, 636, 140]]</td>\n",
       "      <td>[0, 0]</td>\n",
       "      <td>[0.34479168060000004, 0.6770228148]</td>\n",
       "      <td>[[756.3471679688, 567.7899169922, 817.62744140...</td>\n",
       "      <td>[[403, 340, 436, 363], [405, 341, 436, 363], [...</td>\n",
       "      <td>[49, 51, 51, 39, 41, 39, 55, 53, 45, 41, 45, 7...</td>\n",
       "      <td>[0.2125296295, 0.235072419, 0.2925423980000000...</td>\n",
       "    </tr>\n",
       "    <tr>\n",
       "      <th>2</th>\n",
       "      <td>[]</td>\n",
       "      <td>[]</td>\n",
       "      <td>[]</td>\n",
       "      <td>[]</td>\n",
       "      <td>[[295.9039916992, 352.1661376953, 341.69757080...</td>\n",
       "      <td>[[147, 281, 170, 341], [0, 361, 15, 388], [0, ...</td>\n",
       "      <td>[9, 2, 2, 2, 2, 2, 2, 2, 2, 7, 5, 5, 5]</td>\n",
       "      <td>[0.45125731830000004, 0.2788699865, 0.64107280...</td>\n",
       "    </tr>\n",
       "    <tr>\n",
       "      <th>3</th>\n",
       "      <td>[[939.8218383789, 401.7608642578, 984.80657958...</td>\n",
       "      <td>[[501, 214, 525, 277], [130, 203, 165, 311], [...</td>\n",
       "      <td>[0, 0, 0, 0, 0, 0]</td>\n",
       "      <td>[0.6018131971, 0.2301999032, 0.3746683598, 0.9...</td>\n",
       "      <td>[[939.8218383789, 401.7608642578, 984.80657958...</td>\n",
       "      <td>[[501, 214, 525, 277], [130, 203, 165, 311], [...</td>\n",
       "      <td>[0, 0, 27, 0, 0, 0, 0]</td>\n",
       "      <td>[0.6018131971, 0.2301999032, 0.2251143306, 0.3...</td>\n",
       "    </tr>\n",
       "    <tr>\n",
       "      <th>4</th>\n",
       "      <td>[[192.0525970459, 291.7764892578, 370.51116943...</td>\n",
       "      <td>[[102, 155, 197, 265]]</td>\n",
       "      <td>[0]</td>\n",
       "      <td>[0.9221789241]</td>\n",
       "      <td>[[321.814666748, 445.8058776855, 350.372467041...</td>\n",
       "      <td>[[171, 236, 186, 261], [532, 275, 554, 292], [...</td>\n",
       "      <td>[41, 67, 39, 0, 62, 59, 60, 60, 13, 60, 59]</td>\n",
       "      <td>[0.21376061440000002, 0.2884043753, 0.73071849...</td>\n",
       "    </tr>\n",
       "  </tbody>\n",
       "</table>\n",
       "</div>"
      ],
      "text/plain": [
       "                                         human_boxes  \\\n",
       "0  [[408.5285644531, 137.1702575684, 590.03033447...   \n",
       "1  [[515.2573242188, 2.3874969482, 1107.571899414...   \n",
       "2                                                 []   \n",
       "3  [[939.8218383789, 401.7608642578, 984.80657958...   \n",
       "4  [[192.0525970459, 291.7764892578, 370.51116943...   \n",
       "\n",
       "                                   human_boxes_scale       human_classes  \\\n",
       "0  [[217, 82, 314, 289], [189, 108, 388, 279], [2...        [0, 0, 0, 0]   \n",
       "1           [[274, 1, 590, 126], [401, 0, 636, 140]]              [0, 0]   \n",
       "2                                                 []                  []   \n",
       "3  [[501, 214, 525, 277], [130, 203, 165, 311], [...  [0, 0, 0, 0, 0, 0]   \n",
       "4                             [[102, 155, 197, 265]]                 [0]   \n",
       "\n",
       "                                        human_scores  \\\n",
       "0  [0.24128636720000002, 0.2087177634, 0.35492742...   \n",
       "1                [0.34479168060000004, 0.6770228148]   \n",
       "2                                                 []   \n",
       "3  [0.6018131971, 0.2301999032, 0.3746683598, 0.9...   \n",
       "4                                     [0.9221789241]   \n",
       "\n",
       "                                           obj_boxes  \\\n",
       "0  [[384.8578491211, 70.9428253174, 883.437683105...   \n",
       "1  [[756.3471679688, 567.7899169922, 817.62744140...   \n",
       "2  [[295.9039916992, 352.1661376953, 341.69757080...   \n",
       "3  [[939.8218383789, 401.7608642578, 984.80657958...   \n",
       "4  [[321.814666748, 445.8058776855, 350.372467041...   \n",
       "\n",
       "                                     obj_boxes_scale  \\\n",
       "0  [[205, 42, 471, 217], [217, 82, 314, 289], [16...   \n",
       "1  [[403, 340, 436, 363], [405, 341, 436, 363], [...   \n",
       "2  [[147, 281, 170, 341], [0, 361, 15, 388], [0, ...   \n",
       "3  [[501, 214, 525, 277], [130, 203, 165, 311], [...   \n",
       "4  [[171, 236, 186, 261], [532, 275, 554, 292], [...   \n",
       "\n",
       "                                         obj_classes  \\\n",
       "0                        [3, 0, 3, 3, 3, 0, 0, 0, 3]   \n",
       "1  [49, 51, 51, 39, 41, 39, 55, 53, 45, 41, 45, 7...   \n",
       "2            [9, 2, 2, 2, 2, 2, 2, 2, 2, 7, 5, 5, 5]   \n",
       "3                             [0, 0, 27, 0, 0, 0, 0]   \n",
       "4        [41, 67, 39, 0, 62, 59, 60, 60, 13, 60, 59]   \n",
       "\n",
       "                                          obj_scores  \n",
       "0  [0.2452710122, 0.24128636720000002, 0.49595344...  \n",
       "1  [0.2125296295, 0.235072419, 0.2925423980000000...  \n",
       "2  [0.45125731830000004, 0.2788699865, 0.64107280...  \n",
       "3  [0.6018131971, 0.2301999032, 0.2251143306, 0.3...  \n",
       "4  [0.21376061440000002, 0.2884043753, 0.73071849...  "
      ]
     },
     "execution_count": 5,
     "metadata": {},
     "output_type": "execute_result"
    }
   ],
   "source": [
    "retinanet_train_data.head()"
   ]
  },
  {
   "cell_type": "code",
   "execution_count": 6,
   "metadata": {},
   "outputs": [],
   "source": [
    "#先跑object loop再跑human loop\n",
    "#bbox = (x1,y1,x2,y2)\n",
    "def bbox_gen(retinanet_train_data,id_):\n",
    "    human_stack = np.array([]).reshape(0,4)\n",
    "    object_stack = np.array([]).reshape(0,4)\n",
    "    object_class_stack = np.array([]).reshape(0,1)\n",
    "\n",
    "    for i in range(len(retinanet_train_data.human_boxes_scale[id_])):\n",
    "        if (np.max(retinanet_train_data.human_scores[id_]) >0.5) & (retinanet_train_data.human_scores[id_][i]<0.5):\n",
    "            continue\n",
    "        ho_pair_h = retinanet_train_data.human_boxes_scale[id_][i]\n",
    "        ho_pair_h = np.expand_dims(ho_pair_h,axis=0)\n",
    "\n",
    "        for j in range(len(retinanet_train_data.obj_boxes_scale[id_])):\n",
    "            if (np.max(retinanet_train_data.obj_scores[id_]) >0.5) & (retinanet_train_data.obj_scores[id_][j]<0.5):\n",
    "                continue\n",
    "            ho_pair_o = retinanet_train_data.obj_boxes_scale[id_][j]\n",
    "            ho_pair_o = np.expand_dims(ho_pair_o,axis=0)\n",
    "            \n",
    "            object_class = retinanet_train_data.obj_classes[id_][j]\n",
    "            object_class = np.expand_dims(object_class,axis=0)\n",
    "            \n",
    "            human_stack = np.row_stack([human_stack,ho_pair_h])\n",
    "            object_stack = np.row_stack([object_stack,ho_pair_o])\n",
    "            object_class_stack = np.row_stack([object_class_stack,object_class])\n",
    "    object_class_stack = np.squeeze(object_class_stack)\n",
    "    \n",
    "    ho_bbox = [human_stack,object_stack,object_class_stack]\n",
    "    return ho_bbox"
   ]
  },
  {
   "cell_type": "code",
   "execution_count": 8,
   "metadata": {},
   "outputs": [
    {
     "data": {
      "application/vnd.jupyter.widget-view+json": {
       "model_id": "b01cb5e2f08543f98a78cdd3c227b575",
       "version_major": 2,
       "version_minor": 0
      },
      "text/html": [
       "<p>Failed to display Jupyter Widget of type <code>HBox</code>.</p>\n",
       "<p>\n",
       "  If you're reading this message in the Jupyter Notebook or JupyterLab Notebook, it may mean\n",
       "  that the widgets JavaScript is still loading. If this message persists, it\n",
       "  likely means that the widgets JavaScript library is either not installed or\n",
       "  not enabled. See the <a href=\"https://ipywidgets.readthedocs.io/en/stable/user_install.html\">Jupyter\n",
       "  Widgets Documentation</a> for setup instructions.\n",
       "</p>\n",
       "<p>\n",
       "  If you're reading this message in another frontend (for example, a static\n",
       "  rendering on GitHub or <a href=\"https://nbviewer.jupyter.org/\">NBViewer</a>),\n",
       "  it may mean that your frontend doesn't currently support widgets.\n",
       "</p>\n"
      ],
      "text/plain": [
       "HBox(children=(IntProgress(value=0, max=26561), HTML(value='')))"
      ]
     },
     "metadata": {},
     "output_type": "display_data"
    },
    {
     "name": "stdout",
     "output_type": "stream",
     "text": [
      "\n"
     ]
    }
   ],
   "source": [
    "result_action = []\n",
    "result_h_bbox =[]\n",
    "result_o_bbox = []\n",
    "result_o_class = []\n",
    "for i in tqdm(range(len(retinanet_train_data))):\n",
    "    temp = bbox_gen(retinanet_train_data,i)\n",
    "    result_action.append(pred_all[i][0][0])\n",
    "    result_h_bbox.append(temp[0])\n",
    "    result_o_bbox.append(temp[1])\n",
    "    result_o_class.append(temp[2])"
   ]
  },
  {
   "cell_type": "code",
   "execution_count": 9,
   "metadata": {},
   "outputs": [
    {
     "name": "stdout",
     "output_type": "stream",
     "text": [
      "0\n"
     ]
    },
    {
     "data": {
      "text/plain": [
       "((2, 600), (2, 4), (2, 4), (2,))"
      ]
     },
     "execution_count": 9,
     "metadata": {},
     "output_type": "execute_result"
    }
   ],
   "source": [
    "id_=0\n",
    "# id_+=1\n",
    "print(id_)\n",
    "result_action[id_].shape,result_h_bbox[id_].shape,result_o_bbox[id_].shape,result_o_class[id_].shape"
   ]
  },
  {
   "cell_type": "code",
   "execution_count": 11,
   "metadata": {},
   "outputs": [
    {
     "data": {
      "text/html": [
       "<div>\n",
       "<table border=\"1\" class=\"dataframe\">\n",
       "  <thead>\n",
       "    <tr style=\"text-align: right;\">\n",
       "      <th></th>\n",
       "      <th>action_no</th>\n",
       "      <th>human_bbox</th>\n",
       "      <th>name</th>\n",
       "      <th>obj_id</th>\n",
       "      <th>obj_list</th>\n",
       "      <th>object_bbox</th>\n",
       "      <th>size</th>\n",
       "    </tr>\n",
       "  </thead>\n",
       "  <tbody>\n",
       "    <tr>\n",
       "      <th>0</th>\n",
       "      <td>[153, 154, 155, 156]</td>\n",
       "      <td>[209, 434, 28, 320]</td>\n",
       "      <td>HICO_train2015_00000001.jpg</td>\n",
       "      <td>[3]</td>\n",
       "      <td>[motorcycle]</td>\n",
       "      <td>[64, 576, 103, 399]</td>\n",
       "      <td>[640, 480, 3]</td>\n",
       "    </tr>\n",
       "    <tr>\n",
       "      <th>1</th>\n",
       "      <td>[224]</td>\n",
       "      <td>[262, 638, 1, 138]</td>\n",
       "      <td>HICO_train2015_00000002.jpg</td>\n",
       "      <td>[46]</td>\n",
       "      <td>[banana]</td>\n",
       "      <td>[162, 258, 131, 165]</td>\n",
       "      <td>[640, 480, 3]</td>\n",
       "    </tr>\n",
       "    <tr>\n",
       "      <th>2</th>\n",
       "      <td>[65]</td>\n",
       "      <td>[567, 580, 361, 390]</td>\n",
       "      <td>HICO_train2015_00000003.jpg</td>\n",
       "      <td>[5]</td>\n",
       "      <td>[bus]</td>\n",
       "      <td>[74, 510, 52, 484]</td>\n",
       "      <td>[599, 640, 3]</td>\n",
       "    </tr>\n",
       "    <tr>\n",
       "      <th>3</th>\n",
       "      <td>[48, 49]</td>\n",
       "      <td>[222, 484, 29, 370]</td>\n",
       "      <td>HICO_train2015_00000004.jpg</td>\n",
       "      <td>[39]</td>\n",
       "      <td>[bottle]</td>\n",
       "      <td>[265, 365, 87, 122]</td>\n",
       "      <td>[640, 427, 3]</td>\n",
       "    </tr>\n",
       "    <tr>\n",
       "      <th>4</th>\n",
       "      <td>[242]</td>\n",
       "      <td>[82, 203, 154, 272]</td>\n",
       "      <td>HICO_train2015_00000005.jpg</td>\n",
       "      <td>[59]</td>\n",
       "      <td>[bed]</td>\n",
       "      <td>[1, 313, 176, 422]</td>\n",
       "      <td>[640, 425, 3]</td>\n",
       "    </tr>\n",
       "  </tbody>\n",
       "</table>\n",
       "</div>"
      ],
      "text/plain": [
       "              action_no            human_bbox                         name  \\\n",
       "0  [153, 154, 155, 156]   [209, 434, 28, 320]  HICO_train2015_00000001.jpg   \n",
       "1                 [224]    [262, 638, 1, 138]  HICO_train2015_00000002.jpg   \n",
       "2                  [65]  [567, 580, 361, 390]  HICO_train2015_00000003.jpg   \n",
       "3              [48, 49]   [222, 484, 29, 370]  HICO_train2015_00000004.jpg   \n",
       "4                 [242]   [82, 203, 154, 272]  HICO_train2015_00000005.jpg   \n",
       "\n",
       "  obj_id      obj_list           object_bbox           size  \n",
       "0    [3]  [motorcycle]   [64, 576, 103, 399]  [640, 480, 3]  \n",
       "1   [46]      [banana]  [162, 258, 131, 165]  [640, 480, 3]  \n",
       "2    [5]         [bus]    [74, 510, 52, 484]  [599, 640, 3]  \n",
       "3   [39]      [bottle]   [265, 365, 87, 122]  [640, 427, 3]  \n",
       "4   [59]         [bed]    [1, 313, 176, 422]  [640, 425, 3]  "
      ]
     },
     "execution_count": 11,
     "metadata": {},
     "output_type": "execute_result"
    }
   ],
   "source": [
    "train_data.head()"
   ]
  },
  {
   "cell_type": "code",
   "execution_count": 26,
   "metadata": {},
   "outputs": [
    {
     "data": {
      "text/plain": [
       "array([209,  28, 434, 320])"
      ]
     },
     "execution_count": 26,
     "metadata": {},
     "output_type": "execute_result"
    }
   ],
   "source": [
    "np.array(train_data.human_bbox[id_])[[0,2,1,3]]"
   ]
  },
  {
   "cell_type": "code",
   "execution_count": 15,
   "metadata": {},
   "outputs": [
    {
     "ename": "IndexError",
     "evalue": "invalid index to scalar variable.",
     "output_type": "error",
     "traceback": [
      "\u001b[0;31m---------------------------------------------------------------------------\u001b[0m",
      "\u001b[0;31mIndexError\u001b[0m                                Traceback (most recent call last)",
      "\u001b[0;32m<ipython-input-15-f15abee81cc2>\u001b[0m in \u001b[0;36m<module>\u001b[0;34m()\u001b[0m\n\u001b[0;32m----> 1\u001b[0;31m \u001b[0mnp\u001b[0m\u001b[0;34m.\u001b[0m\u001b[0marray\u001b[0m\u001b[0;34m(\u001b[0m\u001b[0;34m[\u001b[0m\u001b[0;34m[\u001b[0m\u001b[0mitem\u001b[0m\u001b[0;34m[\u001b[0m\u001b[0;36m0\u001b[0m\u001b[0;34m]\u001b[0m\u001b[0;34m,\u001b[0m\u001b[0mitem\u001b[0m\u001b[0;34m[\u001b[0m\u001b[0;36m2\u001b[0m\u001b[0;34m]\u001b[0m\u001b[0;34m,\u001b[0m\u001b[0mitem\u001b[0m\u001b[0;34m[\u001b[0m\u001b[0;36m1\u001b[0m\u001b[0;34m]\u001b[0m\u001b[0;34m,\u001b[0m\u001b[0mitem\u001b[0m\u001b[0;34m[\u001b[0m\u001b[0;36m3\u001b[0m\u001b[0;34m]\u001b[0m\u001b[0;34m]\u001b[0m \u001b[0;32mfor\u001b[0m \u001b[0mitem\u001b[0m \u001b[0;32min\u001b[0m \u001b[0mnp\u001b[0m\u001b[0;34m.\u001b[0m\u001b[0marray\u001b[0m\u001b[0;34m(\u001b[0m\u001b[0mtrain_data\u001b[0m\u001b[0;34m.\u001b[0m\u001b[0mhuman_bbox\u001b[0m\u001b[0;34m[\u001b[0m\u001b[0mid_\u001b[0m\u001b[0;34m]\u001b[0m\u001b[0;34m)\u001b[0m\u001b[0;34m]\u001b[0m\u001b[0;34m)\u001b[0m\u001b[0;34m\u001b[0m\u001b[0m\n\u001b[0m",
      "\u001b[0;32m<ipython-input-15-f15abee81cc2>\u001b[0m in \u001b[0;36m<listcomp>\u001b[0;34m(.0)\u001b[0m\n\u001b[0;32m----> 1\u001b[0;31m \u001b[0mnp\u001b[0m\u001b[0;34m.\u001b[0m\u001b[0marray\u001b[0m\u001b[0;34m(\u001b[0m\u001b[0;34m[\u001b[0m\u001b[0;34m[\u001b[0m\u001b[0mitem\u001b[0m\u001b[0;34m[\u001b[0m\u001b[0;36m0\u001b[0m\u001b[0;34m]\u001b[0m\u001b[0;34m,\u001b[0m\u001b[0mitem\u001b[0m\u001b[0;34m[\u001b[0m\u001b[0;36m2\u001b[0m\u001b[0;34m]\u001b[0m\u001b[0;34m,\u001b[0m\u001b[0mitem\u001b[0m\u001b[0;34m[\u001b[0m\u001b[0;36m1\u001b[0m\u001b[0;34m]\u001b[0m\u001b[0;34m,\u001b[0m\u001b[0mitem\u001b[0m\u001b[0;34m[\u001b[0m\u001b[0;36m3\u001b[0m\u001b[0;34m]\u001b[0m\u001b[0;34m]\u001b[0m \u001b[0;32mfor\u001b[0m \u001b[0mitem\u001b[0m \u001b[0;32min\u001b[0m \u001b[0mnp\u001b[0m\u001b[0;34m.\u001b[0m\u001b[0marray\u001b[0m\u001b[0;34m(\u001b[0m\u001b[0mtrain_data\u001b[0m\u001b[0;34m.\u001b[0m\u001b[0mhuman_bbox\u001b[0m\u001b[0;34m[\u001b[0m\u001b[0mid_\u001b[0m\u001b[0;34m]\u001b[0m\u001b[0;34m)\u001b[0m\u001b[0;34m]\u001b[0m\u001b[0;34m)\u001b[0m\u001b[0;34m\u001b[0m\u001b[0m\n\u001b[0m",
      "\u001b[0;31mIndexError\u001b[0m: invalid index to scalar variable."
     ]
    }
   ],
   "source": [
    "np.array([[item[0],item[2],item[1],item[3]] for item in np.array(train_data.human_bbox[id_])])"
   ]
  },
  {
   "cell_type": "code",
   "execution_count": 28,
   "metadata": {},
   "outputs": [
    {
     "data": {
      "application/vnd.jupyter.widget-view+json": {
       "model_id": "2b4f8c511a59461bb6c45bfbc8d28ed1",
       "version_major": 2,
       "version_minor": 0
      },
      "text/html": [
       "<p>Failed to display Jupyter Widget of type <code>HBox</code>.</p>\n",
       "<p>\n",
       "  If you're reading this message in the Jupyter Notebook or JupyterLab Notebook, it may mean\n",
       "  that the widgets JavaScript is still loading. If this message persists, it\n",
       "  likely means that the widgets JavaScript library is either not installed or\n",
       "  not enabled. See the <a href=\"https://ipywidgets.readthedocs.io/en/stable/user_install.html\">Jupyter\n",
       "  Widgets Documentation</a> for setup instructions.\n",
       "</p>\n",
       "<p>\n",
       "  If you're reading this message in another frontend (for example, a static\n",
       "  rendering on GitHub or <a href=\"https://nbviewer.jupyter.org/\">NBViewer</a>),\n",
       "  it may mean that your frontend doesn't currently support widgets.\n",
       "</p>\n"
      ],
      "text/plain": [
       "HBox(children=(IntProgress(value=0, max=26561), HTML(value='')))"
      ]
     },
     "metadata": {},
     "output_type": "display_data"
    },
    {
     "name": "stdout",
     "output_type": "stream",
     "text": [
      "\n"
     ]
    }
   ],
   "source": [
    "#bbox = (x1,x2,y1,y2) >>> (x1,y1,x2,y2)\n",
    "gt_action = []\n",
    "gt_h_bbox = []\n",
    "gt_o_bbox = []\n",
    "gt_o_class = []\n",
    "for id_ in tqdm(range(len(train_data))):\n",
    "    gt_action_sublist = []\n",
    "    gt_h_bbox_sublist = []\n",
    "    gt_o_bbox_sublist = []\n",
    "    h_box = np.array(train_data.human_bbox[id_])[[0,2,1,3]]\n",
    "    o_box = np.array(train_data.object_bbox[id_])[[0,2,1,3]]\n",
    "    action_no = np.array(train_data.action_no[id_])\n",
    "    for i in action_no:\n",
    "        gt_action_sublist.append(i)\n",
    "        gt_h_bbox_sublist.append(h_box)\n",
    "        gt_o_bbox_sublist.append(o_box)\n",
    "    \n",
    "    gt_action.append(np.array(gt_action_sublist))\n",
    "    gt_h_bbox.append(np.array(gt_h_bbox_sublist))\n",
    "    gt_o_bbox.append(np.array(gt_o_bbox_sublist))\n",
    "    gt_o_class.append(np.array(gt_o_class_sublist))\n"
   ]
  },
  {
   "cell_type": "code",
   "execution_count": 30,
   "metadata": {},
   "outputs": [
    {
     "name": "stdout",
     "output_type": "stream",
     "text": [
      "0\n"
     ]
    },
    {
     "data": {
      "text/plain": [
       "((4,), (4, 4), (4, 4))"
      ]
     },
     "execution_count": 30,
     "metadata": {},
     "output_type": "execute_result"
    }
   ],
   "source": [
    "id_=0\n",
    "# id_+=1\n",
    "print(id_)\n",
    "gt_action[id_].shape,gt_h_bbox[id_].shape,gt_o_bbox[id_].shape"
   ]
  },
  {
   "cell_type": "code",
   "execution_count": 31,
   "metadata": {},
   "outputs": [],
   "source": [
    "# (x1, y1, x2, y2)\n",
    "def bb_iou(boxA,boxB):\n",
    "\t# determine the (x, y)-coordinates of the intersection rectangle\n",
    "    if boxA[0]>boxB[2] or boxA[2]<boxB[0] or boxA[1]>boxB[3] or boxA[3]<boxB[1]:\n",
    "        iou = 0\n",
    "    else:\n",
    "        xA = max(boxA[0], boxB[0])\n",
    "        yA = max(boxA[1], boxB[1])\n",
    "        xB = min(boxA[2], boxB[2])\n",
    "        yB = min(boxA[3], boxB[3])\n",
    "        # compute the area of intersection rectangle\n",
    "        interArea = (xB - xA + 1) * (yB - yA + 1)\n",
    " \n",
    "        # compute the area of both the prediction and ground-truth\n",
    "        boxAArea = (boxA[2] - boxA[0] + 1) * (boxA[3] - boxA[1] + 1)\n",
    "        boxBArea = (boxB[2] - boxB[0] + 1) * (boxB[3] - boxB[1] + 1)\n",
    " \n",
    "        # compute the intersection over union by taking the intersection\n",
    "        # area and dividing it by the sum of prediction + ground-truth\n",
    "        # areas - the interesection area\n",
    "        iou = interArea / float(boxAArea + boxBArea - interArea)\n",
    " \n",
    "    # return the intersection over union value\n",
    "    return iou"
   ]
  },
  {
   "cell_type": "code",
   "execution_count": 33,
   "metadata": {},
   "outputs": [
    {
     "data": {
      "application/vnd.jupyter.widget-view+json": {
       "model_id": "688322b0e28043e58281d777a931f7bc",
       "version_major": 2,
       "version_minor": 0
      },
      "text/html": [
       "<p>Failed to display Jupyter Widget of type <code>HBox</code>.</p>\n",
       "<p>\n",
       "  If you're reading this message in the Jupyter Notebook or JupyterLab Notebook, it may mean\n",
       "  that the widgets JavaScript is still loading. If this message persists, it\n",
       "  likely means that the widgets JavaScript library is either not installed or\n",
       "  not enabled. See the <a href=\"https://ipywidgets.readthedocs.io/en/stable/user_install.html\">Jupyter\n",
       "  Widgets Documentation</a> for setup instructions.\n",
       "</p>\n",
       "<p>\n",
       "  If you're reading this message in another frontend (for example, a static\n",
       "  rendering on GitHub or <a href=\"https://nbviewer.jupyter.org/\">NBViewer</a>),\n",
       "  it may mean that your frontend doesn't currently support widgets.\n",
       "</p>\n"
      ],
      "text/plain": [
       "HBox(children=(IntProgress(value=0, max=26561), HTML(value='')))"
      ]
     },
     "metadata": {},
     "output_type": "display_data"
    },
    {
     "name": "stdout",
     "output_type": "stream",
     "text": [
      "\n"
     ]
    }
   ],
   "source": [
    "#first_try\n",
    "AP_list = []\n",
    "for id_ in tqdm(range(len(result_h_bbox))):\n",
    "# for id_ in tqdm(range(1,2)):   \n",
    "    AP_sublist = []\n",
    "    for action_id in gt_action[id_]:\n",
    "        gt_1action_h_bbox = gt_h_bbox[id_][gt_action[id_]==action_id]\n",
    "        gt_1action_o_bbox = gt_o_bbox[id_][gt_action[id_]==action_id]\n",
    "        gt_1action_action = gt_action[id_][gt_action[id_]==action_id]\n",
    "        gt_match = np.zeros([gt_1action_h_bbox.shape[0]])\n",
    "        pred_match = np.zeros([result_h_bbox[id_].shape[0]])\n",
    "        indices = np.argsort(result_action[id_][:,action_id-1])[::-1]\n",
    "        score = result_action[id_][:,action_id-1][indices]\n",
    "        h_bbox = result_h_bbox[id_][indices]\n",
    "        o_bbox = result_o_bbox[id_][indices]\n",
    "        for i in range(len(h_bbox)):\n",
    "            for j in range(len(gt_1action_h_bbox)):\n",
    "                iou_h = bb_iou(h_bbox[i],gt_1action_h_bbox[j])\n",
    "                iou_o = bb_iou(o_bbox[i],gt_1action_o_bbox[j])\n",
    "                if np.min([iou_h,iou_o])>0.5:\n",
    "                    if gt_match[j]==1:\n",
    "                        continue\n",
    "                    pred_match[i]=1\n",
    "                    gt_match[j]=1\n",
    "        precisions = np.cumsum(pred_match) / (np.arange(len(pred_match)) + 1)\n",
    "        recalls = np.cumsum(pred_match).astype(np.float32) / len(gt_match)\n",
    "        precisions = np.concatenate([[0], precisions, [0]])\n",
    "        recalls = np.concatenate([[0], recalls, [1]])\n",
    "\n",
    "        for i in range(len(precisions) - 2, -1, -1):\n",
    "            precisions[i] = np.maximum(precisions[i], precisions[i + 1])\n",
    "        indice = np.where(recalls[:-1] != recalls[1:])[0] + 1\n",
    "        AP = ((recalls[indice] - recalls[indice - 1]) *precisions[indice])[0]\n",
    "        AP_sublist.append(AP)\n",
    "    AP_list.append(AP_sublist)"
   ]
  },
  {
   "cell_type": "code",
   "execution_count": 34,
   "metadata": {},
   "outputs": [
    {
     "data": {
      "text/plain": [
       "0.32799301349994692"
      ]
     },
     "execution_count": 34,
     "metadata": {},
     "output_type": "execute_result"
    }
   ],
   "source": [
    "AP_list = np.array(AP_list)\n",
    "temp = [item for sublist in AP_list for item in sublist]\n",
    "temp = np.array(temp)\n",
    "temp[np.isnan(temp)]=0\n",
    "np.mean(temp)"
   ]
  },
  {
   "cell_type": "code",
   "execution_count": 36,
   "metadata": {},
   "outputs": [
    {
     "data": {
      "application/vnd.jupyter.widget-view+json": {
       "model_id": "152278b2add844da9f7f5a3c00a4588d",
       "version_major": 2,
       "version_minor": 0
      },
      "text/html": [
       "<p>Failed to display Jupyter Widget of type <code>HBox</code>.</p>\n",
       "<p>\n",
       "  If you're reading this message in the Jupyter Notebook or JupyterLab Notebook, it may mean\n",
       "  that the widgets JavaScript is still loading. If this message persists, it\n",
       "  likely means that the widgets JavaScript library is either not installed or\n",
       "  not enabled. See the <a href=\"https://ipywidgets.readthedocs.io/en/stable/user_install.html\">Jupyter\n",
       "  Widgets Documentation</a> for setup instructions.\n",
       "</p>\n",
       "<p>\n",
       "  If you're reading this message in another frontend (for example, a static\n",
       "  rendering on GitHub or <a href=\"https://nbviewer.jupyter.org/\">NBViewer</a>),\n",
       "  it may mean that your frontend doesn't currently support widgets.\n",
       "</p>\n"
      ],
      "text/plain": [
       "HBox(children=(IntProgress(value=0, max=26561), HTML(value='')))"
      ]
     },
     "metadata": {},
     "output_type": "display_data"
    },
    {
     "name": "stdout",
     "output_type": "stream",
     "text": [
      "\n"
     ]
    }
   ],
   "source": [
    "#copycat\n",
    "AP_list = []\n",
    "for id_ in tqdm(range(len(result_h_bbox))):   \n",
    "# for id_ in tqdm(range(1,2)):   \n",
    "    AP_sublist = []\n",
    "    for action_id in gt_action[id_]:\n",
    "        gt_1action_h_bbox = gt_h_bbox[id_][gt_action[id_]==action_id]\n",
    "        gt_1action_o_bbox = gt_o_bbox[id_][gt_action[id_]==action_id]\n",
    "        gt_1action_action = gt_action[id_][gt_action[id_]==action_id]\n",
    "        tp = np.zeros([result_h_bbox[id_].shape[0]])\n",
    "        fp = np.zeros([result_h_bbox[id_].shape[0]])\n",
    "        npos = gt_1action_action.shape[0]\n",
    "        indices = np.argsort(result_action[id_][:,action_id-1])[::-1]\n",
    "        score = result_action[id_][:,action_id-1][indices]\n",
    "        h_bbox = result_h_bbox[id_][indices]\n",
    "        o_bbox = result_o_bbox[id_][indices]\n",
    "        for i in range(len(h_bbox)):\n",
    "            for j in range(len(gt_1action_h_bbox)):\n",
    "                iou_h = bb_iou(h_bbox[i],gt_1action_h_bbox[j])\n",
    "                iou_o = bb_iou(o_bbox[i],gt_1action_o_bbox[j])\n",
    "                if np.min([iou_h,iou_o])>0.5:\n",
    "                    tp[i]=1\n",
    "                else:\n",
    "                    fp[i]=1\n",
    "        fp = np.cumsum(fp)\n",
    "        tp = np.cumsum(tp)\n",
    "        rec = tp/npos\n",
    "        prec = tp/(fp+tp)\n",
    "        AP=0\n",
    "        for t in np.arange(0.0, 1.0, 0.1):\n",
    "            if prec[rec>=t].any():\n",
    "                p = np.max(prec[rec>=t])\n",
    "                AP = AP +p/11\n",
    "            else:\n",
    "                p=0\n",
    "                AP = AP +p/11\n",
    "        AP_sublist.append(AP)\n",
    "    AP_list.append(AP_sublist)"
   ]
  },
  {
   "cell_type": "code",
   "execution_count": 37,
   "metadata": {},
   "outputs": [
    {
     "data": {
      "text/plain": [
       "0.29930175855468344"
      ]
     },
     "execution_count": 37,
     "metadata": {},
     "output_type": "execute_result"
    }
   ],
   "source": [
    "AP_list = np.array(AP_list)\n",
    "temp = [item for sublist in AP_list for item in sublist]\n",
    "temp = np.array(temp)\n",
    "temp[np.isnan(temp)]=0\n",
    "np.mean(temp)"
   ]
  },
  {
   "cell_type": "code",
   "execution_count": 38,
   "metadata": {},
   "outputs": [
    {
     "data": {
      "application/vnd.jupyter.widget-view+json": {
       "model_id": "3f5e9192eb9b4455a6259aacb2e4e338",
       "version_major": 2,
       "version_minor": 0
      },
      "text/html": [
       "<p>Failed to display Jupyter Widget of type <code>HBox</code>.</p>\n",
       "<p>\n",
       "  If you're reading this message in the Jupyter Notebook or JupyterLab Notebook, it may mean\n",
       "  that the widgets JavaScript is still loading. If this message persists, it\n",
       "  likely means that the widgets JavaScript library is either not installed or\n",
       "  not enabled. See the <a href=\"https://ipywidgets.readthedocs.io/en/stable/user_install.html\">Jupyter\n",
       "  Widgets Documentation</a> for setup instructions.\n",
       "</p>\n",
       "<p>\n",
       "  If you're reading this message in another frontend (for example, a static\n",
       "  rendering on GitHub or <a href=\"https://nbviewer.jupyter.org/\">NBViewer</a>),\n",
       "  it may mean that your frontend doesn't currently support widgets.\n",
       "</p>\n"
      ],
      "text/plain": [
       "HBox(children=(IntProgress(value=0, max=26561), HTML(value='')))"
      ]
     },
     "metadata": {},
     "output_type": "display_data"
    },
    {
     "name": "stderr",
     "output_type": "stream",
     "text": [
      "/opt/conda/lib/python3.6/site-packages/ipykernel_launcher.py:27: RuntimeWarning: invalid value encountered in true_divide\n",
      "/opt/conda/lib/python3.6/site-packages/ipykernel_launcher.py:28: RuntimeWarning: invalid value encountered in true_divide\n",
      "/opt/conda/lib/python3.6/site-packages/ipykernel_launcher.py:31: RuntimeWarning: invalid value encountered in greater_equal\n"
     ]
    },
    {
     "name": "stdout",
     "output_type": "stream",
     "text": [
      "\n"
     ]
    }
   ],
   "source": [
    "#600 cat\n",
    "AP_list = []\n",
    "for id_ in tqdm(range(len(result_h_bbox))):   \n",
    "# for id_ in tqdm(range(1,2)):   \n",
    "    AP_sublist = []\n",
    "    for action_id in range(1,601):\n",
    "        gt_1action_h_bbox = gt_h_bbox[id_][gt_action[id_]==action_id]\n",
    "        gt_1action_o_bbox = gt_o_bbox[id_][gt_action[id_]==action_id]\n",
    "        gt_1action_action = gt_action[id_][gt_action[id_]==action_id]\n",
    "        tp = np.zeros([result_h_bbox[id_].shape[0]])\n",
    "        fp = np.zeros([result_h_bbox[id_].shape[0]])\n",
    "        npos = gt_1action_action.shape[0]\n",
    "        indices = np.argsort(result_action[id_][:,action_id-1])[::-1]\n",
    "        score = result_action[id_][:,action_id-1][indices]\n",
    "        h_bbox = result_h_bbox[id_][indices]\n",
    "        o_bbox = result_o_bbox[id_][indices]\n",
    "        for i in range(len(h_bbox)):\n",
    "            for j in range(len(gt_1action_h_bbox)):\n",
    "                iou_h = bb_iou(h_bbox[i],gt_1action_h_bbox[j])\n",
    "                iou_o = bb_iou(o_bbox[i],gt_1action_o_bbox[j])\n",
    "                if np.min([iou_h,iou_o])>0.5:\n",
    "                    tp[i]=1\n",
    "                else:\n",
    "                    fp[i]=1\n",
    "        fp = np.cumsum(fp)\n",
    "        tp = np.cumsum(tp)\n",
    "        rec = tp/npos\n",
    "        prec = tp/(fp+tp)\n",
    "        AP=0\n",
    "        for t in np.arange(0.0, 1.0, 0.1):\n",
    "            if prec[rec>=t].any():\n",
    "                p = np.max(prec[rec>=t])\n",
    "                AP = AP +p/11\n",
    "            else:\n",
    "                p=0\n",
    "                AP = AP +p/11\n",
    "        AP_sublist.append(AP)\n",
    "    AP_list.append(AP_sublist)"
   ]
  },
  {
   "cell_type": "code",
   "execution_count": 39,
   "metadata": {},
   "outputs": [
    {
     "data": {
      "text/plain": [
       "0.00089839733206717855"
      ]
     },
     "execution_count": 39,
     "metadata": {},
     "output_type": "execute_result"
    }
   ],
   "source": [
    "AP_list = np.array(AP_list)\n",
    "temp = [item for sublist in AP_list for item in sublist]\n",
    "temp = np.array(temp)\n",
    "temp[np.isnan(temp)]=0\n",
    "np.mean(temp)"
   ]
  },
  {
   "cell_type": "code",
   "execution_count": 40,
   "metadata": {},
   "outputs": [
    {
     "data": {
      "text/plain": [
       "0.00089839733206718072"
      ]
     },
     "execution_count": 40,
     "metadata": {},
     "output_type": "execute_result"
    }
   ],
   "source": [
    "temp2 = [np.mean(item) for item in AP_list]\n",
    "temp2 = np.array(temp2)\n",
    "temp2[np.isnan(temp2)]=0\n",
    "np.mean(temp2)"
   ]
  },
  {
   "cell_type": "code",
   "execution_count": null,
   "metadata": {},
   "outputs": [],
   "source": []
  }
 ],
 "metadata": {
  "kernelspec": {
   "display_name": "Python 3",
   "language": "python",
   "name": "python3"
  },
  "language_info": {
   "codemirror_mode": {
    "name": "ipython",
    "version": 3
   },
   "file_extension": ".py",
   "mimetype": "text/x-python",
   "name": "python",
   "nbconvert_exporter": "python",
   "pygments_lexer": "ipython3",
   "version": "3.6.3"
  }
 },
 "nbformat": 4,
 "nbformat_minor": 2
}
