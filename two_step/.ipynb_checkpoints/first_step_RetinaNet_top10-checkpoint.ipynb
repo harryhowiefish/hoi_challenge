{
 "cells": [
  {
   "cell_type": "code",
   "execution_count": 2,
   "metadata": {},
   "outputs": [],
   "source": [
    "import pandas as pd\n",
    "import cv2\n",
    "import os\n",
    "import numpy as np\n",
    "import time\n",
    "import matplotlib.pyplot as plt\n",
    "%matplotlib inline\n",
    "from tqdm import tqdm_notebook as tqdm\n",
    "import tensorflow as tf\n",
    "import keras\n",
    "import keras.backend as K\n",
    "# from keras_retinanet.models.resnet import custom_objects\n",
    "from keras_retinanet.models.resnet import resnet_retinanet as retinanet, custom_objects, download_imagenet\n",
    "# import keras_retinanet\n",
    "import keras_retinanet.bin.train"
   ]
  },
  {
   "cell_type": "code",
   "execution_count": 3,
   "metadata": {},
   "outputs": [
    {
     "ename": "InternalError",
     "evalue": "Dst tensor is not initialized.\n\t [[Node: _arg_Placeholder_271_0_190/_1139 = _Recv[client_terminated=false, recv_device=\"/job:localhost/replica:0/task:0/device:GPU:0\", send_device=\"/job:localhost/replica:0/task:0/device:CPU:0\", send_device_incarnation=1, tensor_name=\"edge_1286__arg_Placeholder_271_0_190\", tensor_type=DT_FLOAT, _device=\"/job:localhost/replica:0/task:0/device:GPU:0\"]()]]\n\t [[Node: Assign_271/_1595 = _Recv[_start_time=0, client_terminated=false, recv_device=\"/job:localhost/replica:0/task:0/device:CPU:0\", send_device=\"/job:localhost/replica:0/task:0/device:GPU:0\", send_device_incarnation=1, tensor_name=\"edge_1887_Assign_271\", tensor_type=DT_FLOAT, _device=\"/job:localhost/replica:0/task:0/device:CPU:0\"]()]]",
     "output_type": "error",
     "traceback": [
      "\u001b[0;31m---------------------------------------------------------------------------\u001b[0m",
      "\u001b[0;31mInternalError\u001b[0m                             Traceback (most recent call last)",
      "\u001b[0;32m/opt/conda/lib/python3.6/site-packages/tensorflow/python/client/session.py\u001b[0m in \u001b[0;36m_do_call\u001b[0;34m(self, fn, *args)\u001b[0m\n\u001b[1;32m   1322\u001b[0m     \u001b[0;32mtry\u001b[0m\u001b[0;34m:\u001b[0m\u001b[0;34m\u001b[0m\u001b[0m\n\u001b[0;32m-> 1323\u001b[0;31m       \u001b[0;32mreturn\u001b[0m \u001b[0mfn\u001b[0m\u001b[0;34m(\u001b[0m\u001b[0;34m*\u001b[0m\u001b[0margs\u001b[0m\u001b[0;34m)\u001b[0m\u001b[0;34m\u001b[0m\u001b[0m\n\u001b[0m\u001b[1;32m   1324\u001b[0m     \u001b[0;32mexcept\u001b[0m \u001b[0merrors\u001b[0m\u001b[0;34m.\u001b[0m\u001b[0mOpError\u001b[0m \u001b[0;32mas\u001b[0m \u001b[0me\u001b[0m\u001b[0;34m:\u001b[0m\u001b[0;34m\u001b[0m\u001b[0m\n",
      "\u001b[0;32m/opt/conda/lib/python3.6/site-packages/tensorflow/python/client/session.py\u001b[0m in \u001b[0;36m_run_fn\u001b[0;34m(session, feed_dict, fetch_list, target_list, options, run_metadata)\u001b[0m\n\u001b[1;32m   1301\u001b[0m                                    \u001b[0mfeed_dict\u001b[0m\u001b[0;34m,\u001b[0m \u001b[0mfetch_list\u001b[0m\u001b[0;34m,\u001b[0m \u001b[0mtarget_list\u001b[0m\u001b[0;34m,\u001b[0m\u001b[0;34m\u001b[0m\u001b[0m\n\u001b[0;32m-> 1302\u001b[0;31m                                    status, run_metadata)\n\u001b[0m\u001b[1;32m   1303\u001b[0m \u001b[0;34m\u001b[0m\u001b[0m\n",
      "\u001b[0;32m/opt/conda/lib/python3.6/site-packages/tensorflow/python/framework/errors_impl.py\u001b[0m in \u001b[0;36m__exit__\u001b[0;34m(self, type_arg, value_arg, traceback_arg)\u001b[0m\n\u001b[1;32m    472\u001b[0m             \u001b[0mcompat\u001b[0m\u001b[0;34m.\u001b[0m\u001b[0mas_text\u001b[0m\u001b[0;34m(\u001b[0m\u001b[0mc_api\u001b[0m\u001b[0;34m.\u001b[0m\u001b[0mTF_Message\u001b[0m\u001b[0;34m(\u001b[0m\u001b[0mself\u001b[0m\u001b[0;34m.\u001b[0m\u001b[0mstatus\u001b[0m\u001b[0;34m.\u001b[0m\u001b[0mstatus\u001b[0m\u001b[0;34m)\u001b[0m\u001b[0;34m)\u001b[0m\u001b[0;34m,\u001b[0m\u001b[0;34m\u001b[0m\u001b[0m\n\u001b[0;32m--> 473\u001b[0;31m             c_api.TF_GetCode(self.status.status))\n\u001b[0m\u001b[1;32m    474\u001b[0m     \u001b[0;31m# Delete the underlying status object from memory otherwise it stays alive\u001b[0m\u001b[0;34m\u001b[0m\u001b[0;34m\u001b[0m\u001b[0m\n",
      "\u001b[0;31mInternalError\u001b[0m: Dst tensor is not initialized.\n\t [[Node: _arg_Placeholder_271_0_190/_1139 = _Recv[client_terminated=false, recv_device=\"/job:localhost/replica:0/task:0/device:GPU:0\", send_device=\"/job:localhost/replica:0/task:0/device:CPU:0\", send_device_incarnation=1, tensor_name=\"edge_1286__arg_Placeholder_271_0_190\", tensor_type=DT_FLOAT, _device=\"/job:localhost/replica:0/task:0/device:GPU:0\"]()]]\n\t [[Node: Assign_271/_1595 = _Recv[_start_time=0, client_terminated=false, recv_device=\"/job:localhost/replica:0/task:0/device:CPU:0\", send_device=\"/job:localhost/replica:0/task:0/device:GPU:0\", send_device_incarnation=1, tensor_name=\"edge_1887_Assign_271\", tensor_type=DT_FLOAT, _device=\"/job:localhost/replica:0/task:0/device:CPU:0\"]()]]",
      "\nDuring handling of the above exception, another exception occurred:\n",
      "\u001b[0;31mInternalError\u001b[0m                             Traceback (most recent call last)",
      "\u001b[0;32m<ipython-input-3-9c0de348e455>\u001b[0m in \u001b[0;36m<module>\u001b[0;34m()\u001b[0m\n\u001b[1;32m      2\u001b[0m \u001b[0;31m#                                                    multi_gpu=0, freeze_backbone=True)\u001b[0m\u001b[0;34m\u001b[0m\u001b[0;34m\u001b[0m\u001b[0m\n\u001b[1;32m      3\u001b[0m retinanet_model, _,_=keras_retinanet.bin.train.create_models(retinanet, 'resnet50', 80, '/home/jovyan/keras-retinanet/snapshots/resnet50_coco_best_v2.0.2.h5', \n\u001b[0;32m----> 4\u001b[0;31m                                                    multi_gpu=0, freeze_backbone=True)\n\u001b[0m\u001b[1;32m      5\u001b[0m \u001b[0;31m# retinanet_model = keras.models.load_model('/home/jovyan/keras-retinanet/snapshots/resnet50_coco_best_v2.0.2.h5', custom_objects=custom_objects)\u001b[0m\u001b[0;34m\u001b[0m\u001b[0;34m\u001b[0m\u001b[0m\n",
      "\u001b[0;32m/opt/conda/lib/python3.6/site-packages/keras_retinanet/bin/train.py\u001b[0m in \u001b[0;36mcreate_models\u001b[0;34m(backbone_retinanet, backbone, num_classes, weights, multi_gpu, freeze_backbone)\u001b[0m\n\u001b[1;32m     89\u001b[0m         \u001b[0mprediction_model\u001b[0m \u001b[0;34m=\u001b[0m \u001b[0mkeras\u001b[0m\u001b[0;34m.\u001b[0m\u001b[0mmodels\u001b[0m\u001b[0;34m.\u001b[0m\u001b[0mModel\u001b[0m\u001b[0;34m(\u001b[0m\u001b[0minputs\u001b[0m\u001b[0;34m=\u001b[0m\u001b[0mmodel\u001b[0m\u001b[0;34m.\u001b[0m\u001b[0minputs\u001b[0m\u001b[0;34m,\u001b[0m \u001b[0moutputs\u001b[0m\u001b[0;34m=\u001b[0m\u001b[0mmodel\u001b[0m\u001b[0;34m.\u001b[0m\u001b[0moutputs\u001b[0m\u001b[0;34m[\u001b[0m\u001b[0;34m:\u001b[0m\u001b[0;36m2\u001b[0m\u001b[0;34m]\u001b[0m \u001b[0;34m+\u001b[0m \u001b[0;34m[\u001b[0m\u001b[0mdetections\u001b[0m\u001b[0;34m]\u001b[0m\u001b[0;34m)\u001b[0m\u001b[0;34m\u001b[0m\u001b[0m\n\u001b[1;32m     90\u001b[0m     \u001b[0;32melse\u001b[0m\u001b[0;34m:\u001b[0m\u001b[0;34m\u001b[0m\u001b[0m\n\u001b[0;32m---> 91\u001b[0;31m         \u001b[0mmodel\u001b[0m            \u001b[0;34m=\u001b[0m \u001b[0mmodel_with_weights\u001b[0m\u001b[0;34m(\u001b[0m\u001b[0mbackbone_retinanet\u001b[0m\u001b[0;34m(\u001b[0m\u001b[0mnum_classes\u001b[0m\u001b[0;34m,\u001b[0m \u001b[0mbackbone\u001b[0m\u001b[0;34m=\u001b[0m\u001b[0mbackbone\u001b[0m\u001b[0;34m,\u001b[0m \u001b[0mnms\u001b[0m\u001b[0;34m=\u001b[0m\u001b[0;32mTrue\u001b[0m\u001b[0;34m,\u001b[0m \u001b[0mmodifier\u001b[0m\u001b[0;34m=\u001b[0m\u001b[0mmodifier\u001b[0m\u001b[0;34m)\u001b[0m\u001b[0;34m,\u001b[0m \u001b[0mweights\u001b[0m\u001b[0;34m=\u001b[0m\u001b[0mweights\u001b[0m\u001b[0;34m,\u001b[0m \u001b[0mskip_mismatch\u001b[0m\u001b[0;34m=\u001b[0m\u001b[0;32mTrue\u001b[0m\u001b[0;34m)\u001b[0m\u001b[0;34m\u001b[0m\u001b[0m\n\u001b[0m\u001b[1;32m     92\u001b[0m         \u001b[0mtraining_model\u001b[0m   \u001b[0;34m=\u001b[0m \u001b[0mmodel\u001b[0m\u001b[0;34m\u001b[0m\u001b[0m\n\u001b[1;32m     93\u001b[0m         \u001b[0mprediction_model\u001b[0m \u001b[0;34m=\u001b[0m \u001b[0mmodel\u001b[0m\u001b[0;34m\u001b[0m\u001b[0m\n",
      "\u001b[0;32m/opt/conda/lib/python3.6/site-packages/keras_retinanet/bin/train.py\u001b[0m in \u001b[0;36mmodel_with_weights\u001b[0;34m(model, weights, skip_mismatch)\u001b[0m\n\u001b[1;32m     68\u001b[0m \u001b[0;32mdef\u001b[0m \u001b[0mmodel_with_weights\u001b[0m\u001b[0;34m(\u001b[0m\u001b[0mmodel\u001b[0m\u001b[0;34m,\u001b[0m \u001b[0mweights\u001b[0m\u001b[0;34m,\u001b[0m \u001b[0mskip_mismatch\u001b[0m\u001b[0;34m)\u001b[0m\u001b[0;34m:\u001b[0m\u001b[0;34m\u001b[0m\u001b[0m\n\u001b[1;32m     69\u001b[0m     \u001b[0;32mif\u001b[0m \u001b[0mweights\u001b[0m \u001b[0;32mis\u001b[0m \u001b[0;32mnot\u001b[0m \u001b[0;32mNone\u001b[0m\u001b[0;34m:\u001b[0m\u001b[0;34m\u001b[0m\u001b[0m\n\u001b[0;32m---> 70\u001b[0;31m         \u001b[0mmodel\u001b[0m\u001b[0;34m.\u001b[0m\u001b[0mload_weights\u001b[0m\u001b[0;34m(\u001b[0m\u001b[0mweights\u001b[0m\u001b[0;34m,\u001b[0m \u001b[0mby_name\u001b[0m\u001b[0;34m=\u001b[0m\u001b[0;32mTrue\u001b[0m\u001b[0;34m,\u001b[0m \u001b[0mskip_mismatch\u001b[0m\u001b[0;34m=\u001b[0m\u001b[0mskip_mismatch\u001b[0m\u001b[0;34m)\u001b[0m\u001b[0;34m\u001b[0m\u001b[0m\n\u001b[0m\u001b[1;32m     71\u001b[0m     \u001b[0;32mreturn\u001b[0m \u001b[0mmodel\u001b[0m\u001b[0;34m\u001b[0m\u001b[0m\n\u001b[1;32m     72\u001b[0m \u001b[0;34m\u001b[0m\u001b[0m\n",
      "\u001b[0;32m/opt/conda/lib/python3.6/site-packages/keras/engine/topology.py\u001b[0m in \u001b[0;36mload_weights\u001b[0;34m(self, filepath, by_name, skip_mismatch)\u001b[0m\n\u001b[1;32m   2641\u001b[0m         \u001b[0;32mif\u001b[0m \u001b[0mby_name\u001b[0m\u001b[0;34m:\u001b[0m\u001b[0;34m\u001b[0m\u001b[0m\n\u001b[1;32m   2642\u001b[0m             load_weights_from_hdf5_group_by_name(\n\u001b[0;32m-> 2643\u001b[0;31m                 f, self.layers, skip_mismatch=skip_mismatch)\n\u001b[0m\u001b[1;32m   2644\u001b[0m         \u001b[0;32melse\u001b[0m\u001b[0;34m:\u001b[0m\u001b[0;34m\u001b[0m\u001b[0m\n\u001b[1;32m   2645\u001b[0m             \u001b[0mload_weights_from_hdf5_group\u001b[0m\u001b[0;34m(\u001b[0m\u001b[0mf\u001b[0m\u001b[0;34m,\u001b[0m \u001b[0mself\u001b[0m\u001b[0;34m.\u001b[0m\u001b[0mlayers\u001b[0m\u001b[0;34m)\u001b[0m\u001b[0;34m\u001b[0m\u001b[0m\n",
      "\u001b[0;32m/opt/conda/lib/python3.6/site-packages/keras/engine/topology.py\u001b[0m in \u001b[0;36mload_weights_from_hdf5_group_by_name\u001b[0;34m(f, layers, skip_mismatch)\u001b[0m\n\u001b[1;32m   3246\u001b[0m                                             weight_values[i]))\n\u001b[1;32m   3247\u001b[0m \u001b[0;34m\u001b[0m\u001b[0m\n\u001b[0;32m-> 3248\u001b[0;31m     \u001b[0mK\u001b[0m\u001b[0;34m.\u001b[0m\u001b[0mbatch_set_value\u001b[0m\u001b[0;34m(\u001b[0m\u001b[0mweight_value_tuples\u001b[0m\u001b[0;34m)\u001b[0m\u001b[0;34m\u001b[0m\u001b[0m\n\u001b[0m",
      "\u001b[0;32m/opt/conda/lib/python3.6/site-packages/keras/backend/tensorflow_backend.py\u001b[0m in \u001b[0;36mbatch_set_value\u001b[0;34m(tuples)\u001b[0m\n\u001b[1;32m   2368\u001b[0m             \u001b[0massign_ops\u001b[0m\u001b[0;34m.\u001b[0m\u001b[0mappend\u001b[0m\u001b[0;34m(\u001b[0m\u001b[0massign_op\u001b[0m\u001b[0;34m)\u001b[0m\u001b[0;34m\u001b[0m\u001b[0m\n\u001b[1;32m   2369\u001b[0m             \u001b[0mfeed_dict\u001b[0m\u001b[0;34m[\u001b[0m\u001b[0massign_placeholder\u001b[0m\u001b[0;34m]\u001b[0m \u001b[0;34m=\u001b[0m \u001b[0mvalue\u001b[0m\u001b[0;34m\u001b[0m\u001b[0m\n\u001b[0;32m-> 2370\u001b[0;31m         \u001b[0mget_session\u001b[0m\u001b[0;34m(\u001b[0m\u001b[0;34m)\u001b[0m\u001b[0;34m.\u001b[0m\u001b[0mrun\u001b[0m\u001b[0;34m(\u001b[0m\u001b[0massign_ops\u001b[0m\u001b[0;34m,\u001b[0m \u001b[0mfeed_dict\u001b[0m\u001b[0;34m=\u001b[0m\u001b[0mfeed_dict\u001b[0m\u001b[0;34m)\u001b[0m\u001b[0;34m\u001b[0m\u001b[0m\n\u001b[0m\u001b[1;32m   2371\u001b[0m \u001b[0;34m\u001b[0m\u001b[0m\n\u001b[1;32m   2372\u001b[0m \u001b[0;34m\u001b[0m\u001b[0m\n",
      "\u001b[0;32m/opt/conda/lib/python3.6/site-packages/tensorflow/python/client/session.py\u001b[0m in \u001b[0;36mrun\u001b[0;34m(self, fetches, feed_dict, options, run_metadata)\u001b[0m\n\u001b[1;32m    887\u001b[0m     \u001b[0;32mtry\u001b[0m\u001b[0;34m:\u001b[0m\u001b[0;34m\u001b[0m\u001b[0m\n\u001b[1;32m    888\u001b[0m       result = self._run(None, fetches, feed_dict, options_ptr,\n\u001b[0;32m--> 889\u001b[0;31m                          run_metadata_ptr)\n\u001b[0m\u001b[1;32m    890\u001b[0m       \u001b[0;32mif\u001b[0m \u001b[0mrun_metadata\u001b[0m\u001b[0;34m:\u001b[0m\u001b[0;34m\u001b[0m\u001b[0m\n\u001b[1;32m    891\u001b[0m         \u001b[0mproto_data\u001b[0m \u001b[0;34m=\u001b[0m \u001b[0mtf_session\u001b[0m\u001b[0;34m.\u001b[0m\u001b[0mTF_GetBuffer\u001b[0m\u001b[0;34m(\u001b[0m\u001b[0mrun_metadata_ptr\u001b[0m\u001b[0;34m)\u001b[0m\u001b[0;34m\u001b[0m\u001b[0m\n",
      "\u001b[0;32m/opt/conda/lib/python3.6/site-packages/tensorflow/python/client/session.py\u001b[0m in \u001b[0;36m_run\u001b[0;34m(self, handle, fetches, feed_dict, options, run_metadata)\u001b[0m\n\u001b[1;32m   1118\u001b[0m     \u001b[0;32mif\u001b[0m \u001b[0mfinal_fetches\u001b[0m \u001b[0;32mor\u001b[0m \u001b[0mfinal_targets\u001b[0m \u001b[0;32mor\u001b[0m \u001b[0;34m(\u001b[0m\u001b[0mhandle\u001b[0m \u001b[0;32mand\u001b[0m \u001b[0mfeed_dict_tensor\u001b[0m\u001b[0;34m)\u001b[0m\u001b[0;34m:\u001b[0m\u001b[0;34m\u001b[0m\u001b[0m\n\u001b[1;32m   1119\u001b[0m       results = self._do_run(handle, final_targets, final_fetches,\n\u001b[0;32m-> 1120\u001b[0;31m                              feed_dict_tensor, options, run_metadata)\n\u001b[0m\u001b[1;32m   1121\u001b[0m     \u001b[0;32melse\u001b[0m\u001b[0;34m:\u001b[0m\u001b[0;34m\u001b[0m\u001b[0m\n\u001b[1;32m   1122\u001b[0m       \u001b[0mresults\u001b[0m \u001b[0;34m=\u001b[0m \u001b[0;34m[\u001b[0m\u001b[0;34m]\u001b[0m\u001b[0;34m\u001b[0m\u001b[0m\n",
      "\u001b[0;32m/opt/conda/lib/python3.6/site-packages/tensorflow/python/client/session.py\u001b[0m in \u001b[0;36m_do_run\u001b[0;34m(self, handle, target_list, fetch_list, feed_dict, options, run_metadata)\u001b[0m\n\u001b[1;32m   1315\u001b[0m     \u001b[0;32mif\u001b[0m \u001b[0mhandle\u001b[0m \u001b[0;32mis\u001b[0m \u001b[0;32mNone\u001b[0m\u001b[0;34m:\u001b[0m\u001b[0;34m\u001b[0m\u001b[0m\n\u001b[1;32m   1316\u001b[0m       return self._do_call(_run_fn, self._session, feeds, fetches, targets,\n\u001b[0;32m-> 1317\u001b[0;31m                            options, run_metadata)\n\u001b[0m\u001b[1;32m   1318\u001b[0m     \u001b[0;32melse\u001b[0m\u001b[0;34m:\u001b[0m\u001b[0;34m\u001b[0m\u001b[0m\n\u001b[1;32m   1319\u001b[0m       \u001b[0;32mreturn\u001b[0m \u001b[0mself\u001b[0m\u001b[0;34m.\u001b[0m\u001b[0m_do_call\u001b[0m\u001b[0;34m(\u001b[0m\u001b[0m_prun_fn\u001b[0m\u001b[0;34m,\u001b[0m \u001b[0mself\u001b[0m\u001b[0;34m.\u001b[0m\u001b[0m_session\u001b[0m\u001b[0;34m,\u001b[0m \u001b[0mhandle\u001b[0m\u001b[0;34m,\u001b[0m \u001b[0mfeeds\u001b[0m\u001b[0;34m,\u001b[0m \u001b[0mfetches\u001b[0m\u001b[0;34m)\u001b[0m\u001b[0;34m\u001b[0m\u001b[0m\n",
      "\u001b[0;32m/opt/conda/lib/python3.6/site-packages/tensorflow/python/client/session.py\u001b[0m in \u001b[0;36m_do_call\u001b[0;34m(self, fn, *args)\u001b[0m\n\u001b[1;32m   1334\u001b[0m         \u001b[0;32mexcept\u001b[0m \u001b[0mKeyError\u001b[0m\u001b[0;34m:\u001b[0m\u001b[0;34m\u001b[0m\u001b[0m\n\u001b[1;32m   1335\u001b[0m           \u001b[0;32mpass\u001b[0m\u001b[0;34m\u001b[0m\u001b[0m\n\u001b[0;32m-> 1336\u001b[0;31m       \u001b[0;32mraise\u001b[0m \u001b[0mtype\u001b[0m\u001b[0;34m(\u001b[0m\u001b[0me\u001b[0m\u001b[0;34m)\u001b[0m\u001b[0;34m(\u001b[0m\u001b[0mnode_def\u001b[0m\u001b[0;34m,\u001b[0m \u001b[0mop\u001b[0m\u001b[0;34m,\u001b[0m \u001b[0mmessage\u001b[0m\u001b[0;34m)\u001b[0m\u001b[0;34m\u001b[0m\u001b[0m\n\u001b[0m\u001b[1;32m   1337\u001b[0m \u001b[0;34m\u001b[0m\u001b[0m\n\u001b[1;32m   1338\u001b[0m   \u001b[0;32mdef\u001b[0m \u001b[0m_extend_graph\u001b[0m\u001b[0;34m(\u001b[0m\u001b[0mself\u001b[0m\u001b[0;34m)\u001b[0m\u001b[0;34m:\u001b[0m\u001b[0;34m\u001b[0m\u001b[0m\n",
      "\u001b[0;31mInternalError\u001b[0m: Dst tensor is not initialized.\n\t [[Node: _arg_Placeholder_271_0_190/_1139 = _Recv[client_terminated=false, recv_device=\"/job:localhost/replica:0/task:0/device:GPU:0\", send_device=\"/job:localhost/replica:0/task:0/device:CPU:0\", send_device_incarnation=1, tensor_name=\"edge_1286__arg_Placeholder_271_0_190\", tensor_type=DT_FLOAT, _device=\"/job:localhost/replica:0/task:0/device:GPU:0\"]()]]\n\t [[Node: Assign_271/_1595 = _Recv[_start_time=0, client_terminated=false, recv_device=\"/job:localhost/replica:0/task:0/device:CPU:0\", send_device=\"/job:localhost/replica:0/task:0/device:GPU:0\", send_device_incarnation=1, tensor_name=\"edge_1887_Assign_271\", tensor_type=DT_FLOAT, _device=\"/job:localhost/replica:0/task:0/device:CPU:0\"]()]]"
     ]
    }
   ],
   "source": [
    "# retinanet_model, _,_=keras_retinanet.bin.train.create_models(retinanet, 'resnet50', 80, 'resnet50_coco_best_v2.0.2.h5', \n",
    "#                                                    multi_gpu=0, freeze_backbone=True)\n",
    "retinanet_model, _,_=keras_retinanet.bin.train.create_models(retinanet, 'resnet50', 80, '/home/jovyan/keras-retinanet/snapshots/resnet50_coco_best_v2.0.2.h5', \n",
    "                                                   multi_gpu=0, freeze_backbone=True)\n",
    "# retinanet_model = keras.models.load_model('/home/jovyan/keras-retinanet/snapshots/resnet50_coco_best_v2.0.2.h5', custom_objects=custom_objects)"
   ]
  },
  {
   "cell_type": "code",
   "execution_count": 65,
   "metadata": {},
   "outputs": [],
   "source": [
    "def human_bbox(ip,top=10):\n",
    "    bbox = ip[0]\n",
    "    classification = ip[1]\n",
    "\n",
    "    predicted_labels = K.argmax(classification, axis=2)\n",
    "    scores = K.max(classification,axis=2)\n",
    "\n",
    "    filtering_mask = K.equal(predicted_labels,0)\n",
    "\n",
    "    scores = K.tf.boolean_mask(scores, filtering_mask) \n",
    "    boxes = K.tf.boolean_mask(bbox, filtering_mask) \n",
    "    classes = K.tf.boolean_mask(predicted_labels, filtering_mask) \n",
    "    top_10 = K.tf.nn.top_k(scores,top,sorted=False)\n",
    "    \n",
    "    scores = K.gather(scores,top_10.indices)\n",
    "    boxes = K.gather(boxes,top_10.indices)\n",
    "    classes = K.gather(classes,top_10.indices)\n",
    "\n",
    "    return [scores, boxes, classes]\n",
    "\n",
    "def obj_bbox(ip,top=10):\n",
    "    bbox = ip[0]\n",
    "    classification = ip[1]\n",
    "\n",
    "    predicted_labels = K.argmax(classification, axis=2)\n",
    "    scores = K.max(classification,axis=2)\n",
    "    \n",
    "    filtering_mask = K.greater_equal(predicted_labels,0)\n",
    "\n",
    "    scores = K.tf.boolean_mask(scores, filtering_mask) \n",
    "    boxes = K.tf.boolean_mask(bbox, filtering_mask) \n",
    "    classes = K.tf.boolean_mask(predicted_labels, filtering_mask) \n",
    "    \n",
    "    top_10 = K.tf.nn.top_k(scores,top,sorted=False)\n",
    "    \n",
    "    scores = K.gather(scores,top_10.indices)\n",
    "    boxes = K.gather(boxes,top_10.indices)\n",
    "    classes = K.gather(classes,top_10.indices)\n",
    "\n",
    "    return [scores, boxes, classes]"
   ]
  },
  {
   "cell_type": "code",
   "execution_count": 66,
   "metadata": {},
   "outputs": [],
   "source": [
    "img_input = keras.layers.Input(shape=(None,None,3),name='img_input')\n",
    "\n",
    "_,_,bbox,classification=retinanet_model(img_input)\n",
    "\n",
    "human_scores, human_boxes, human_classes= keras.layers.Lambda(human_bbox)([bbox, classification])\n",
    "\n",
    "obj_scores, obj_boxes, obj_classes= keras.layers.Lambda(obj_bbox)([bbox, classification])"
   ]
  },
  {
   "cell_type": "code",
   "execution_count": 67,
   "metadata": {},
   "outputs": [],
   "source": [
    "model_all = keras.Model(inputs=img_input,outputs=[obj_scores, obj_boxes, obj_classes,\n",
    "                                                 human_scores, human_boxes, human_classes])\n"
   ]
  },
  {
   "cell_type": "code",
   "execution_count": null,
   "metadata": {},
   "outputs": [],
   "source": [
    "model_json = model_all.to_json()\n",
    "with open(\"/home/jovyan/retinanet_top10_model.json\", \"w\") as json_file:\n",
    "    json_file.write(model_json)\n",
    "# serialize weights to HDF5\n",
    "model.save_weights('/home/jovyan/retinanet.h5')\n"
   ]
  },
  {
   "cell_type": "code",
   "execution_count": 68,
   "metadata": {},
   "outputs": [],
   "source": [
    "train_data_simple = pd.read_json('../train_data_simple.json')\n",
    "train_data_simple = train_data_simple.sort_index()\n",
    "test_data = pd.read_json('../test_data.json')\n",
    "test_data = test_data.sort_index()"
   ]
  },
  {
   "cell_type": "code",
   "execution_count": 69,
   "metadata": {},
   "outputs": [],
   "source": [
    "def train_data_generator(id_):\n",
    "    target_width = 1200\n",
    "    target_height = 800\n",
    "    scale_width = target_width/train_data_simple['size'][id_][0]\n",
    "    scale_height = target_height/train_data_simple['size'][id_][1]\n",
    "    image = cv2.imread(os.path.join('/home/jovyan/projectdata/cht01/hico_20160224_det/images/train2015/',train_data_simple['name'][id_]))\n",
    "    image = cv2.resize(image,(target_width,target_height))\n",
    "    return np.expand_dims(image,axis=0)\n",
    "def test_data_generator(id_):\n",
    "    target_width = 1200\n",
    "    target_height = 800\n",
    "    scale_width = target_width/test_data['size'][id_][0]\n",
    "    scale_height = target_height/test_data['size'][id_][1]\n",
    "    image = cv2.imread(os.path.join('/home/jovyan/projectdata/cht01/hico_20160224_det/images/test2015/',test_data['name'][id_]))\n",
    "    image = cv2.resize(image,(target_width,target_height))\n",
    "    return np.expand_dims(image,axis=0)"
   ]
  },
  {
   "cell_type": "code",
   "execution_count": null,
   "metadata": {},
   "outputs": [
    {
     "data": {
      "application/vnd.jupyter.widget-view+json": {
       "model_id": "0c95ac15bb5a48e69d35cfb1341e8c55",
       "version_major": 2,
       "version_minor": 0
      },
      "text/html": [
       "<p>Failed to display Jupyter Widget of type <code>HBox</code>.</p>\n",
       "<p>\n",
       "  If you're reading this message in the Jupyter Notebook or JupyterLab Notebook, it may mean\n",
       "  that the widgets JavaScript is still loading. If this message persists, it\n",
       "  likely means that the widgets JavaScript library is either not installed or\n",
       "  not enabled. See the <a href=\"https://ipywidgets.readthedocs.io/en/stable/user_install.html\">Jupyter\n",
       "  Widgets Documentation</a> for setup instructions.\n",
       "</p>\n",
       "<p>\n",
       "  If you're reading this message in another frontend (for example, a static\n",
       "  rendering on GitHub or <a href=\"https://nbviewer.jupyter.org/\">NBViewer</a>),\n",
       "  it may mean that your frontend doesn't currently support widgets.\n",
       "</p>\n"
      ],
      "text/plain": [
       "HBox(children=(IntProgress(value=0, max=26561), HTML(value='')))"
      ]
     },
     "metadata": {},
     "output_type": "display_data"
    },
    {
     "name": "stderr",
     "output_type": "stream",
     "text": [
      "IOPub message rate exceeded.\n",
      "The notebook server will temporarily stop sending output\n",
      "to the client in order to avoid crashing it.\n",
      "To change this limit, set the config variable\n",
      "`--NotebookApp.iopub_msg_rate_limit`.\n",
      "\n",
      "Current values:\n",
      "NotebookApp.iopub_msg_rate_limit=1000.0 (msgs/sec)\n",
      "NotebookApp.rate_limit_window=3.0 (secs)\n",
      "\n"
     ]
    }
   ],
   "source": [
    "pred_obj_scores, pred_obj_boxes, pred_obj_classes,pred_human_scores, pred_human_boxes, pred_human_classes =[],[],[],[],[],[]\n",
    "for i in tqdm(range(len(train_data_simple))):\n",
    "    img = train_data_generator(i)\n",
    "    a,b,c,d,e,f = model_all.predict_on_batch(img)\n",
    "    pred_obj_scores.append(a)\n",
    "    pred_obj_boxes.append(b)\n",
    "    pred_obj_classes.append(c)\n",
    "    pred_human_scores.append(d)\n",
    "    pred_human_boxes.append(e)\n",
    "    pred_human_classes.append(f)"
   ]
  },
  {
   "cell_type": "code",
   "execution_count": null,
   "metadata": {},
   "outputs": [],
   "source": [
    "test_obj_scores, test_obj_boxes, test_obj_classes,test_human_scores, test_human_boxes, test_human_classes =[],[],[],[],[],[]\n",
    "for i in tqdm(range(len(test_data))):\n",
    "    img = test_data_generator(i)\n",
    "    a,b,c,d,e,f = model_all.predict_on_batch(img)\n",
    "    test_obj_scores.append(a)\n",
    "    test_obj_boxes.append(b)\n",
    "    test_obj_classes.append(c)\n",
    "    test_human_scores.append(d)\n",
    "    test_human_boxes.append(e)\n",
    "    test_human_classes.append(f)"
   ]
  },
  {
   "cell_type": "code",
   "execution_count": 86,
   "metadata": {},
   "outputs": [],
   "source": [
    "retinanet_train_data = pd.DataFrame({\n",
    "    'obj_scores':pred_obj_scores,\n",
    "    'obj_boxes':pred_obj_boxes,\n",
    "    'obj_classes':pred_obj_classes,\n",
    "    'human_scores':pred_human_scores, \n",
    "    'human_boxes':pred_human_boxes, \n",
    "    'human_classes':pred_human_classes\n",
    "    })"
   ]
  },
  {
   "cell_type": "code",
   "execution_count": 87,
   "metadata": {},
   "outputs": [],
   "source": [
    "retinanet_test_data = pd.DataFrame({\n",
    "    'obj_scores':test_obj_scores,\n",
    "    'obj_boxes':test_obj_boxes,\n",
    "    'obj_classes':test_obj_classes,\n",
    "    'human_scores':test_human_scores, \n",
    "    'human_boxes':test_human_boxes, \n",
    "    'human_classes':test_human_classes\n",
    "    })"
   ]
  },
  {
   "cell_type": "code",
   "execution_count": 88,
   "metadata": {},
   "outputs": [],
   "source": [
    "retinanet_train_data.human_boxes = [np.array(item) for item in retinanet_train_data.human_boxes.tolist()]\n",
    "retinanet_train_data.obj_boxes = [np.array(item) for item in retinanet_train_data.obj_boxes.tolist()]\n",
    "retinanet_test_data.human_boxes = [np.array(item) for item in retinanet_test_data.human_boxes.tolist()]\n",
    "retinanet_test_data.obj_boxes = [np.array(item) for item in retinanet_test_data.obj_boxes.tolist()]"
   ]
  },
  {
   "cell_type": "code",
   "execution_count": 89,
   "metadata": {},
   "outputs": [
    {
     "data": {
      "application/vnd.jupyter.widget-view+json": {
       "model_id": "46a299eec1a0446b90b1a63f361bb4d5",
       "version_major": 2,
       "version_minor": 0
      },
      "text/html": [
       "<p>Failed to display Jupyter Widget of type <code>HBox</code>.</p>\n",
       "<p>\n",
       "  If you're reading this message in the Jupyter Notebook or JupyterLab Notebook, it may mean\n",
       "  that the widgets JavaScript is still loading. If this message persists, it\n",
       "  likely means that the widgets JavaScript library is either not installed or\n",
       "  not enabled. See the <a href=\"https://ipywidgets.readthedocs.io/en/stable/user_install.html\">Jupyter\n",
       "  Widgets Documentation</a> for setup instructions.\n",
       "</p>\n",
       "<p>\n",
       "  If you're reading this message in another frontend (for example, a static\n",
       "  rendering on GitHub or <a href=\"https://nbviewer.jupyter.org/\">NBViewer</a>),\n",
       "  it may mean that your frontend doesn't currently support widgets.\n",
       "</p>\n"
      ],
      "text/plain": [
       "HBox(children=(IntProgress(value=0, max=26561), HTML(value='')))"
      ]
     },
     "metadata": {},
     "output_type": "display_data"
    },
    {
     "name": "stdout",
     "output_type": "stream",
     "text": [
      "\n"
     ]
    }
   ],
   "source": [
    "# (x1, y1, x2, y2)\n",
    "human_boxes_scale = []\n",
    "obj_boxes_scale = []\n",
    "for id_ in tqdm(range(len(retinanet_train_data))):\n",
    "    target_width = 1200\n",
    "    target_height = 800\n",
    "    scale_width = target_width/train_data_simple['size'][id_][0]\n",
    "    scale_height = target_height/train_data_simple['size'][id_][1]\n",
    "    if retinanet_train_data['human_boxes'][id_].any():\n",
    "        human_bbox = np.array([retinanet_train_data['human_boxes'][id_][:,0]/scale_width,retinanet_train_data['human_boxes'][id_][:,1]/scale_height,\n",
    "                               retinanet_train_data['human_boxes'][id_][:,2]/scale_width,retinanet_train_data['human_boxes'][id_][:,3]/scale_height]).astype('int64')\n",
    "    else:\n",
    "        human_bbox = np.array([])\n",
    "    if retinanet_train_data['obj_boxes'][id_].any():\n",
    "        object_bbox = np.array([retinanet_train_data['obj_boxes'][id_][:,0]/scale_width,retinanet_train_data['obj_boxes'][id_][:,1]/scale_height,\n",
    "                            retinanet_train_data['obj_boxes'][id_][:,2]/scale_width,retinanet_train_data['obj_boxes'][id_][:,3]/scale_height]).astype('int64')\n",
    "    else:\n",
    "        object_bbox = np.array([])\n",
    "    human_bbox = np.transpose(human_bbox)\n",
    "    object_bbox = np.transpose(object_bbox)\n",
    "    human_boxes_scale.append(human_bbox)\n",
    "    obj_boxes_scale.append(object_bbox)"
   ]
  },
  {
   "cell_type": "code",
   "execution_count": 90,
   "metadata": {},
   "outputs": [],
   "source": [
    "retinanet_train_data['human_boxes_scale'] = human_boxes_scale\n",
    "retinanet_train_data['obj_boxes_scale'] = obj_boxes_scale"
   ]
  },
  {
   "cell_type": "code",
   "execution_count": 91,
   "metadata": {},
   "outputs": [
    {
     "data": {
      "application/vnd.jupyter.widget-view+json": {
       "model_id": "ae4705d1ba964a30b96b7e8e572f65a2",
       "version_major": 2,
       "version_minor": 0
      },
      "text/html": [
       "<p>Failed to display Jupyter Widget of type <code>HBox</code>.</p>\n",
       "<p>\n",
       "  If you're reading this message in the Jupyter Notebook or JupyterLab Notebook, it may mean\n",
       "  that the widgets JavaScript is still loading. If this message persists, it\n",
       "  likely means that the widgets JavaScript library is either not installed or\n",
       "  not enabled. See the <a href=\"https://ipywidgets.readthedocs.io/en/stable/user_install.html\">Jupyter\n",
       "  Widgets Documentation</a> for setup instructions.\n",
       "</p>\n",
       "<p>\n",
       "  If you're reading this message in another frontend (for example, a static\n",
       "  rendering on GitHub or <a href=\"https://nbviewer.jupyter.org/\">NBViewer</a>),\n",
       "  it may mean that your frontend doesn't currently support widgets.\n",
       "</p>\n"
      ],
      "text/plain": [
       "HBox(children=(IntProgress(value=0, max=9658), HTML(value='')))"
      ]
     },
     "metadata": {},
     "output_type": "display_data"
    },
    {
     "name": "stdout",
     "output_type": "stream",
     "text": [
      "\n"
     ]
    }
   ],
   "source": [
    "# (x1, y1, x2, y2)\n",
    "human_boxes_scale = []\n",
    "obj_boxes_scale = []\n",
    "for id_ in tqdm(range(len(retinanet_test_data))):\n",
    "    target_width = 1200\n",
    "    target_height = 800\n",
    "    scale_width = target_width/test_data['size'][id_][0]\n",
    "    scale_height = target_height/test_data['size'][id_][1]\n",
    "    if retinanet_test_data['human_boxes'][id_].any():\n",
    "        human_bbox = np.array([retinanet_test_data['human_boxes'][id_][:,0]/scale_width,retinanet_test_data['human_boxes'][id_][:,1]/scale_height,\n",
    "                               retinanet_test_data['human_boxes'][id_][:,2]/scale_width,retinanet_test_data['human_boxes'][id_][:,3]/scale_height]).astype('int64')\n",
    "    else:\n",
    "        human_bbox = np.array([])\n",
    "    if retinanet_test_data['obj_boxes'][id_].any():\n",
    "        object_bbox = np.array([retinanet_test_data['obj_boxes'][id_][:,0]/scale_width,retinanet_test_data['obj_boxes'][id_][:,1]/scale_height,\n",
    "                            retinanet_test_data['obj_boxes'][id_][:,2]/scale_width,retinanet_test_data['obj_boxes'][id_][:,3]/scale_height]).astype('int64')\n",
    "    else:\n",
    "        object_bbox = np.array([])\n",
    "    human_bbox = np.transpose(human_bbox)\n",
    "    object_bbox = np.transpose(object_bbox)\n",
    "    human_boxes_scale.append(human_bbox)\n",
    "    obj_boxes_scale.append(object_bbox)"
   ]
  },
  {
   "cell_type": "code",
   "execution_count": 92,
   "metadata": {},
   "outputs": [],
   "source": [
    "retinanet_test_data['human_boxes_scale'] = human_boxes_scale\n",
    "retinanet_test_data['obj_boxes_scale'] = obj_boxes_scale"
   ]
  },
  {
   "cell_type": "code",
   "execution_count": 94,
   "metadata": {},
   "outputs": [
    {
     "data": {
      "text/html": [
       "<div>\n",
       "<table border=\"1\" class=\"dataframe\">\n",
       "  <thead>\n",
       "    <tr style=\"text-align: right;\">\n",
       "      <th></th>\n",
       "      <th>human_boxes</th>\n",
       "      <th>human_classes</th>\n",
       "      <th>human_scores</th>\n",
       "      <th>obj_boxes</th>\n",
       "      <th>obj_classes</th>\n",
       "      <th>obj_scores</th>\n",
       "      <th>human_boxes_scale</th>\n",
       "      <th>obj_boxes_scale</th>\n",
       "    </tr>\n",
       "  </thead>\n",
       "  <tbody>\n",
       "    <tr>\n",
       "      <th>0</th>\n",
       "      <td>[[499.931, 570.31, 585.983, 653.386], [586.385...</td>\n",
       "      <td>[0, 0, 0, 0, 0, 0, 0, 0, 0, 0]</td>\n",
       "      <td>[0.895941, 0.826185, 0.169253, 0.118786, 0.088...</td>\n",
       "      <td>[[499.931, 570.31, 585.983, 653.386], [586.385...</td>\n",
       "      <td>[0, 0, 13, 0, 37, 0, 0, 8, 0, 37]</td>\n",
       "      <td>[0.895941, 0.826185, 0.171216, 0.169253, 0.121...</td>\n",
       "      <td>[[266, 304, 312, 348], [312, 305, 355, 347], [...</td>\n",
       "      <td>[[266, 304, 312, 348], [312, 305, 355, 347], [...</td>\n",
       "    </tr>\n",
       "    <tr>\n",
       "      <th>1</th>\n",
       "      <td>[[308.324, 237.932, 375.532, 382.871], [616.46...</td>\n",
       "      <td>[0, 0, 0, 0, 0, 0, 0, 0, 0, 0]</td>\n",
       "      <td>[0.944135, 0.924199, 0.912345, 0.823877, 0.348...</td>\n",
       "      <td>[[347.299, 118.73, 707.122, 749.846], [308.324...</td>\n",
       "      <td>[17, 0, 0, 0, 0, 0, 26, 17, 17, 16]</td>\n",
       "      <td>[0.989298, 0.944135, 0.924199, 0.912345, 0.823...</td>\n",
       "      <td>[[164, 137, 200, 220], [328, 123, 435, 394], [...</td>\n",
       "      <td>[[185, 68, 377, 432], [164, 137, 200, 220], [3...</td>\n",
       "    </tr>\n",
       "    <tr>\n",
       "      <th>2</th>\n",
       "      <td>[[557.877, 343.684, 602.159, 442.866], [631.11...</td>\n",
       "      <td>[0, 0, 0, 0, 0, 0, 0, 0, 0, 0]</td>\n",
       "      <td>[0.532817, 0.445032, 0.423863, 0.419663, 0.374...</td>\n",
       "      <td>[[443.079, 295.991, 832.391, 553.367], [557.87...</td>\n",
       "      <td>[8, 0, 0, 0, 0, 0, 0, 8, 0, 0]</td>\n",
       "      <td>[0.884246, 0.532817, 0.445032, 0.423863, 0.419...</td>\n",
       "      <td>[[297, 182, 321, 235], [336, 175, 370, 208], [...</td>\n",
       "      <td>[[236, 157, 443, 293], [297, 182, 321, 235], [...</td>\n",
       "    </tr>\n",
       "    <tr>\n",
       "      <th>3</th>\n",
       "      <td>[[360.195, 177.759, 601.216, 513.244], [586.08...</td>\n",
       "      <td>[0, 0, 0, 0, 0, 0, 0, 0, 0, 0]</td>\n",
       "      <td>[0.902601, 0.860488, 0.822385, 0.32353, 0.2772...</td>\n",
       "      <td>[[360.195, 177.759, 601.216, 513.244], [586.08...</td>\n",
       "      <td>[0, 0, 0, 3, 3, 3, 0, 3, 3, 0]</td>\n",
       "      <td>[0.902601, 0.860488, 0.822385, 0.816507, 0.387...</td>\n",
       "      <td>[[192, 94, 320, 273], [312, 105, 469, 350], [4...</td>\n",
       "      <td>[[192, 94, 320, 273], [312, 105, 469, 350], [4...</td>\n",
       "    </tr>\n",
       "    <tr>\n",
       "      <th>4</th>\n",
       "      <td>[[26.69, 74.7989, 1063.53, 778.317], [17.4735,...</td>\n",
       "      <td>[0, 0, 0, 0, 0, 0, 0, 0, 0, 0]</td>\n",
       "      <td>[0.968395, 0.265503, 0.157211, 0.0719932, 0.06...</td>\n",
       "      <td>[[26.69, 74.7989, 1063.53, 778.317], [11.2367,...</td>\n",
       "      <td>[0, 63, 0, 59, 56, 25, 39, 0, 31, 28]</td>\n",
       "      <td>[0.968395, 0.28455, 0.265503, 0.214336, 0.2003...</td>\n",
       "      <td>[[10, 59, 425, 622], [6, 386, 216, 624], [328,...</td>\n",
       "      <td>[[10, 59, 425, 622], [4, 405, 210, 625], [6, 3...</td>\n",
       "    </tr>\n",
       "  </tbody>\n",
       "</table>\n",
       "</div>"
      ],
      "text/plain": [
       "                                         human_boxes  \\\n",
       "0  [[499.931, 570.31, 585.983, 653.386], [586.385...   \n",
       "1  [[308.324, 237.932, 375.532, 382.871], [616.46...   \n",
       "2  [[557.877, 343.684, 602.159, 442.866], [631.11...   \n",
       "3  [[360.195, 177.759, 601.216, 513.244], [586.08...   \n",
       "4  [[26.69, 74.7989, 1063.53, 778.317], [17.4735,...   \n",
       "\n",
       "                    human_classes  \\\n",
       "0  [0, 0, 0, 0, 0, 0, 0, 0, 0, 0]   \n",
       "1  [0, 0, 0, 0, 0, 0, 0, 0, 0, 0]   \n",
       "2  [0, 0, 0, 0, 0, 0, 0, 0, 0, 0]   \n",
       "3  [0, 0, 0, 0, 0, 0, 0, 0, 0, 0]   \n",
       "4  [0, 0, 0, 0, 0, 0, 0, 0, 0, 0]   \n",
       "\n",
       "                                        human_scores  \\\n",
       "0  [0.895941, 0.826185, 0.169253, 0.118786, 0.088...   \n",
       "1  [0.944135, 0.924199, 0.912345, 0.823877, 0.348...   \n",
       "2  [0.532817, 0.445032, 0.423863, 0.419663, 0.374...   \n",
       "3  [0.902601, 0.860488, 0.822385, 0.32353, 0.2772...   \n",
       "4  [0.968395, 0.265503, 0.157211, 0.0719932, 0.06...   \n",
       "\n",
       "                                           obj_boxes  \\\n",
       "0  [[499.931, 570.31, 585.983, 653.386], [586.385...   \n",
       "1  [[347.299, 118.73, 707.122, 749.846], [308.324...   \n",
       "2  [[443.079, 295.991, 832.391, 553.367], [557.87...   \n",
       "3  [[360.195, 177.759, 601.216, 513.244], [586.08...   \n",
       "4  [[26.69, 74.7989, 1063.53, 778.317], [11.2367,...   \n",
       "\n",
       "                             obj_classes  \\\n",
       "0      [0, 0, 13, 0, 37, 0, 0, 8, 0, 37]   \n",
       "1    [17, 0, 0, 0, 0, 0, 26, 17, 17, 16]   \n",
       "2         [8, 0, 0, 0, 0, 0, 0, 8, 0, 0]   \n",
       "3         [0, 0, 0, 3, 3, 3, 0, 3, 3, 0]   \n",
       "4  [0, 63, 0, 59, 56, 25, 39, 0, 31, 28]   \n",
       "\n",
       "                                          obj_scores  \\\n",
       "0  [0.895941, 0.826185, 0.171216, 0.169253, 0.121...   \n",
       "1  [0.989298, 0.944135, 0.924199, 0.912345, 0.823...   \n",
       "2  [0.884246, 0.532817, 0.445032, 0.423863, 0.419...   \n",
       "3  [0.902601, 0.860488, 0.822385, 0.816507, 0.387...   \n",
       "4  [0.968395, 0.28455, 0.265503, 0.214336, 0.2003...   \n",
       "\n",
       "                                   human_boxes_scale  \\\n",
       "0  [[266, 304, 312, 348], [312, 305, 355, 347], [...   \n",
       "1  [[164, 137, 200, 220], [328, 123, 435, 394], [...   \n",
       "2  [[297, 182, 321, 235], [336, 175, 370, 208], [...   \n",
       "3  [[192, 94, 320, 273], [312, 105, 469, 350], [4...   \n",
       "4  [[10, 59, 425, 622], [6, 386, 216, 624], [328,...   \n",
       "\n",
       "                                     obj_boxes_scale  \n",
       "0  [[266, 304, 312, 348], [312, 305, 355, 347], [...  \n",
       "1  [[185, 68, 377, 432], [164, 137, 200, 220], [3...  \n",
       "2  [[236, 157, 443, 293], [297, 182, 321, 235], [...  \n",
       "3  [[192, 94, 320, 273], [312, 105, 469, 350], [4...  \n",
       "4  [[10, 59, 425, 622], [4, 405, 210, 625], [6, 3...  "
      ]
     },
     "execution_count": 94,
     "metadata": {},
     "output_type": "execute_result"
    }
   ],
   "source": [
    "retinanet_test_data.head()"
   ]
  },
  {
   "cell_type": "code",
   "execution_count": 95,
   "metadata": {},
   "outputs": [
    {
     "data": {
      "text/html": [
       "<div>\n",
       "<table border=\"1\" class=\"dataframe\">\n",
       "  <thead>\n",
       "    <tr style=\"text-align: right;\">\n",
       "      <th></th>\n",
       "      <th>human_boxes</th>\n",
       "      <th>human_classes</th>\n",
       "      <th>human_scores</th>\n",
       "      <th>obj_boxes</th>\n",
       "      <th>obj_classes</th>\n",
       "      <th>obj_scores</th>\n",
       "      <th>human_boxes_scale</th>\n",
       "      <th>obj_boxes_scale</th>\n",
       "    </tr>\n",
       "  </thead>\n",
       "  <tbody>\n",
       "    <tr>\n",
       "      <th>0</th>\n",
       "      <td>[[303.091, 94.2147, 899.1, 593.524], [402.863,...</td>\n",
       "      <td>[0, 0, 0, 0, 0, 0, 0, 0, 0, 0]</td>\n",
       "      <td>[0.525526, 0.354927, 0.241286, 0.208718, 0.176...</td>\n",
       "      <td>[[107.635, 159.811, 1066.81, 666.512], [303.09...</td>\n",
       "      <td>[3, 0, 3, 0, 3, 3, 0, 3, 0, 0]</td>\n",
       "      <td>[0.965199, 0.525526, 0.495953, 0.354927, 0.273...</td>\n",
       "      <td>[[161, 56, 479, 356], [214, 17, 444, 281], [21...</td>\n",
       "      <td>[[57, 95, 568, 399], [161, 56, 479, 356], [167...</td>\n",
       "    </tr>\n",
       "    <tr>\n",
       "      <th>1</th>\n",
       "      <td>[[753.165, 1.21653, 1193.79, 234.197], [515.25...</td>\n",
       "      <td>[0, 0, 0, 0, 0, 0, 0, 0, 0, 0]</td>\n",
       "      <td>[0.677023, 0.344792, 0.142907, 0.107645, 0.105...</td>\n",
       "      <td>[[505.311, 79.8172, 613.313, 257.384], [1.2061...</td>\n",
       "      <td>[41, 60, 41, 0, 45, 39, 55, 45, 53, 0]</td>\n",
       "      <td>[0.872871, 0.853941, 0.832495, 0.677023, 0.616...</td>\n",
       "      <td>[[401, 0, 636, 140], [274, 1, 590, 126], [149,...</td>\n",
       "      <td>[[269, 47, 327, 154], [0, 61, 636, 476], [207,...</td>\n",
       "    </tr>\n",
       "    <tr>\n",
       "      <th>2</th>\n",
       "      <td>[[295.799, 351.228, 341.211, 428.633], [1136.2...</td>\n",
       "      <td>[0, 0, 0, 0, 0, 0, 0, 0, 0, 0]</td>\n",
       "      <td>[0.105357, 0.089883, 0.0735957, 0.0730004, 0.0...</td>\n",
       "      <td>[[162.984, 77.5025, 1008.47, 587.591], [0.6456...</td>\n",
       "      <td>[5, 2, 2, 9, 2, 2, 2, 2, 2, 5]</td>\n",
       "      <td>[0.946627, 0.641073, 0.578932, 0.451257, 0.361...</td>\n",
       "      <td>[[147, 280, 170, 342], [567, 351, 579, 386], [...</td>\n",
       "      <td>[[81, 62, 503, 470], [0, 362, 29, 390], [497, ...</td>\n",
       "    </tr>\n",
       "    <tr>\n",
       "      <th>3</th>\n",
       "      <td>[[310.867, 80.9681, 908.371, 679.467], [134.66...</td>\n",
       "      <td>[0, 0, 0, 0, 0, 0, 0, 0, 0, 0]</td>\n",
       "      <td>[0.978474, 0.935205, 0.601813, 0.374668, 0.357...</td>\n",
       "      <td>[[310.867, 80.9681, 908.371, 679.467], [134.66...</td>\n",
       "      <td>[0, 0, 0, 0, 0, 0, 27, 13, 27, 26]</td>\n",
       "      <td>[0.978474, 0.935205, 0.601813, 0.374668, 0.357...</td>\n",
       "      <td>[[165, 43, 484, 362], [71, 191, 153, 363], [50...</td>\n",
       "      <td>[[165, 43, 484, 362], [71, 191, 153, 363], [50...</td>\n",
       "    </tr>\n",
       "    <tr>\n",
       "      <th>4</th>\n",
       "      <td>[[192.053, 291.776, 370.511, 499.266], [42.078...</td>\n",
       "      <td>[0, 0, 0, 0, 0, 0, 0, 0, 0, 0]</td>\n",
       "      <td>[0.922179, 0.0638757, 0.0576938, 0.0, 0.0, 0.0...</td>\n",
       "      <td>[[7.22861, 403.377, 569.567, 790.378], [908.61...</td>\n",
       "      <td>[59, 62, 0, 39, 60, 60, 59, 67, 13, 60]</td>\n",
       "      <td>[0.995029, 0.963056, 0.922179, 0.730718, 0.506...</td>\n",
       "      <td>[[102, 155, 197, 265], [22, 188, 302, 406], [5...</td>\n",
       "      <td>[[3, 214, 303, 419], [484, 141, 576, 240], [10...</td>\n",
       "    </tr>\n",
       "  </tbody>\n",
       "</table>\n",
       "</div>"
      ],
      "text/plain": [
       "                                         human_boxes  \\\n",
       "0  [[303.091, 94.2147, 899.1, 593.524], [402.863,...   \n",
       "1  [[753.165, 1.21653, 1193.79, 234.197], [515.25...   \n",
       "2  [[295.799, 351.228, 341.211, 428.633], [1136.2...   \n",
       "3  [[310.867, 80.9681, 908.371, 679.467], [134.66...   \n",
       "4  [[192.053, 291.776, 370.511, 499.266], [42.078...   \n",
       "\n",
       "                    human_classes  \\\n",
       "0  [0, 0, 0, 0, 0, 0, 0, 0, 0, 0]   \n",
       "1  [0, 0, 0, 0, 0, 0, 0, 0, 0, 0]   \n",
       "2  [0, 0, 0, 0, 0, 0, 0, 0, 0, 0]   \n",
       "3  [0, 0, 0, 0, 0, 0, 0, 0, 0, 0]   \n",
       "4  [0, 0, 0, 0, 0, 0, 0, 0, 0, 0]   \n",
       "\n",
       "                                        human_scores  \\\n",
       "0  [0.525526, 0.354927, 0.241286, 0.208718, 0.176...   \n",
       "1  [0.677023, 0.344792, 0.142907, 0.107645, 0.105...   \n",
       "2  [0.105357, 0.089883, 0.0735957, 0.0730004, 0.0...   \n",
       "3  [0.978474, 0.935205, 0.601813, 0.374668, 0.357...   \n",
       "4  [0.922179, 0.0638757, 0.0576938, 0.0, 0.0, 0.0...   \n",
       "\n",
       "                                           obj_boxes  \\\n",
       "0  [[107.635, 159.811, 1066.81, 666.512], [303.09...   \n",
       "1  [[505.311, 79.8172, 613.313, 257.384], [1.2061...   \n",
       "2  [[162.984, 77.5025, 1008.47, 587.591], [0.6456...   \n",
       "3  [[310.867, 80.9681, 908.371, 679.467], [134.66...   \n",
       "4  [[7.22861, 403.377, 569.567, 790.378], [908.61...   \n",
       "\n",
       "                               obj_classes  \\\n",
       "0           [3, 0, 3, 0, 3, 3, 0, 3, 0, 0]   \n",
       "1   [41, 60, 41, 0, 45, 39, 55, 45, 53, 0]   \n",
       "2           [5, 2, 2, 9, 2, 2, 2, 2, 2, 5]   \n",
       "3       [0, 0, 0, 0, 0, 0, 27, 13, 27, 26]   \n",
       "4  [59, 62, 0, 39, 60, 60, 59, 67, 13, 60]   \n",
       "\n",
       "                                          obj_scores  \\\n",
       "0  [0.965199, 0.525526, 0.495953, 0.354927, 0.273...   \n",
       "1  [0.872871, 0.853941, 0.832495, 0.677023, 0.616...   \n",
       "2  [0.946627, 0.641073, 0.578932, 0.451257, 0.361...   \n",
       "3  [0.978474, 0.935205, 0.601813, 0.374668, 0.357...   \n",
       "4  [0.995029, 0.963056, 0.922179, 0.730718, 0.506...   \n",
       "\n",
       "                                   human_boxes_scale  \\\n",
       "0  [[161, 56, 479, 356], [214, 17, 444, 281], [21...   \n",
       "1  [[401, 0, 636, 140], [274, 1, 590, 126], [149,...   \n",
       "2  [[147, 280, 170, 342], [567, 351, 579, 386], [...   \n",
       "3  [[165, 43, 484, 362], [71, 191, 153, 363], [50...   \n",
       "4  [[102, 155, 197, 265], [22, 188, 302, 406], [5...   \n",
       "\n",
       "                                     obj_boxes_scale  \n",
       "0  [[57, 95, 568, 399], [161, 56, 479, 356], [167...  \n",
       "1  [[269, 47, 327, 154], [0, 61, 636, 476], [207,...  \n",
       "2  [[81, 62, 503, 470], [0, 362, 29, 390], [497, ...  \n",
       "3  [[165, 43, 484, 362], [71, 191, 153, 363], [50...  \n",
       "4  [[3, 214, 303, 419], [484, 141, 576, 240], [10...  "
      ]
     },
     "execution_count": 95,
     "metadata": {},
     "output_type": "execute_result"
    }
   ],
   "source": [
    "retinanet_train_data.head()"
   ]
  },
  {
   "cell_type": "code",
   "execution_count": 96,
   "metadata": {},
   "outputs": [],
   "source": [
    "retinanet_train_data.to_json('retinanet_train_top_10_data.json')\n",
    "retinanet_test_data.to_json('retinanet_test_top_10_data.json')"
   ]
  },
  {
   "cell_type": "code",
   "execution_count": null,
   "metadata": {},
   "outputs": [],
   "source": []
  }
 ],
 "metadata": {
  "kernelspec": {
   "display_name": "Python 3",
   "language": "python",
   "name": "python3"
  },
  "language_info": {
   "codemirror_mode": {
    "name": "ipython",
    "version": 3
   },
   "file_extension": ".py",
   "mimetype": "text/x-python",
   "name": "python",
   "nbconvert_exporter": "python",
   "pygments_lexer": "ipython3",
   "version": "3.6.3"
  }
 },
 "nbformat": 4,
 "nbformat_minor": 2
}
