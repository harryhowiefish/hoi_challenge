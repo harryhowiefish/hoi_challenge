{
 "cells": [
  {
   "cell_type": "code",
   "execution_count": 2,
   "metadata": {},
   "outputs": [
    {
     "name": "stderr",
     "output_type": "stream",
     "text": [
      "Using TensorFlow backend.\n"
     ]
    }
   ],
   "source": [
    "import pandas as pd\n",
    "import cv2\n",
    "import os\n",
    "import numpy as np\n",
    "import time\n",
    "import matplotlib.pyplot as plt\n",
    "%matplotlib inline\n",
    "import json\n",
    "import pickle\n",
    "# import tensorflow as tf\n",
    "import keras\n",
    "import keras.backend as K\n",
    "# from keras_retinanet.models.resnet import custom_objects\n",
    "# from keras_retinanet.models.resnet import resnet_retinanet as retinanet, custom_objects, download_imagenet\n",
    "# import keras_retinanet\n",
    "# import keras_retinanet.bin.train\n",
    "from sklearn.utils import shuffle \n",
    "from tqdm import tqdm_notebook as tqdm"
   ]
  },
  {
   "cell_type": "code",
   "execution_count": 3,
   "metadata": {},
   "outputs": [],
   "source": [
    "json_file = open('/home/jovyan/hico_model.json', 'r')\n",
    "model_json = json_file.read()\n",
    "json_file.close()\n",
    "model = keras.models.model_from_json(model_json)\n",
    "model.load_weights('/home/jovyan/hico_second_try.h5')"
   ]
  },
  {
   "cell_type": "code",
   "execution_count": 4,
   "metadata": {},
   "outputs": [
    {
     "name": "stdout",
     "output_type": "stream",
     "text": [
      "__________________________________________________________________________________________________\n",
      "Layer (type)                    Output Shape         Param #     Connected to                     \n",
      "==================================================================================================\n",
      "input_8 (InputLayer)            (None, None, 4)      0                                            \n",
      "__________________________________________________________________________________________________\n",
      "input_6 (InputLayer)            (None, None, 4)      0                                            \n",
      "__________________________________________________________________________________________________\n",
      "lambda_5 (Lambda)               (None, None, 2, 4)   0           input_8[0][0]                    \n",
      "                                                                 input_6[0][0]                    \n",
      "__________________________________________________________________________________________________\n",
      "input_5 (InputLayer)            (None, 800, 1200, 3) 0                                            \n",
      "__________________________________________________________________________________________________\n",
      "lambda_6 (Lambda)               [(None, None, 200, 2 0           lambda_5[0][0]                   \n",
      "                                                                 input_5[0][0]                    \n",
      "__________________________________________________________________________________________________\n",
      "lambda_7 (Lambda)               [(None, None, 200, 2 0           lambda_5[0][0]                   \n",
      "                                                                 input_5[0][0]                    \n",
      "__________________________________________________________________________________________________\n",
      "lambda_8 (Lambda)               (None, None, 128, 12 0           lambda_5[0][0]                   \n",
      "__________________________________________________________________________________________________\n",
      "time_distributed_25 (TimeDistri (None, None, 200, 20 448         lambda_6[0][0]                   \n",
      "__________________________________________________________________________________________________\n",
      "time_distributed_33 (TimeDistri (None, None, 200, 20 448         lambda_7[0][0]                   \n",
      "__________________________________________________________________________________________________\n",
      "time_distributed_41 (TimeDistri (None, None, 128, 12 448         lambda_8[0][0]                   \n",
      "__________________________________________________________________________________________________\n",
      "time_distributed_26 (TimeDistri (None, None, 66, 66, 0           time_distributed_25[0][0]        \n",
      "__________________________________________________________________________________________________\n",
      "time_distributed_34 (TimeDistri (None, None, 66, 66, 0           time_distributed_33[0][0]        \n",
      "__________________________________________________________________________________________________\n",
      "time_distributed_42 (TimeDistri (None, None, 64, 64, 0           time_distributed_41[0][0]        \n",
      "__________________________________________________________________________________________________\n",
      "time_distributed_27 (TimeDistri (None, None, 66, 66, 4640        time_distributed_26[0][0]        \n",
      "__________________________________________________________________________________________________\n",
      "time_distributed_35 (TimeDistri (None, None, 66, 66, 4640        time_distributed_34[0][0]        \n",
      "__________________________________________________________________________________________________\n",
      "time_distributed_43 (TimeDistri (None, None, 64, 64, 4640        time_distributed_42[0][0]        \n",
      "__________________________________________________________________________________________________\n",
      "time_distributed_28 (TimeDistri (None, None, 22, 22, 0           time_distributed_27[0][0]        \n",
      "__________________________________________________________________________________________________\n",
      "time_distributed_36 (TimeDistri (None, None, 22, 22, 0           time_distributed_35[0][0]        \n",
      "__________________________________________________________________________________________________\n",
      "time_distributed_44 (TimeDistri (None, None, 32, 32, 0           time_distributed_43[0][0]        \n",
      "__________________________________________________________________________________________________\n",
      "time_distributed_29 (TimeDistri (None, None, 22, 22, 9248        time_distributed_28[0][0]        \n",
      "__________________________________________________________________________________________________\n",
      "time_distributed_37 (TimeDistri (None, None, 22, 22, 9248        time_distributed_36[0][0]        \n",
      "__________________________________________________________________________________________________\n",
      "time_distributed_45 (TimeDistri (None, None, 32, 32, 9248        time_distributed_44[0][0]        \n",
      "__________________________________________________________________________________________________\n",
      "time_distributed_30 (TimeDistri (None, None, 7, 7, 3 0           time_distributed_29[0][0]        \n",
      "__________________________________________________________________________________________________\n",
      "time_distributed_38 (TimeDistri (None, None, 7, 7, 3 0           time_distributed_37[0][0]        \n",
      "__________________________________________________________________________________________________\n",
      "time_distributed_46 (TimeDistri (None, None, 16, 16, 0           time_distributed_45[0][0]        \n",
      "__________________________________________________________________________________________________\n",
      "time_distributed_31 (TimeDistri (None, None, 1568)   0           time_distributed_30[0][0]        \n",
      "__________________________________________________________________________________________________\n",
      "time_distributed_39 (TimeDistri (None, None, 1568)   0           time_distributed_38[0][0]        \n",
      "__________________________________________________________________________________________________\n",
      "time_distributed_47 (TimeDistri (None, None, 8192)   0           time_distributed_46[0][0]        \n",
      "__________________________________________________________________________________________________\n",
      "time_distributed_32 (TimeDistri (None, None, 600)    941400      time_distributed_31[0][0]        \n",
      "__________________________________________________________________________________________________\n",
      "time_distributed_40 (TimeDistri (None, None, 600)    941400      time_distributed_39[0][0]        \n",
      "__________________________________________________________________________________________________\n",
      "time_distributed_48 (TimeDistri (None, None, 600)    4915800     time_distributed_47[0][0]        \n",
      "__________________________________________________________________________________________________\n",
      "add_2 (Add)                     (None, None, 600)    0           time_distributed_32[0][0]        \n",
      "                                                                 time_distributed_40[0][0]        \n",
      "                                                                 time_distributed_48[0][0]        \n",
      "__________________________________________________________________________________________________\n",
      "input_7 (InputLayer)            (None, None)         0                                            \n",
      "__________________________________________________________________________________________________\n",
      "dense_8 (Dense)                 (None, None, 600)    360600      add_2[0][0]                      \n",
      "__________________________________________________________________________________________________\n",
      "activation_2 (Activation)       (None, None)         0           input_7[0][0]                    \n",
      "==================================================================================================\n",
      "Total params: 7,202,208\n",
      "Trainable params: 7,202,208\n",
      "Non-trainable params: 0\n",
      "__________________________________________________________________________________________________\n"
     ]
    }
   ],
   "source": [
    "model.summary()"
   ]
  },
  {
   "cell_type": "code",
   "execution_count": 5,
   "metadata": {},
   "outputs": [],
   "source": [
    "test_data = pd.read_json('../test_data_with_obj_id.json')\n",
    "test_data = test_data.sort_index()\n",
    "retinanet_test_data = pd.read_json('retinanet_test_data.json')\n",
    "retinanet_test_data = retinanet_test_data.sort_index()\n",
    "with open('../hoi_dict.json', 'r') as f:\n",
    "    hoi_dict = json.load(f)\n",
    "with open('../obj_dict.json', 'r') as f:\n",
    "    obj_dict = json.load(f)\n",
    "obj_word_to_id = {v:int(k) for k,v in obj_dict.items()}"
   ]
  },
  {
   "cell_type": "code",
   "execution_count": 6,
   "metadata": {},
   "outputs": [],
   "source": [
    "def test_data_gen(retinanet_test_data,test_data,id_):\n",
    "    img_stack = np.array([]).reshape(0,800,1200,3)\n",
    "    human_stack = np.array([]).reshape(0,4)\n",
    "    object_stack = np.array([]).reshape(0,4)\n",
    "    object_class_stack = np.array([]).reshape(1,0)\n",
    "            #image\n",
    "    img = cv2.imread(os.path.join('/home/jovyan/projectdata/cht01/hico_20160224_det/images/test2015/',test_data['name'][id_]))\n",
    "    img = cv2.resize(img, (1200,800))\n",
    "    img = img/255\n",
    "    img = np.expand_dims(img,axis=0)\n",
    "    img_stack = np.row_stack([img_stack,img])\n",
    "\n",
    "            \n",
    "            #human object bbox pair & object class\n",
    "    for i in range(len(retinanet_test_data.human_boxes[id_])):\n",
    "        if (np.max(retinanet_test_data.human_scores[id_]) >0.5) & (retinanet_test_data.human_scores[id_][i]<0.5):\n",
    "            continue\n",
    "        ho_pair_h = retinanet_test_data.human_boxes[id_][i]\n",
    "        ho_pair_h = np.expand_dims(ho_pair_h,axis=0)\n",
    "#         ho_pair_h = np.expand_dims(ho_pair_h,axis=0)\n",
    "        human_stack = np.row_stack([human_stack,ho_pair_h])\n",
    "\n",
    "    for j in range(len(retinanet_test_data.obj_boxes[id_])):\n",
    "        if (np.max(retinanet_test_data.obj_scores[id_]) >0.5) & (retinanet_test_data.obj_scores[id_][j]<0.5):\n",
    "            continue\n",
    "#         print(j)\n",
    "        ho_pair_o = retinanet_test_data.obj_boxes[id_][j]\n",
    "        object_class = retinanet_test_data.obj_classes[id_][j]\n",
    "        ho_pair_o = np.expand_dims(ho_pair_o,axis=0)\n",
    "#       ho_pair_o = np.expand_dims(ho_pair_o,axis=0)\n",
    "\n",
    "#       object_class = np.expand_dims(object_class,axis=0)\n",
    "            \n",
    "#       img_stack = np.row_stack([img_stack,img])\n",
    "        object_stack = np.row_stack([object_stack,ho_pair_o])\n",
    "        object_class_stack = np.column_stack([object_class_stack,object_class])\n",
    "#     img_stack = np.expand_dims(img_stack,axis=0)\n",
    "    human_stack = np.expand_dims(human_stack,axis=0)\n",
    "    object_stack = np.expand_dims(object_stack,axis=0)\n",
    "#     object_class_stack = np.expand_dims(object_class_stack,axis=0)\n",
    "    test_batch = [img_stack,human_stack,object_stack,object_class_stack]\n",
    "    return test_batch"
   ]
  },
  {
   "cell_type": "code",
   "execution_count": 9,
   "metadata": {},
   "outputs": [
    {
     "data": {
      "text/plain": [
       "((1, 800, 1200, 3), (1, 4, 4), (1, 5, 4), (1, 5))"
      ]
     },
     "execution_count": 9,
     "metadata": {},
     "output_type": "execute_result"
    }
   ],
   "source": [
    "test_one_img = test_data_gen(retinanet_test_data,test_data,1)\n",
    "test_one_img[0].shape,test_one_img[1].shape,test_one_img[2].shape,test_one_img[3].shape"
   ]
  },
  {
   "cell_type": "code",
   "execution_count": 10,
   "metadata": {},
   "outputs": [
    {
     "data": {
      "application/vnd.jupyter.widget-view+json": {
       "model_id": "fdc6cf532cb1434da11a78ec97bbe7b7",
       "version_major": 2,
       "version_minor": 0
      },
      "text/html": [
       "<p>Failed to display Jupyter Widget of type <code>HBox</code>.</p>\n",
       "<p>\n",
       "  If you're reading this message in the Jupyter Notebook or JupyterLab Notebook, it may mean\n",
       "  that the widgets JavaScript is still loading. If this message persists, it\n",
       "  likely means that the widgets JavaScript library is either not installed or\n",
       "  not enabled. See the <a href=\"https://ipywidgets.readthedocs.io/en/stable/user_install.html\">Jupyter\n",
       "  Widgets Documentation</a> for setup instructions.\n",
       "</p>\n",
       "<p>\n",
       "  If you're reading this message in another frontend (for example, a static\n",
       "  rendering on GitHub or <a href=\"https://nbviewer.jupyter.org/\">NBViewer</a>),\n",
       "  it may mean that your frontend doesn't currently support widgets.\n",
       "</p>\n"
      ],
      "text/plain": [
       "HBox(children=(IntProgress(value=0, max=9658), HTML(value='')))"
      ]
     },
     "metadata": {},
     "output_type": "display_data"
    },
    {
     "name": "stdout",
     "output_type": "stream",
     "text": [
      "\n"
     ]
    }
   ],
   "source": [
    "pred_all = []\n",
    "for i in tqdm(range(test_data.shape[0])):\n",
    "    test_one_img = test_data_gen(retinanet_test_data,test_data,i)\n",
    "    if test_one_img[1].any()==True:\n",
    "        pred = model.predict(test_one_img)\n",
    "    else:\n",
    "        pred = [np.array([]).reshape((1,0,600)),np.array([]).reshape((1,0))]\n",
    "    pred_all.append(pred)"
   ]
  },
  {
   "cell_type": "code",
   "execution_count": 11,
   "metadata": {},
   "outputs": [],
   "source": [
    "with open('predict_result','wb') as file:\n",
    "    pickle.dump(pred_all,file)"
   ]
  },
  {
   "cell_type": "markdown",
   "metadata": {},
   "source": [
    "# testing visualization"
   ]
  },
  {
   "cell_type": "code",
   "execution_count": 6,
   "metadata": {},
   "outputs": [],
   "source": [
    "with open('predict_result','rb') as file:\n",
    "    pred_all = pickle.load(file)\n",
    "test_data = pd.read_json('../test_data_with_obj_id.json')\n",
    "test_data = test_data.sort_index()\n",
    "retinanet_test_data = pd.read_json('retinanet_test_data.json')\n",
    "retinanet_test_data = retinanet_test_data.sort_index()\n",
    "with open('../hoi_dict.json', 'r') as f:\n",
    "    hoi_dict = json.load(f)\n",
    "with open('../obj_dict.json', 'r') as f:\n",
    "    obj_dict = json.load(f)\n",
    "obj_word_to_id = {v:int(k) for k,v in obj_dict.items()}"
   ]
  },
  {
   "cell_type": "code",
   "execution_count": 7,
   "metadata": {},
   "outputs": [],
   "source": [
    "def visual_data_gen(retinanet_test_data,test_data,id_):\n",
    "    img_stack = np.array([]).reshape(0,800,1200,3)\n",
    "    human_stack = np.array([]).reshape(0,4)\n",
    "    object_stack = np.array([]).reshape(0,4)\n",
    "    object_class_stack = np.array([]).reshape(1,0)\n",
    "            #image\n",
    "    img = cv2.imread(os.path.join('/home/jovyan/projectdata/cht01/hico_20160224_det/images/test2015/',test_data['name'][id_]))\n",
    "    img = cv2.resize(img, (1200,800))\n",
    "    img = img/255\n",
    "    img = np.expand_dims(img,axis=0)\n",
    "    img_stack = np.row_stack([img_stack,img])\n",
    "\n",
    "            \n",
    "            #human object bbox pair & object class\n",
    "    for i in range(len(retinanet_test_data.human_boxes[id_])):\n",
    "        if (np.max(retinanet_test_data.human_scores[id_]) >0.5) & (retinanet_test_data.human_scores[id_][i]<0.5):\n",
    "            continue\n",
    "        ho_pair_h = retinanet_test_data.human_boxes[id_][i]\n",
    "        ho_pair_h = np.expand_dims(ho_pair_h,axis=0)\n",
    "        human_stack = np.row_stack([human_stack,ho_pair_h])\n",
    "\n",
    "    for j in range(len(retinanet_test_data.obj_boxes[id_])):\n",
    "        if (np.max(retinanet_test_data.obj_scores[id_]) >0.5) & (retinanet_test_data.obj_scores[id_][j]<0.5):\n",
    "            continue\n",
    "        ho_pair_o = retinanet_test_data.obj_boxes[id_][j]\n",
    "        object_class = retinanet_test_data.obj_classes[id_][j]\n",
    "        ho_pair_o = np.expand_dims(ho_pair_o,axis=0)\n",
    "\n",
    "        object_stack = np.row_stack([object_stack,ho_pair_o])\n",
    "        object_class_stack = np.column_stack([object_class_stack,object_class])\n",
    "    human_stack = np.expand_dims(human_stack,axis=0)\n",
    "    object_stack = np.expand_dims(object_stack,axis=0)\n",
    "    test_batch = [img_stack,human_stack,object_stack,object_class_stack]\n",
    "    pred = model.predict(test_batch)\n",
    "    return img[0],human_stack[0],object_stack[0],pred[0][0]"
   ]
  },
  {
   "cell_type": "code",
   "execution_count": null,
   "metadata": {},
   "outputs": [],
   "source": [
    "a,b,c,d = visual_data_gen(retinanet_test_data,test_data,9)\n",
    "# RGB_img = cv2.cvtColor(a, cv2.COLOR_BGR2RGB)\n",
    "RGB_img = a[:,:,::-1]\n",
    "action = np.where(d>0.7)[1]\n",
    "for i in action:\n",
    "    print(hoi_dict[str(i+1)])\n",
    "plt.imshow(RGB_img)\n",
    "# b = b.astype('int64')\n",
    "# c = c.astype('int64')\n",
    "# fig,(ax1,ax2) = plt.subplots(1,2)\n",
    "# fig.set_size_inches(16,8)\n",
    "# for i in b:\n",
    "#     cv2.rectangle(RGB_img, (i[0],i[1]),(i[2],i[3]), (0.5,0,0.5), 2)\n",
    "# ax1.imshow(RGB_img)\n",
    "# for i in c:\n",
    "#     cv2.rectangle(RGB_img, (i[0],i[1]),(i[2],i[3]), (0,0.5,0), 2)\n",
    "# ax2.imshow(RGB_img)"
   ]
  },
  {
   "cell_type": "markdown",
   "metadata": {},
   "source": [
    "# mAP calculation"
   ]
  },
  {
   "cell_type": "code",
   "execution_count": 8,
   "metadata": {},
   "outputs": [],
   "source": [
    "with open('predict_result','rb') as file:\n",
    "    pred_all = pickle.load(file)\n",
    "test_data = pd.read_json('../test_data_with_obj_id.json')\n",
    "test_data = test_data.sort_index()\n",
    "retinanet_test_data = pd.read_json('retinanet_test_data.json')\n",
    "retinanet_test_data = retinanet_test_data.sort_index()\n",
    "with open('../hoi_dict.json', 'r') as f:\n",
    "    hoi_dict = json.load(f)\n",
    "with open('../obj_dict.json', 'r') as f:\n",
    "    obj_dict = json.load(f)\n",
    "obj_word_to_id = {v:int(k) for k,v in obj_dict.items()}"
   ]
  },
  {
   "cell_type": "code",
   "execution_count": 9,
   "metadata": {},
   "outputs": [],
   "source": [
    "#先跑object loop再跑human loop\n",
    "#bbox = (x1,y1,x2,y2)\n",
    "def bbox_gen(retinanet_test_data,id_):\n",
    "    human_stack = np.array([]).reshape(0,4)\n",
    "    object_stack = np.array([]).reshape(0,4)\n",
    "    object_class_stack = np.array([]).reshape(0,1)\n",
    "\n",
    "    for i in range(len(retinanet_test_data.human_boxes_scale[id_])):\n",
    "        if (np.max(retinanet_test_data.human_scores[id_]) >0.5) & (retinanet_test_data.human_scores[id_][i]<0.5):\n",
    "            continue\n",
    "        ho_pair_h = retinanet_test_data.human_boxes_scale[id_][i]\n",
    "        ho_pair_h = np.expand_dims(ho_pair_h,axis=0)\n",
    "\n",
    "        for j in range(len(retinanet_test_data.obj_boxes_scale[id_])):\n",
    "            if (np.max(retinanet_test_data.obj_scores[id_]) >0.5) & (retinanet_test_data.obj_scores[id_][j]<0.5):\n",
    "                continue\n",
    "            ho_pair_o = retinanet_test_data.obj_boxes_scale[id_][j]\n",
    "            ho_pair_o = np.expand_dims(ho_pair_o,axis=0)\n",
    "            \n",
    "            object_class = retinanet_test_data.obj_classes[id_][j]\n",
    "            object_class = np.expand_dims(object_class,axis=0)\n",
    "            \n",
    "            human_stack = np.row_stack([human_stack,ho_pair_h])\n",
    "            object_stack = np.row_stack([object_stack,ho_pair_o])\n",
    "            object_class_stack = np.row_stack([object_class_stack,object_class])\n",
    "    object_class_stack = np.squeeze(object_class_stack)\n",
    "    \n",
    "    ho_bbox = [human_stack,object_stack,object_class_stack]\n",
    "    return ho_bbox"
   ]
  },
  {
   "cell_type": "code",
   "execution_count": null,
   "metadata": {},
   "outputs": [
    {
     "data": {
      "application/vnd.jupyter.widget-view+json": {
       "model_id": "2820783f47f5495ab7c08a211c47850f",
       "version_major": 2,
       "version_minor": 0
      },
      "text/html": [
       "<p>Failed to display Jupyter Widget of type <code>HBox</code>.</p>\n",
       "<p>\n",
       "  If you're reading this message in the Jupyter Notebook or JupyterLab Notebook, it may mean\n",
       "  that the widgets JavaScript is still loading. If this message persists, it\n",
       "  likely means that the widgets JavaScript library is either not installed or\n",
       "  not enabled. See the <a href=\"https://ipywidgets.readthedocs.io/en/stable/user_install.html\">Jupyter\n",
       "  Widgets Documentation</a> for setup instructions.\n",
       "</p>\n",
       "<p>\n",
       "  If you're reading this message in another frontend (for example, a static\n",
       "  rendering on GitHub or <a href=\"https://nbviewer.jupyter.org/\">NBViewer</a>),\n",
       "  it may mean that your frontend doesn't currently support widgets.\n",
       "</p>\n"
      ],
      "text/plain": [
       "HBox(children=(IntProgress(value=0, max=9658), HTML(value='')))"
      ]
     },
     "metadata": {},
     "output_type": "display_data"
    },
    {
     "name": "stdout",
     "output_type": "stream",
     "text": [
      "\n"
     ]
    }
   ],
   "source": [
    "#calc all image per action for AP\n",
    "AP_list = []\n",
    "for action_id in tqdm(range(1,601)):\n",
    "    bool_list = [item[1]==action_id for item in gt_action_all]\n",
    "    gt_1action_action = [item for i,item in enumerate(gt_action_all) if bool_list[i]==True] \n",
    "    gt_1action_h_bbox = [item for i,item in enumerate(gt_h_bbox_all) if bool_list[i]==True] \n",
    "    gt_1action_o_bbox = [item for i,item in enumerate(gt_o_bbox_all) if bool_list[i]==True] \n",
    "\n",
    "    tp = np.zeros([len(result_h_bbox_all)])\n",
    "    fp = np.zeros([len(result_h_bbox_all)])\n",
    "    \n",
    "    npos = len(gt_1action_action)\n",
    "    result_1action_score = [(item[0],item[1][action_id-1]) for item in result_action_all]\n",
    "    indices = np.argsort(result_1action_score,axis=0)[:,1][::-1]\n",
    "    score = [result_1action_score[i] for i in indices]\n",
    "    h_bbox = [result_h_bbox_all[i] for i in indices]\n",
    "    o_bbox = [result_o_bbox_all[i] for i in indices]\n",
    "\n",
    "    for i in tqdmrange(len(h_bbox)):\n",
    "        for j in range(len(gt_1action_h_bbox)):\n",
    "            if h_bbox[i][0]==gt_1action_h_bbox[j][0]:\n",
    "                iou_h = bb_iou(h_bbox[i][1],gt_1action_h_bbox[j][1])\n",
    "                iou_o = bb_iou(o_bbox[i][1],gt_1action_o_bbox[j][1])\n",
    "                if np.min([iou_h,iou_o])>0.5:\n",
    "                    tp[i]=1\n",
    "                else:\n",
    "                    fp[i]=1\n",
    "    fp = np.cumsum(fp)\n",
    "    tp = np.cumsum(tp)\n",
    "    rec = tp/npos\n",
    "    prec = tp/(fp+tp)\n",
    "    AP=0\n",
    "    for t in np.arange(0.0, 1.0, 0.1):\n",
    "        if prec[rec>=t].any():\n",
    "            p = np.max(prec[rec>=t])\n",
    "            AP = AP +p/11\n",
    "        else:\n",
    "            p=0\n",
    "            AP = AP +p/11\n",
    "    AP_list.append(AP)"
   ]
  },
  {
   "cell_type": "code",
   "execution_count": 11,
   "metadata": {},
   "outputs": [
    {
     "data": {
      "application/vnd.jupyter.widget-view+json": {
       "model_id": "b9ee8f5a6bc143d3a27d99562bcca3dc",
       "version_major": 2,
       "version_minor": 0
      },
      "text/html": [
       "<p>Failed to display Jupyter Widget of type <code>HBox</code>.</p>\n",
       "<p>\n",
       "  If you're reading this message in the Jupyter Notebook or JupyterLab Notebook, it may mean\n",
       "  that the widgets JavaScript is still loading. If this message persists, it\n",
       "  likely means that the widgets JavaScript library is either not installed or\n",
       "  not enabled. See the <a href=\"https://ipywidgets.readthedocs.io/en/stable/user_install.html\">Jupyter\n",
       "  Widgets Documentation</a> for setup instructions.\n",
       "</p>\n",
       "<p>\n",
       "  If you're reading this message in another frontend (for example, a static\n",
       "  rendering on GitHub or <a href=\"https://nbviewer.jupyter.org/\">NBViewer</a>),\n",
       "  it may mean that your frontend doesn't currently support widgets.\n",
       "</p>\n"
      ],
      "text/plain": [
       "HBox(children=(IntProgress(value=0, max=9658), HTML(value='')))"
      ]
     },
     "metadata": {},
     "output_type": "display_data"
    },
    {
     "name": "stdout",
     "output_type": "stream",
     "text": [
      "\n"
     ]
    }
   ],
   "source": [
    "#bbox = (x1,x2,y1,y2) >>> (x1,y1,x2,y2)\n",
    "gt_action = []\n",
    "gt_h_bbox = []\n",
    "gt_o_bbox = []\n",
    "gt_o_class = []\n",
    "for id_ in tqdm(range(len(test_data))):\n",
    "    gt_action_sublist = []\n",
    "    gt_h_bbox_sublist = []\n",
    "    gt_o_bbox_sublist = []\n",
    "    gt_o_class_sublist = []  \n",
    "    h_box = np.array([[item[0],item[2],item[1],item[3]] for item in np.array(test_data.human_bbox[id_])])\n",
    "    o_box = np.array([[item[0],item[2],item[1],item[3]] for item in np.array(test_data.object_bbox[id_])])\n",
    "    pair_no = np.array(test_data.pair_no[id_])\n",
    "    action_no = np.array(test_data.action_no[id_])\n",
    "    obj_id = np.array(test_data.obj_id[id_])\n",
    "    max_o_box_id = 0\n",
    "    last_h_box_id = 0\n",
    "    last_o_box_id = 0\n",
    "    h_box_id_shift = 0\n",
    "    o_box_id_shift = 0\n",
    "    action_id = 0\n",
    "    if pair_no.any():\n",
    "        for j in pair_no:\n",
    "            if len(j)==2:\n",
    "                h_box_id = j[0] + h_box_id_shift \n",
    "                o_box_id = j[1] + o_box_id_shift\n",
    "                if h_box_id > last_h_box_id or o_box_id > last_o_box_id:\n",
    "                    gt_action_sublist.append(action_no[action_id])\n",
    "                    gt_o_class_sublist.append(obj_word_to_id[hoi_dict[str(action_no[action_id])][1].replace('_',\" \")])\n",
    "                    gt_h_bbox_sublist.append(h_box[h_box_id-1])\n",
    "                    gt_o_bbox_sublist.append(o_box[o_box_id-1])\n",
    "                    last_h_box_id = h_box_id\n",
    "                    last_o_box_id = o_box_id\n",
    "                    if o_box_id>max_o_box_id:\n",
    "                        max_o_box_id=o_box_id\n",
    "                else:\n",
    "                    h_box_id_shift = last_h_box_id\n",
    "                    o_box_id_shift = max_o_box_id\n",
    "                    action_id +=1\n",
    "                    h_box_id = j[0] + h_box_id_shift \n",
    "                    o_box_id = j[1] + o_box_id_shift\n",
    "                    gt_action_sublist.append(action_no[action_id])\n",
    "                    gt_o_class_sublist.append(obj_word_to_id[hoi_dict[str(action_no[action_id])][1].replace('_',\" \")])\n",
    "                    gt_h_bbox_sublist.append(h_box[h_box_id-1])\n",
    "                    gt_o_bbox_sublist.append(o_box[o_box_id-1])\n",
    "                    last_h_box_id = h_box_id\n",
    "                    last_o_box_id = o_box_id\n",
    "                    if o_box_id>max_o_box_id:\n",
    "                        max_o_box_id=o_box_id\n",
    "        gt_action.append(np.array(gt_action_sublist))\n",
    "        gt_h_bbox.append(np.array(gt_h_bbox_sublist))\n",
    "        gt_o_bbox.append(np.array(gt_o_bbox_sublist))\n",
    "        gt_o_class.append(np.array(gt_o_class_sublist))\n",
    "    else:\n",
    "#         print(id_)\n",
    "        gt_action.append(np.array(gt_action_sublist))\n",
    "        gt_h_bbox.append(np.array(gt_h_bbox_sublist))\n",
    "        gt_o_bbox.append(np.array(gt_o_bbox_sublist))\n",
    "        gt_o_class.append(np.array(gt_o_class_sublist))"
   ]
  },
  {
   "cell_type": "code",
   "execution_count": 13,
   "metadata": {},
   "outputs": [],
   "source": [
    "# (x1, y1, x2, y2)\n",
    "def bb_iou(boxA,boxB):\n",
    "\t# determine the (x, y)-coordinates of the intersection rectangle\n",
    "    if boxA[0]>boxB[2] or boxA[2]<boxB[0] or boxA[1]>boxB[3] or boxA[3]<boxB[1]:\n",
    "        iou = 0\n",
    "    else:\n",
    "        xA = max(boxA[0], boxB[0])\n",
    "        yA = max(boxA[1], boxB[1])\n",
    "        xB = min(boxA[2], boxB[2])\n",
    "        yB = min(boxA[3], boxB[3])\n",
    "        # compute the area of intersection rectangle\n",
    "        interArea = (xB - xA + 1) * (yB - yA + 1)\n",
    " \n",
    "        # compute the area of both the prediction and ground-truth\n",
    "        boxAArea = (boxA[2] - boxA[0] + 1) * (boxA[3] - boxA[1] + 1)\n",
    "        boxBArea = (boxB[2] - boxB[0] + 1) * (boxB[3] - boxB[1] + 1)\n",
    " \n",
    "        # compute the intersection over union by taking the intersection\n",
    "        # area and dividing it by the sum of prediction + ground-truth\n",
    "        # areas - the interesection area\n",
    "        iou = interArea / float(boxAArea + boxBArea - interArea)\n",
    " \n",
    "    # return the intersection over union value\n",
    "    return iou"
   ]
  },
  {
   "cell_type": "code",
   "execution_count": 19,
   "metadata": {},
   "outputs": [
    {
     "data": {
      "application/vnd.jupyter.widget-view+json": {
       "model_id": "845b062bfc1b449ca1090133eadce6ec",
       "version_major": 2,
       "version_minor": 0
      },
      "text/html": [
       "<p>Failed to display Jupyter Widget of type <code>HBox</code>.</p>\n",
       "<p>\n",
       "  If you're reading this message in the Jupyter Notebook or JupyterLab Notebook, it may mean\n",
       "  that the widgets JavaScript is still loading. If this message persists, it\n",
       "  likely means that the widgets JavaScript library is either not installed or\n",
       "  not enabled. See the <a href=\"https://ipywidgets.readthedocs.io/en/stable/user_install.html\">Jupyter\n",
       "  Widgets Documentation</a> for setup instructions.\n",
       "</p>\n",
       "<p>\n",
       "  If you're reading this message in another frontend (for example, a static\n",
       "  rendering on GitHub or <a href=\"https://nbviewer.jupyter.org/\">NBViewer</a>),\n",
       "  it may mean that your frontend doesn't currently support widgets.\n",
       "</p>\n"
      ],
      "text/plain": [
       "HBox(children=(IntProgress(value=0, max=9658), HTML(value='')))"
      ]
     },
     "metadata": {},
     "output_type": "display_data"
    },
    {
     "name": "stdout",
     "output_type": "stream",
     "text": [
      "\n"
     ]
    }
   ],
   "source": [
    "#reference from Mask RCNN mAP\n",
    "AP_list = []\n",
    "for id_ in tqdm(range(len(result_h_bbox))):\n",
    "# for id_ in tqdm(range(1,2)):   \n",
    "    AP_sublist = []\n",
    "    for action_id in gt_action[id_]:\n",
    "        gt_1action_h_bbox = gt_h_bbox[id_][gt_action[id_]==action_id]\n",
    "        gt_1action_o_bbox = gt_o_bbox[id_][gt_action[id_]==action_id]\n",
    "        gt_1action_action = gt_action[id_][gt_action[id_]==action_id]\n",
    "        gt_match = np.zeros([gt_1action_h_bbox.shape[0]])\n",
    "        pred_match = np.zeros([result_h_bbox[id_].shape[0]])\n",
    "        indices = np.argsort(result_action[id_][:,action_id-1])[::-1]\n",
    "        score = result_action[id_][:,action_id-1][indices]\n",
    "        h_bbox = result_h_bbox[id_][indices]\n",
    "        o_bbox = result_o_bbox[id_][indices]\n",
    "        for i in range(len(h_bbox)):\n",
    "            for j in range(len(gt_1action_h_bbox)):\n",
    "                iou_h = bb_iou(h_bbox[i],gt_1action_h_bbox[j])\n",
    "                iou_o = bb_iou(o_bbox[i],gt_1action_o_bbox[j])\n",
    "                if np.min([iou_h,iou_o])>0.5:\n",
    "                    if gt_match[j]==1:\n",
    "                        continue\n",
    "                    pred_match[i]=1\n",
    "                    gt_match[j]=1\n",
    "        precisions = np.cumsum(pred_match) / (np.arange(len(pred_match)) + 1)\n",
    "        recalls = np.cumsum(pred_match).astype(np.float32) / len(gt_match)\n",
    "        precisions = np.concatenate([[0], precisions, [0]])\n",
    "        recalls = np.concatenate([[0], recalls, [1]])\n",
    "\n",
    "        for i in range(len(precisions) - 2, -1, -1):\n",
    "            precisions[i] = np.maximum(precisions[i], precisions[i + 1])\n",
    "        indice = np.where(recalls[:-1] != recalls[1:])[0] + 1\n",
    "        AP = ((recalls[indice] - recalls[indice - 1]) *precisions[indice])[0]\n",
    "        AP_sublist.append(AP)\n",
    "    AP_list.append(AP_sublist)"
   ]
  },
  {
   "cell_type": "code",
   "execution_count": 20,
   "metadata": {},
   "outputs": [
    {
     "data": {
      "text/plain": [
       "0.17916038174882379"
      ]
     },
     "execution_count": 20,
     "metadata": {},
     "output_type": "execute_result"
    }
   ],
   "source": [
    "AP_list = np.array(AP_list)\n",
    "temp = [item for sublist in AP_list for item in sublist]\n",
    "temp = np.array(temp)\n",
    "temp[np.isnan(temp)]=0\n",
    "np.mean(temp)"
   ]
  },
  {
   "cell_type": "code",
   "execution_count": 21,
   "metadata": {},
   "outputs": [
    {
     "data": {
      "application/vnd.jupyter.widget-view+json": {
       "model_id": "5908b6ebce754e9c8669943b2eea86f8",
       "version_major": 2,
       "version_minor": 0
      },
      "text/html": [
       "<p>Failed to display Jupyter Widget of type <code>HBox</code>.</p>\n",
       "<p>\n",
       "  If you're reading this message in the Jupyter Notebook or JupyterLab Notebook, it may mean\n",
       "  that the widgets JavaScript is still loading. If this message persists, it\n",
       "  likely means that the widgets JavaScript library is either not installed or\n",
       "  not enabled. See the <a href=\"https://ipywidgets.readthedocs.io/en/stable/user_install.html\">Jupyter\n",
       "  Widgets Documentation</a> for setup instructions.\n",
       "</p>\n",
       "<p>\n",
       "  If you're reading this message in another frontend (for example, a static\n",
       "  rendering on GitHub or <a href=\"https://nbviewer.jupyter.org/\">NBViewer</a>),\n",
       "  it may mean that your frontend doesn't currently support widgets.\n",
       "</p>\n"
      ],
      "text/plain": [
       "HBox(children=(IntProgress(value=0, max=9658), HTML(value='')))"
      ]
     },
     "metadata": {},
     "output_type": "display_data"
    },
    {
     "name": "stdout",
     "output_type": "stream",
     "text": [
      "\n"
     ]
    }
   ],
   "source": [
    "##reference from hico-det matlab code\n",
    "AP_list = []\n",
    "for id_ in tqdm(range(len(result_h_bbox))):   \n",
    "# for id_ in tqdm(range(1,2)):   \n",
    "\n",
    "    AP_sublist = []\n",
    "    for action_id in gt_action[id_]:\n",
    "        gt_1action_h_bbox = gt_h_bbox[id_][gt_action[id_]==action_id]\n",
    "        gt_1action_o_bbox = gt_o_bbox[id_][gt_action[id_]==action_id]\n",
    "        gt_1action_action = gt_action[id_][gt_action[id_]==action_id]\n",
    "        tp = np.zeros([result_h_bbox[id_].shape[0]])\n",
    "        fp = np.zeros([result_h_bbox[id_].shape[0]])\n",
    "        npos = gt_1action_action.shape[0]\n",
    "        indices = np.argsort(result_action[id_][:,action_id-1])[::-1]\n",
    "        score = result_action[id_][:,action_id-1][indices]\n",
    "        h_bbox = result_h_bbox[id_][indices]\n",
    "        o_bbox = result_o_bbox[id_][indices]\n",
    "        for i in range(len(h_bbox)):\n",
    "            for j in range(len(gt_1action_h_bbox)):\n",
    "                iou_h = bb_iou(h_bbox[i],gt_1action_h_bbox[j])\n",
    "                iou_o = bb_iou(o_bbox[i],gt_1action_o_bbox[j])\n",
    "                if np.min([iou_h,iou_o])>0.5:\n",
    "                    tp[i]=1\n",
    "                else:\n",
    "                    fp[i]=1\n",
    "        fp = np.cumsum(fp)\n",
    "        tp = np.cumsum(tp)\n",
    "        rec = tp/npos\n",
    "        prec = tp/(fp+tp)\n",
    "        AP=0\n",
    "        for t in np.arange(0.0, 1.0, 0.1):\n",
    "            if prec[rec>=t].any():\n",
    "                p = np.max(prec[rec>=t])\n",
    "                AP = AP +p/11\n",
    "            else:\n",
    "                p=0\n",
    "                AP = AP +p/11\n",
    "        AP_sublist.append(AP)\n",
    "    AP_list.append(AP_sublist)"
   ]
  },
  {
   "cell_type": "code",
   "execution_count": 22,
   "metadata": {},
   "outputs": [
    {
     "data": {
      "text/plain": [
       "0.17633376885747484"
      ]
     },
     "execution_count": 22,
     "metadata": {},
     "output_type": "execute_result"
    }
   ],
   "source": [
    "AP_list = np.array(AP_list)\n",
    "temp = [item for sublist in AP_list for item in sublist]\n",
    "temp = np.array(temp)\n",
    "temp[np.isnan(temp)]=0\n",
    "np.mean(temp)"
   ]
  },
  {
   "cell_type": "markdown",
   "metadata": {},
   "source": [
    "# possibly the right way"
   ]
  },
  {
   "cell_type": "code",
   "execution_count": 14,
   "metadata": {},
   "outputs": [],
   "source": [
    "gt_action_all = [(i,item) for i,sublist in enumerate(gt_action) for item in sublist]\n",
    "gt_h_bbox_all = [(i,item) for i,sublist in enumerate(gt_h_bbox) for item in sublist]\n",
    "gt_o_bbox_all = [(i,item) for i,sublist in enumerate(gt_o_bbox) for item in sublist]\n",
    "result_action_all = [(i,item) for i,sublist in enumerate(result_action) for item in sublist]\n",
    "result_h_bbox_all = [(i,item) for i,sublist in enumerate(result_h_bbox) for item in sublist]\n",
    "result_o_bbox_all = [(i,item) for i,sublist in enumerate(result_o_bbox) for item in sublist]"
   ]
  },
  {
   "cell_type": "code",
   "execution_count": 34,
   "metadata": {},
   "outputs": [
    {
     "data": {
      "application/vnd.jupyter.widget-view+json": {
       "model_id": "12fe047db62544688fbe3fbf359c47f3",
       "version_major": 2,
       "version_minor": 0
      },
      "text/html": [
       "<p>Failed to display Jupyter Widget of type <code>HBox</code>.</p>\n",
       "<p>\n",
       "  If you're reading this message in the Jupyter Notebook or JupyterLab Notebook, it may mean\n",
       "  that the widgets JavaScript is still loading. If this message persists, it\n",
       "  likely means that the widgets JavaScript library is either not installed or\n",
       "  not enabled. See the <a href=\"https://ipywidgets.readthedocs.io/en/stable/user_install.html\">Jupyter\n",
       "  Widgets Documentation</a> for setup instructions.\n",
       "</p>\n",
       "<p>\n",
       "  If you're reading this message in another frontend (for example, a static\n",
       "  rendering on GitHub or <a href=\"https://nbviewer.jupyter.org/\">NBViewer</a>),\n",
       "  it may mean that your frontend doesn't currently support widgets.\n",
       "</p>\n"
      ],
      "text/plain": [
       "HBox(children=(IntProgress(value=0, max=600), HTML(value='')))"
      ]
     },
     "metadata": {},
     "output_type": "display_data"
    },
    {
     "name": "stdout",
     "output_type": "stream",
     "text": [
      "\n"
     ]
    }
   ],
   "source": [
    "#calc all image per action for AP\n",
    "AP_list = []\n",
    "for action_id in tqdm(range(1,601)):\n",
    "# for action_id in tqdm(range(1,2)):\n",
    "\n",
    "    bool_list = [item[1]==action_id for item in gt_action_all]\n",
    "    gt_1action_action = [item for i,item in enumerate(gt_action_all) if bool_list[i]==True] \n",
    "    gt_1action_h_bbox = [item for i,item in enumerate(gt_h_bbox_all) if bool_list[i]==True] \n",
    "    gt_1action_o_bbox = [item for i,item in enumerate(gt_o_bbox_all) if bool_list[i]==True] \n",
    "\n",
    "    tp = np.zeros([len(result_h_bbox_all)])\n",
    "    fp = np.zeros([len(result_h_bbox_all)])\n",
    "    \n",
    "    npos = len(gt_1action_action)\n",
    "    result_1action_score = [(item[0],item[1][action_id-1]) for item in result_action_all]\n",
    "    indices = np.argsort(result_1action_score,axis=0)[:,1][::-1]\n",
    "    score = [result_1action_score[i] for i in indices]\n",
    "    h_bbox = [result_h_bbox_all[i] for i in indices]\n",
    "    o_bbox = [result_o_bbox_all[i] for i in indices]\n",
    "\n",
    "    for i in range(len(h_bbox)):\n",
    "        for j in range(len(gt_1action_h_bbox)):\n",
    "            if h_bbox[i][0]==gt_1action_h_bbox[j][0]:\n",
    "                iou_h = bb_iou(h_bbox[i][1],gt_1action_h_bbox[j][1])\n",
    "                iou_o = bb_iou(o_bbox[i][1],gt_1action_o_bbox[j][1])\n",
    "                if np.min([iou_h,iou_o])>0.5:\n",
    "                    tp[i]=1\n",
    "                else:\n",
    "                    fp[i]=1\n",
    "            else:\n",
    "                fp[i]=1\n",
    "    fp = np.cumsum(fp)\n",
    "    tp = np.cumsum(tp)\n",
    "    rec = tp/npos\n",
    "    prec = tp/(fp+tp)\n",
    "    AP=0\n",
    "    for t in np.arange(0.0, 1.0, 0.1):\n",
    "        if prec[rec>=t].any():\n",
    "            p = np.max(prec[rec>=t])\n",
    "            AP = AP +p/11\n",
    "        else:\n",
    "            p=0\n",
    "            AP = AP +p/11\n",
    "    AP_list.append(AP)"
   ]
  },
  {
   "cell_type": "code",
   "execution_count": 35,
   "metadata": {},
   "outputs": [
    {
     "data": {
      "text/plain": [
       "0.004247795305763905"
      ]
     },
     "execution_count": 35,
     "metadata": {},
     "output_type": "execute_result"
    }
   ],
   "source": [
    "AP_list = np.array(AP_list)\n",
    "np.mean(AP_list)"
   ]
  },
  {
   "cell_type": "code",
   "execution_count": 37,
   "metadata": {},
   "outputs": [
    {
     "data": {
      "text/plain": [
       "0.11911104338220219"
      ]
     },
     "execution_count": 37,
     "metadata": {},
     "output_type": "execute_result"
    }
   ],
   "source": [
    "np.max(AP_list)"
   ]
  },
  {
   "cell_type": "code",
   "execution_count": null,
   "metadata": {},
   "outputs": [],
   "source": []
  }
 ],
 "metadata": {
  "kernelspec": {
   "display_name": "Python 3",
   "language": "python",
   "name": "python3"
  },
  "language_info": {
   "codemirror_mode": {
    "name": "ipython",
    "version": 3
   },
   "file_extension": ".py",
   "mimetype": "text/x-python",
   "name": "python",
   "nbconvert_exporter": "python",
   "pygments_lexer": "ipython3",
   "version": "3.6.3"
  }
 },
 "nbformat": 4,
 "nbformat_minor": 2
}
