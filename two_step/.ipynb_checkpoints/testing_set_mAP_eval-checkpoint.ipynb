{
 "cells": [
  {
   "cell_type": "code",
   "execution_count": 2,
   "metadata": {},
   "outputs": [],
   "source": [
    "import pandas as pd\n",
    "import cv2\n",
    "import os\n",
    "import numpy as np\n",
    "import time\n",
    "import matplotlib.pyplot as plt\n",
    "%matplotlib inline\n",
    "\n",
    "# import tensorflow as tf\n",
    "import keras\n",
    "import keras.backend as K\n",
    "# from keras_retinanet.models.resnet import custom_objects\n",
    "from keras_retinanet.models.resnet import resnet_retinanet as retinanet, custom_objects, download_imagenet\n",
    "# import keras_retinanet\n",
    "import keras_retinanet.bin.train\n",
    "from sklearn.utils import shuffle \n",
    "from tqdm import tqdm_notebook as tqdm"
   ]
  },
  {
   "cell_type": "code",
   "execution_count": 3,
   "metadata": {},
   "outputs": [],
   "source": [
    "json_file = open('/home/jovyan/model.json', 'r')\n",
    "model_json = json_file.read()\n",
    "json_file.close()\n",
    "model = keras.models.model_from_json(model_json)"
   ]
  },
  {
   "cell_type": "code",
   "execution_count": 4,
   "metadata": {},
   "outputs": [],
   "source": [
    "test_data = pd.read_json('../test_data_with_obj_id.json')\n",
    "test_data = test_data.sort_index()\n",
    "retinanet_test_data = pd.read_json('retinanet_test_data.json')\n",
    "retinanet_test_data = retinanet_test_data.sort_index()"
   ]
  },
  {
   "cell_type": "code",
   "execution_count": 5,
   "metadata": {},
   "outputs": [],
   "source": [
    "img_input = keras.layers.Input(shape=(None,None,3),name='img_input')\n",
    "obj_boxes = keras.layers.Input(shape=(None,4),name='obj_boxes')\n",
    "obj_classes = keras.layers.Input(shape=(None,),name='obj_classes')\n",
    "human_boxes = keras.layers.Input(shape=(None,4),name='human_boxes')"
   ]
  },
  {
   "cell_type": "code",
   "execution_count": 6,
   "metadata": {},
   "outputs": [
    {
     "data": {
      "text/html": [
       "<div>\n",
       "<table border=\"1\" class=\"dataframe\">\n",
       "  <thead>\n",
       "    <tr style=\"text-align: right;\">\n",
       "      <th></th>\n",
       "      <th>action_no</th>\n",
       "      <th>human_bbox</th>\n",
       "      <th>invisible</th>\n",
       "      <th>name</th>\n",
       "      <th>obj_id</th>\n",
       "      <th>obj_list</th>\n",
       "      <th>object_bbox</th>\n",
       "      <th>pair_no</th>\n",
       "      <th>size</th>\n",
       "    </tr>\n",
       "  </thead>\n",
       "  <tbody>\n",
       "    <tr>\n",
       "      <th>0</th>\n",
       "      <td>[246]</td>\n",
       "      <td>[[320, 359, 306, 349], [270, 311, 303, 350]]</td>\n",
       "      <td>[0]</td>\n",
       "      <td>HICO_test2015_00000001.jpg</td>\n",
       "      <td>[13]</td>\n",
       "      <td>[bench]</td>\n",
       "      <td>[[148, 376, 345, 414]]</td>\n",
       "      <td>[[1, 1], [2, 1]]</td>\n",
       "      <td>[640, 427, 3]</td>\n",
       "    </tr>\n",
       "    <tr>\n",
       "      <th>1</th>\n",
       "      <td>[132, 140, 144]</td>\n",
       "      <td>[[226, 340, 18, 210], [230, 356, 19, 212], [23...</td>\n",
       "      <td>[0, 0, 0]</td>\n",
       "      <td>HICO_test2015_00000002.jpg</td>\n",
       "      <td>[17]</td>\n",
       "      <td>[horse]</td>\n",
       "      <td>[[174, 393, 65, 440], [186, 392, 62, 438], [17...</td>\n",
       "      <td>[[1, 1], [1, 1], [1, 1]]</td>\n",
       "      <td>[640, 461, 3]</td>\n",
       "    </tr>\n",
       "    <tr>\n",
       "      <th>2</th>\n",
       "      <td>[39]</td>\n",
       "      <td>[[302, 322, 182, 236]]</td>\n",
       "      <td>[0]</td>\n",
       "      <td>HICO_test2015_00000003.jpg</td>\n",
       "      <td>[8]</td>\n",
       "      <td>[boat]</td>\n",
       "      <td>[[234, 444, 85, 298]]</td>\n",
       "      <td>[[1, 1]]</td>\n",
       "      <td>[640, 425, 3]</td>\n",
       "    </tr>\n",
       "    <tr>\n",
       "      <th>3</th>\n",
       "      <td>[154, 155]</td>\n",
       "      <td>[[411, 481, 83, 186], [464, 547, 118, 221], [3...</td>\n",
       "      <td>[0, 0]</td>\n",
       "      <td>HICO_test2015_00000004.jpg</td>\n",
       "      <td>[3]</td>\n",
       "      <td>[motorcycle]</td>\n",
       "      <td>[[338, 574, 109, 247], [110, 501, 183, 364], [...</td>\n",
       "      <td>[[1, 1], [2, 1], [3, 2], [4, 2], [1, 1], [2, 2]]</td>\n",
       "      <td>[640, 427, 1]</td>\n",
       "    </tr>\n",
       "    <tr>\n",
       "      <th>4</th>\n",
       "      <td>[209, 213]</td>\n",
       "      <td>[[5, 409, 62, 638], [2, 415, 60, 637]]</td>\n",
       "      <td>[0, 0]</td>\n",
       "      <td>HICO_test2015_00000005.jpg</td>\n",
       "      <td>[24]</td>\n",
       "      <td>[backpack]</td>\n",
       "      <td>[[197, 466, 167, 638], [327, 470, 165, 524]]</td>\n",
       "      <td>[[1, 1], [1, 1]]</td>\n",
       "      <td>[480, 640, 3]</td>\n",
       "    </tr>\n",
       "  </tbody>\n",
       "</table>\n",
       "</div>"
      ],
      "text/plain": [
       "         action_no                                         human_bbox  \\\n",
       "0            [246]       [[320, 359, 306, 349], [270, 311, 303, 350]]   \n",
       "1  [132, 140, 144]  [[226, 340, 18, 210], [230, 356, 19, 212], [23...   \n",
       "2             [39]                             [[302, 322, 182, 236]]   \n",
       "3       [154, 155]  [[411, 481, 83, 186], [464, 547, 118, 221], [3...   \n",
       "4       [209, 213]             [[5, 409, 62, 638], [2, 415, 60, 637]]   \n",
       "\n",
       "   invisible                        name obj_id      obj_list  \\\n",
       "0        [0]  HICO_test2015_00000001.jpg   [13]       [bench]   \n",
       "1  [0, 0, 0]  HICO_test2015_00000002.jpg   [17]       [horse]   \n",
       "2        [0]  HICO_test2015_00000003.jpg    [8]        [boat]   \n",
       "3     [0, 0]  HICO_test2015_00000004.jpg    [3]  [motorcycle]   \n",
       "4     [0, 0]  HICO_test2015_00000005.jpg   [24]    [backpack]   \n",
       "\n",
       "                                         object_bbox  \\\n",
       "0                             [[148, 376, 345, 414]]   \n",
       "1  [[174, 393, 65, 440], [186, 392, 62, 438], [17...   \n",
       "2                              [[234, 444, 85, 298]]   \n",
       "3  [[338, 574, 109, 247], [110, 501, 183, 364], [...   \n",
       "4       [[197, 466, 167, 638], [327, 470, 165, 524]]   \n",
       "\n",
       "                                            pair_no           size  \n",
       "0                                  [[1, 1], [2, 1]]  [640, 427, 3]  \n",
       "1                          [[1, 1], [1, 1], [1, 1]]  [640, 461, 3]  \n",
       "2                                          [[1, 1]]  [640, 425, 3]  \n",
       "3  [[1, 1], [2, 1], [3, 2], [4, 2], [1, 1], [2, 2]]  [640, 427, 1]  \n",
       "4                                  [[1, 1], [1, 1]]  [480, 640, 3]  "
      ]
     },
     "execution_count": 6,
     "metadata": {},
     "output_type": "execute_result"
    }
   ],
   "source": [
    "test_data.head()"
   ]
  },
  {
   "cell_type": "code",
   "execution_count": 7,
   "metadata": {},
   "outputs": [
    {
     "data": {
      "text/html": [
       "<div>\n",
       "<table border=\"1\" class=\"dataframe\">\n",
       "  <thead>\n",
       "    <tr style=\"text-align: right;\">\n",
       "      <th></th>\n",
       "      <th>human_boxes</th>\n",
       "      <th>human_boxes_scale</th>\n",
       "      <th>human_classes</th>\n",
       "      <th>human_scores</th>\n",
       "      <th>obj_boxes</th>\n",
       "      <th>obj_boxes_scale</th>\n",
       "      <th>obj_classes</th>\n",
       "      <th>obj_scores</th>\n",
       "    </tr>\n",
       "  </thead>\n",
       "  <tbody>\n",
       "    <tr>\n",
       "      <th>0</th>\n",
       "      <td>[[499.9312438965, 570.3104858398, 585.98291015...</td>\n",
       "      <td>[[266, 304, 312, 348], [312, 305, 355, 347]]</td>\n",
       "      <td>[0, 0]</td>\n",
       "      <td>[0.8959407210000001, 0.8261852264]</td>\n",
       "      <td>[[499.9312438965, 570.3104858398, 585.98291015...</td>\n",
       "      <td>[[266, 304, 312, 348], [312, 305, 355, 347]]</td>\n",
       "      <td>[0, 0]</td>\n",
       "      <td>[0.8959407210000001, 0.8261852264]</td>\n",
       "    </tr>\n",
       "    <tr>\n",
       "      <th>1</th>\n",
       "      <td>[[839.0675048828, 258.8868713379, 863.58618164...</td>\n",
       "      <td>[[447, 149, 460, 190], [164, 137, 200, 220], [...</td>\n",
       "      <td>[0, 0, 0, 0, 0, 0, 0]</td>\n",
       "      <td>[0.2363488078, 0.9441347718, 0.912345409400000...</td>\n",
       "      <td>[[839.0675048828, 258.8868713379, 863.58618164...</td>\n",
       "      <td>[[447, 149, 460, 190], [193, 159, 218, 185], [...</td>\n",
       "      <td>[0, 2, 26, 26, 0, 0, 0, 16, 0, 17, 0, 17, 17, 0]</td>\n",
       "      <td>[0.2363488078, 0.21155761180000002, 0.20389854...</td>\n",
       "    </tr>\n",
       "    <tr>\n",
       "      <th>2</th>\n",
       "      <td>[[622.6060791016, 326.1147460938, 648.74401855...</td>\n",
       "      <td>[[332, 173, 345, 197], [304, 176, 321, 196], [...</td>\n",
       "      <td>[0, 0, 0, 0, 0, 0, 0, 0, 0, 0, 0, 0, 0, 0]</td>\n",
       "      <td>[0.2099235505, 0.2889916003, 0.3744371235, 0.4...</td>\n",
       "      <td>[[622.6060791016, 326.1147460938, 648.74401855...</td>\n",
       "      <td>[[332, 173, 345, 197], [304, 176, 321, 196], [...</td>\n",
       "      <td>[0, 0, 0, 0, 0, 0, 0, 0, 0, 0, 0, 0, 0, 7, 8, ...</td>\n",
       "      <td>[0.2099235505, 0.2889916003, 0.3744371235, 0.4...</td>\n",
       "    </tr>\n",
       "    <tr>\n",
       "      <th>3</th>\n",
       "      <td>[[769.3322753906, 162.2735290527, 889.46887207...</td>\n",
       "      <td>[[410, 86, 474, 165], [404, 86, 479, 222], [42...</td>\n",
       "      <td>[0, 0, 0, 0, 0, 0, 0]</td>\n",
       "      <td>[0.2236517966, 0.2772318125, 0.8223848939, 0.9...</td>\n",
       "      <td>[[769.3322753906, 162.2735290527, 889.46887207...</td>\n",
       "      <td>[[410, 86, 474, 165], [404, 86, 479, 222], [42...</td>\n",
       "      <td>[0, 0, 0, 0, 0, 0, 3, 3, 0, 3, 2, 1, 3, 1, 3]</td>\n",
       "      <td>[0.2236517966, 0.2772318125, 0.8223848939, 0.9...</td>\n",
       "    </tr>\n",
       "    <tr>\n",
       "      <th>4</th>\n",
       "      <td>[[17.4734802246, 483.500213623, 540.1184082031...</td>\n",
       "      <td>[[6, 386, 216, 624], [10, 59, 425, 622]]</td>\n",
       "      <td>[0, 0]</td>\n",
       "      <td>[0.2655027807, 0.9683949351000001]</td>\n",
       "      <td>[[946.7169189453, 689.7432861328, 1017.5393066...</td>\n",
       "      <td>[[378, 551, 407, 636], [324, 174, 462, 447], [...</td>\n",
       "      <td>[56, 59, 0, 63, 0]</td>\n",
       "      <td>[0.2003484666, 0.2143364251, 0.2655027807, 0.2...</td>\n",
       "    </tr>\n",
       "  </tbody>\n",
       "</table>\n",
       "</div>"
      ],
      "text/plain": [
       "                                         human_boxes  \\\n",
       "0  [[499.9312438965, 570.3104858398, 585.98291015...   \n",
       "1  [[839.0675048828, 258.8868713379, 863.58618164...   \n",
       "2  [[622.6060791016, 326.1147460938, 648.74401855...   \n",
       "3  [[769.3322753906, 162.2735290527, 889.46887207...   \n",
       "4  [[17.4734802246, 483.500213623, 540.1184082031...   \n",
       "\n",
       "                                   human_boxes_scale  \\\n",
       "0       [[266, 304, 312, 348], [312, 305, 355, 347]]   \n",
       "1  [[447, 149, 460, 190], [164, 137, 200, 220], [...   \n",
       "2  [[332, 173, 345, 197], [304, 176, 321, 196], [...   \n",
       "3  [[410, 86, 474, 165], [404, 86, 479, 222], [42...   \n",
       "4           [[6, 386, 216, 624], [10, 59, 425, 622]]   \n",
       "\n",
       "                                human_classes  \\\n",
       "0                                      [0, 0]   \n",
       "1                       [0, 0, 0, 0, 0, 0, 0]   \n",
       "2  [0, 0, 0, 0, 0, 0, 0, 0, 0, 0, 0, 0, 0, 0]   \n",
       "3                       [0, 0, 0, 0, 0, 0, 0]   \n",
       "4                                      [0, 0]   \n",
       "\n",
       "                                        human_scores  \\\n",
       "0                 [0.8959407210000001, 0.8261852264]   \n",
       "1  [0.2363488078, 0.9441347718, 0.912345409400000...   \n",
       "2  [0.2099235505, 0.2889916003, 0.3744371235, 0.4...   \n",
       "3  [0.2236517966, 0.2772318125, 0.8223848939, 0.9...   \n",
       "4                 [0.2655027807, 0.9683949351000001]   \n",
       "\n",
       "                                           obj_boxes  \\\n",
       "0  [[499.9312438965, 570.3104858398, 585.98291015...   \n",
       "1  [[839.0675048828, 258.8868713379, 863.58618164...   \n",
       "2  [[622.6060791016, 326.1147460938, 648.74401855...   \n",
       "3  [[769.3322753906, 162.2735290527, 889.46887207...   \n",
       "4  [[946.7169189453, 689.7432861328, 1017.5393066...   \n",
       "\n",
       "                                     obj_boxes_scale  \\\n",
       "0       [[266, 304, 312, 348], [312, 305, 355, 347]]   \n",
       "1  [[447, 149, 460, 190], [193, 159, 218, 185], [...   \n",
       "2  [[332, 173, 345, 197], [304, 176, 321, 196], [...   \n",
       "3  [[410, 86, 474, 165], [404, 86, 479, 222], [42...   \n",
       "4  [[378, 551, 407, 636], [324, 174, 462, 447], [...   \n",
       "\n",
       "                                         obj_classes  \\\n",
       "0                                             [0, 0]   \n",
       "1   [0, 2, 26, 26, 0, 0, 0, 16, 0, 17, 0, 17, 17, 0]   \n",
       "2  [0, 0, 0, 0, 0, 0, 0, 0, 0, 0, 0, 0, 0, 7, 8, ...   \n",
       "3      [0, 0, 0, 0, 0, 0, 3, 3, 0, 3, 2, 1, 3, 1, 3]   \n",
       "4                                 [56, 59, 0, 63, 0]   \n",
       "\n",
       "                                          obj_scores  \n",
       "0                 [0.8959407210000001, 0.8261852264]  \n",
       "1  [0.2363488078, 0.21155761180000002, 0.20389854...  \n",
       "2  [0.2099235505, 0.2889916003, 0.3744371235, 0.4...  \n",
       "3  [0.2236517966, 0.2772318125, 0.8223848939, 0.9...  \n",
       "4  [0.2003484666, 0.2143364251, 0.2655027807, 0.2...  "
      ]
     },
     "execution_count": 7,
     "metadata": {},
     "output_type": "execute_result"
    }
   ],
   "source": [
    "retinanet_test_data.head()"
   ]
  },
  {
   "cell_type": "code",
   "execution_count": 8,
   "metadata": {},
   "outputs": [
    {
     "data": {
      "text/plain": [
       "0.94413477180000005"
      ]
     },
     "execution_count": 8,
     "metadata": {},
     "output_type": "execute_result"
    }
   ],
   "source": [
    "np.max(retinanet_test_data.human_scores[1])"
   ]
  },
  {
   "cell_type": "code",
   "execution_count": 9,
   "metadata": {},
   "outputs": [],
   "source": [
    "def data_gen(retinanet_test_data,test_data,id_):\n",
    "    img_stack = np.array([]).reshape(0,800,1200,3)\n",
    "    human_stack = np.array([]).reshape(0,1,4)\n",
    "    object_stack = np.array([]).reshape(0,1,4)\n",
    "    object_class_stack = np.array([]).reshape(0,1)\n",
    "            #image\n",
    "    img = cv2.imread(os.path.join('/home/jovyan/projectdata/cht01/hico_20160224_det/images/test2015/',test_data['name'][id_]))\n",
    "    img = cv2.resize(img, (1200,800))\n",
    "    img = img/255\n",
    "    img = np.expand_dims(img,axis=0)\n",
    "            \n",
    "            #human object bbox pair & object class\n",
    "    for i in range(len(retinanet_test_data.human_boxes[id_])):\n",
    "        if (np.max(retinanet_test_data.human_scores[id_]) >0.5) & (retinanet_test_data.human_scores[id_][i]<0.5):\n",
    "            continue\n",
    "        ho_pair_h = retinanet_test_data.human_boxes[id_][i]\n",
    "        ho_pair_h = np.expand_dims(ho_pair_h,axis=0)\n",
    "        ho_pair_h = np.expand_dims(ho_pair_h,axis=0)\n",
    "        for j in range(len(retinanet_test_data.obj_boxes[id_])):\n",
    "            if (np.max(retinanet_test_data.obj_scores[id_]) >0.5) & (retinanet_test_data.obj_scores[id_][j]<0.5):\n",
    "                continue\n",
    "            ho_pair_o = retinanet_test_data.obj_boxes[id_][j]\n",
    "            object_class = retinanet_test_data.obj_classes[id_][j]\n",
    "            ho_pair_o = np.expand_dims(ho_pair_o,axis=0)\n",
    "            ho_pair_o = np.expand_dims(ho_pair_o,axis=0)                    \n",
    "            object_class = np.expand_dims(object_class,axis=0)\n",
    "                    \n",
    "            img_stack = np.row_stack([img_stack,img])\n",
    "            human_stack = np.row_stack([human_stack,ho_pair_h])\n",
    "            object_stack = np.row_stack([object_stack,ho_pair_o])\n",
    "            object_class_stack = np.row_stack([object_class_stack,object_class])\n",
    "                \n",
    "    test_batch = [img_stack,human_stack,object_stack,object_class_stack]\n",
    "    return test_batch"
   ]
  },
  {
   "cell_type": "code",
   "execution_count": 14,
   "metadata": {},
   "outputs": [],
   "source": [
    "# model_multigpu = keras.utils.multi_gpu_model(model,gpus=2)"
   ]
  },
  {
   "cell_type": "code",
   "execution_count": 15,
   "metadata": {},
   "outputs": [
    {
     "data": {
      "application/vnd.jupyter.widget-view+json": {
       "model_id": "abbef165aff0483198361338d71fab8e",
       "version_major": 2,
       "version_minor": 0
      },
      "text/html": [
       "<p>Failed to display Jupyter Widget of type <code>HBox</code>.</p>\n",
       "<p>\n",
       "  If you're reading this message in the Jupyter Notebook or JupyterLab Notebook, it may mean\n",
       "  that the widgets JavaScript is still loading. If this message persists, it\n",
       "  likely means that the widgets JavaScript library is either not installed or\n",
       "  not enabled. See the <a href=\"https://ipywidgets.readthedocs.io/en/stable/user_install.html\">Jupyter\n",
       "  Widgets Documentation</a> for setup instructions.\n",
       "</p>\n",
       "<p>\n",
       "  If you're reading this message in another frontend (for example, a static\n",
       "  rendering on GitHub or <a href=\"https://nbviewer.jupyter.org/\">NBViewer</a>),\n",
       "  it may mean that your frontend doesn't currently support widgets.\n",
       "</p>\n"
      ],
      "text/plain": [
       "HBox(children=(IntProgress(value=0, max=9658), HTML(value='')))"
      ]
     },
     "metadata": {},
     "output_type": "display_data"
    },
    {
     "ename": "KeyboardInterrupt",
     "evalue": "",
     "output_type": "error",
     "traceback": [
      "\u001b[0;31m---------------------------------------------------------------------------\u001b[0m",
      "\u001b[0;31mKeyboardInterrupt\u001b[0m                         Traceback (most recent call last)",
      "\u001b[0;32m<ipython-input-15-5ca607db0358>\u001b[0m in \u001b[0;36m<module>\u001b[0;34m()\u001b[0m\n\u001b[1;32m      1\u001b[0m \u001b[0mpred_all\u001b[0m \u001b[0;34m=\u001b[0m \u001b[0;34m[\u001b[0m\u001b[0;34m]\u001b[0m\u001b[0;34m\u001b[0m\u001b[0m\n\u001b[1;32m      2\u001b[0m \u001b[0;32mfor\u001b[0m \u001b[0mi\u001b[0m \u001b[0;32min\u001b[0m \u001b[0mtqdm\u001b[0m\u001b[0;34m(\u001b[0m\u001b[0mrange\u001b[0m\u001b[0;34m(\u001b[0m\u001b[0mtest_data\u001b[0m\u001b[0;34m.\u001b[0m\u001b[0mshape\u001b[0m\u001b[0;34m[\u001b[0m\u001b[0;36m0\u001b[0m\u001b[0;34m]\u001b[0m\u001b[0;34m)\u001b[0m\u001b[0;34m)\u001b[0m\u001b[0;34m:\u001b[0m\u001b[0;34m\u001b[0m\u001b[0m\n\u001b[0;32m----> 3\u001b[0;31m     \u001b[0mtest_one_img\u001b[0m \u001b[0;34m=\u001b[0m \u001b[0mdata_gen\u001b[0m\u001b[0;34m(\u001b[0m\u001b[0mretinanet_test_data\u001b[0m\u001b[0;34m,\u001b[0m\u001b[0mtest_data\u001b[0m\u001b[0;34m,\u001b[0m\u001b[0mi\u001b[0m\u001b[0;34m)\u001b[0m\u001b[0;34m\u001b[0m\u001b[0m\n\u001b[0m\u001b[1;32m      4\u001b[0m     \u001b[0mpred\u001b[0m \u001b[0;34m=\u001b[0m \u001b[0mmodel\u001b[0m\u001b[0;34m.\u001b[0m\u001b[0mpredict\u001b[0m\u001b[0;34m(\u001b[0m\u001b[0mtest_one_img\u001b[0m\u001b[0;34m)\u001b[0m\u001b[0;34m\u001b[0m\u001b[0m\n\u001b[1;32m      5\u001b[0m     \u001b[0mpred_all\u001b[0m\u001b[0;34m.\u001b[0m\u001b[0mappend\u001b[0m\u001b[0;34m(\u001b[0m\u001b[0mpred\u001b[0m\u001b[0;34m)\u001b[0m\u001b[0;34m\u001b[0m\u001b[0m\n",
      "\u001b[0;32m<ipython-input-9-4abfa9b18524>\u001b[0m in \u001b[0;36mdata_gen\u001b[0;34m(retinanet_test_data, test_data, id_)\u001b[0m\n\u001b[1;32m     26\u001b[0m             \u001b[0mobject_class\u001b[0m \u001b[0;34m=\u001b[0m \u001b[0mnp\u001b[0m\u001b[0;34m.\u001b[0m\u001b[0mexpand_dims\u001b[0m\u001b[0;34m(\u001b[0m\u001b[0mobject_class\u001b[0m\u001b[0;34m,\u001b[0m\u001b[0maxis\u001b[0m\u001b[0;34m=\u001b[0m\u001b[0;36m0\u001b[0m\u001b[0;34m)\u001b[0m\u001b[0;34m\u001b[0m\u001b[0m\n\u001b[1;32m     27\u001b[0m \u001b[0;34m\u001b[0m\u001b[0m\n\u001b[0;32m---> 28\u001b[0;31m             \u001b[0mimg_stack\u001b[0m \u001b[0;34m=\u001b[0m \u001b[0mnp\u001b[0m\u001b[0;34m.\u001b[0m\u001b[0mrow_stack\u001b[0m\u001b[0;34m(\u001b[0m\u001b[0;34m[\u001b[0m\u001b[0mimg_stack\u001b[0m\u001b[0;34m,\u001b[0m\u001b[0mimg\u001b[0m\u001b[0;34m]\u001b[0m\u001b[0;34m)\u001b[0m\u001b[0;34m\u001b[0m\u001b[0m\n\u001b[0m\u001b[1;32m     29\u001b[0m             \u001b[0mhuman_stack\u001b[0m \u001b[0;34m=\u001b[0m \u001b[0mnp\u001b[0m\u001b[0;34m.\u001b[0m\u001b[0mrow_stack\u001b[0m\u001b[0;34m(\u001b[0m\u001b[0;34m[\u001b[0m\u001b[0mhuman_stack\u001b[0m\u001b[0;34m,\u001b[0m\u001b[0mho_pair_h\u001b[0m\u001b[0;34m]\u001b[0m\u001b[0;34m)\u001b[0m\u001b[0;34m\u001b[0m\u001b[0m\n\u001b[1;32m     30\u001b[0m             \u001b[0mobject_stack\u001b[0m \u001b[0;34m=\u001b[0m \u001b[0mnp\u001b[0m\u001b[0;34m.\u001b[0m\u001b[0mrow_stack\u001b[0m\u001b[0;34m(\u001b[0m\u001b[0;34m[\u001b[0m\u001b[0mobject_stack\u001b[0m\u001b[0;34m,\u001b[0m\u001b[0mho_pair_o\u001b[0m\u001b[0;34m]\u001b[0m\u001b[0;34m)\u001b[0m\u001b[0;34m\u001b[0m\u001b[0m\n",
      "\u001b[0;32m/opt/conda/lib/python3.6/site-packages/numpy/core/shape_base.py\u001b[0m in \u001b[0;36mvstack\u001b[0;34m(tup)\u001b[0m\n\u001b[1;32m    232\u001b[0m \u001b[0;34m\u001b[0m\u001b[0m\n\u001b[1;32m    233\u001b[0m     \"\"\"\n\u001b[0;32m--> 234\u001b[0;31m     \u001b[0;32mreturn\u001b[0m \u001b[0m_nx\u001b[0m\u001b[0;34m.\u001b[0m\u001b[0mconcatenate\u001b[0m\u001b[0;34m(\u001b[0m\u001b[0;34m[\u001b[0m\u001b[0matleast_2d\u001b[0m\u001b[0;34m(\u001b[0m\u001b[0m_m\u001b[0m\u001b[0;34m)\u001b[0m \u001b[0;32mfor\u001b[0m \u001b[0m_m\u001b[0m \u001b[0;32min\u001b[0m \u001b[0mtup\u001b[0m\u001b[0;34m]\u001b[0m\u001b[0;34m,\u001b[0m \u001b[0;36m0\u001b[0m\u001b[0;34m)\u001b[0m\u001b[0;34m\u001b[0m\u001b[0m\n\u001b[0m\u001b[1;32m    235\u001b[0m \u001b[0;34m\u001b[0m\u001b[0m\n\u001b[1;32m    236\u001b[0m \u001b[0;32mdef\u001b[0m \u001b[0mhstack\u001b[0m\u001b[0;34m(\u001b[0m\u001b[0mtup\u001b[0m\u001b[0;34m)\u001b[0m\u001b[0;34m:\u001b[0m\u001b[0;34m\u001b[0m\u001b[0m\n",
      "\u001b[0;31mKeyboardInterrupt\u001b[0m: "
     ]
    }
   ],
   "source": [
    "pred_all = []\n",
    "for i in tqdm(range(test_data.shape[0])):\n",
    "    test_one_img = data_gen(retinanet_test_data,test_data,i)\n",
    "    pred = model.predict(test_one_img)\n",
    "    pred_all.append(pred)"
   ]
  },
  {
   "cell_type": "code",
   "execution_count": null,
   "metadata": {},
   "outputs": [],
   "source": []
  }
 ],
 "metadata": {
  "kernelspec": {
   "display_name": "Python 3",
   "language": "python",
   "name": "python3"
  },
  "language_info": {
   "codemirror_mode": {
    "name": "ipython",
    "version": 3
   },
   "file_extension": ".py",
   "mimetype": "text/x-python",
   "name": "python",
   "nbconvert_exporter": "python",
   "pygments_lexer": "ipython3",
   "version": "3.6.3"
  }
 },
 "nbformat": 4,
 "nbformat_minor": 2
}
