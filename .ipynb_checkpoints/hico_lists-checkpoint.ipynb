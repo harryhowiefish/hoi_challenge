{
 "cells": [
  {
   "cell_type": "code",
   "execution_count": 1,
   "metadata": {},
   "outputs": [],
   "source": [
    "import os\n",
    "import json\n",
    "import numpy as np"
   ]
  },
  {
   "cell_type": "code",
   "execution_count": 19,
   "metadata": {},
   "outputs": [],
   "source": [
    "obj_list=[]\n",
    "with open(\"origin_lists/hico_list_obj.txt\") as f:\n",
    "    for line in f:\n",
    "        obj_list.append(line)\n",
    "verb_list=[]\n",
    "with open(\"origin_lists/hico_list_vb.txt\") as f:\n",
    "    for line in f:\n",
    "        verb_list.append(line)\n",
    "hoi_list=[]\n",
    "with open(\"origin_lists/hico_list_hoi.txt\") as f:\n",
    "    for line in f:\n",
    "        hoi_list.append(line)"
   ]
  },
  {
   "cell_type": "code",
   "execution_count": 20,
   "metadata": {},
   "outputs": [],
   "source": [
    "obj_list=obj_list[2:]\n",
    "obj_list = [item.strip() for item in obj_list]\n",
    "verb_list=verb_list[2:]\n",
    "verb_list = [item.strip() for item in verb_list]\n",
    "hoi_list=hoi_list[2:]\n",
    "hoi_list = [item.strip() for item in hoi_list]"
   ]
  },
  {
   "cell_type": "code",
   "execution_count": 28,
   "metadata": {},
   "outputs": [],
   "source": [
    "#base on retinanet pretrain result\n",
    "obj_dict = {0: 'person', 1: 'bicycle', 2: 'car', 3: 'motorcycle', 4: 'airplane', 5: 'bus', 6: 'train', 7: 'truck', 8: 'boat', 9: 'traffic light', 10: 'fire hydrant', 11: 'stop sign', 12: 'parking meter', 13: 'bench', 14: 'bird', 15: 'cat', 16: 'dog', 17: 'horse', 18: 'sheep', 19: 'cow', 20: 'elephant', 21: 'bear', 22: 'zebra', 23: 'giraffe', 24: 'backpack', 25: 'umbrella', 26: 'handbag', 27: 'tie', 28: 'suitcase', 29: 'frisbee', 30: 'skis', 31: 'snowboard', 32: 'sports ball', 33: 'kite', 34: 'baseball bat', 35: 'baseball glove', 36: 'skateboard', 37: 'surfboard', 38: 'tennis racket', 39: 'bottle', 40: 'wine glass', 41: 'cup', 42: 'fork', 43: 'knife', 44: 'spoon', 45: 'bowl', 46: 'banana', 47: 'apple', 48: 'sandwich', 49: 'orange', 50: 'broccoli', 51: 'carrot', 52: 'hot dog', 53: 'pizza', 54: 'donut', 55: 'cake', 56: 'chair', 57: 'couch', 58: 'potted plant', 59: 'bed', 60: 'dining table', 61: 'toilet', 62: 'tv', 63: 'laptop', 64: 'mouse', 65: 'remote', 66: 'keyboard', 67: 'cell phone', 68: 'microwave', 69: 'oven', 70: 'toaster', 71: 'sink', 72: 'refrigerator', 73: 'book', 74: 'clock', 75: 'vase', 76: 'scissors', 77: 'teddy bear', 78: 'hair drier', 79: 'toothbrush'}"
   ]
  },
  {
   "cell_type": "code",
   "execution_count": 29,
   "metadata": {},
   "outputs": [],
   "source": [
    "verb_dict={}\n",
    "for i in verb_list:\n",
    "    verb_dict[int(i.split()[0])]=i.split()[1]"
   ]
  },
  {
   "cell_type": "code",
   "execution_count": 45,
   "metadata": {},
   "outputs": [],
   "source": [
    "hoi_dict={}\n",
    "for i in hoi_list:\n",
    "    hoi_dict[i.split()[0]]=i.split()[2]+'_'+i.split()[1]"
   ]
  },
  {
   "cell_type": "code",
   "execution_count": 60,
   "metadata": {},
   "outputs": [],
   "source": [
    "with open('obj_dict.json', 'w') as file:\n",
    "     file.write(json.dumps(obj_dict))\n",
    "with open('verb_dict.json', 'w') as file:\n",
    "     file.write(json.dumps(verb_dict))\n",
    "with open('hoi_dict.json', 'w') as file:\n",
    "     file.write(json.dumps(hoi_dict))"
   ]
  },
  {
   "cell_type": "code",
   "execution_count": 61,
   "metadata": {},
   "outputs": [],
   "source": [
    "with open('obj_dict.json', 'r') as f:\n",
    "    obj_dict = json.load(f)\n",
    "with open('hoi_dict.json', 'r') as f:\n",
    "    hoi_dict = json.load(f)\n",
    "with open('verb_dict.json', 'r') as f:\n",
    "    verb_dict = json.load(f)"
   ]
  },
  {
   "cell_type": "code",
   "execution_count": null,
   "metadata": {},
   "outputs": [],
   "source": []
  }
 ],
 "metadata": {
  "kernelspec": {
   "display_name": "Python 3",
   "language": "python",
   "name": "python3"
  },
  "language_info": {
   "codemirror_mode": {
    "name": "ipython",
    "version": 3
   },
   "file_extension": ".py",
   "mimetype": "text/x-python",
   "name": "python",
   "nbconvert_exporter": "python",
   "pygments_lexer": "ipython3",
   "version": "3.6.3"
  }
 },
 "nbformat": 4,
 "nbformat_minor": 2
}
