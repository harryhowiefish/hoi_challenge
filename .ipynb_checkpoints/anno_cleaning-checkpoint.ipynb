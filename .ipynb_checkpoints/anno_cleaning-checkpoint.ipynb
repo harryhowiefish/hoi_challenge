{
 "cells": [
  {
   "cell_type": "code",
   "execution_count": 60,
   "metadata": {},
   "outputs": [],
   "source": [
    "import scipy.io\n",
    "import numpy as np\n",
    "import pandas as pd\n",
    "import matplotlib.pyplot as plt\n",
    "import cv2\n",
    "from tqdm import tqdm_notebook as tqdm\n",
    "import pickle\n",
    "import os\n",
    "import json"
   ]
  },
  {
   "cell_type": "code",
   "execution_count": 2,
   "metadata": {},
   "outputs": [],
   "source": [
    "data = scipy.io.loadmat(\"/projectdata/cht01/hico_20160224_det/anno_bbox.mat\",squeeze_me=True)"
   ]
  },
  {
   "cell_type": "code",
   "execution_count": 44,
   "metadata": {},
   "outputs": [],
   "source": [
    "data_2 = scipy.io.loadmat(\"/projectdata/cht01/hico_20160224_det/anno.mat\",squeeze_me=True)"
   ]
  },
  {
   "cell_type": "code",
   "execution_count": 70,
   "metadata": {},
   "outputs": [
    {
     "data": {
      "text/plain": [
       "(dict_keys(['__header__', '__version__', '__globals__', 'bbox_train', 'bbox_test', 'list_action']),\n",
       " dict_keys(['__header__', '__version__', '__globals__', 'list_action', 'anno_train', 'anno_test', 'list_train', 'list_test']))"
      ]
     },
     "execution_count": 70,
     "metadata": {},
     "output_type": "execute_result"
    }
   ],
   "source": [
    "data.keys(),data_2.keys()"
   ]
  },
  {
   "cell_type": "code",
   "execution_count": 5,
   "metadata": {},
   "outputs": [],
   "source": [
    "# with open(\"bbox_train\", \"wb\") as file:\n",
    "#     pickle.dump(data['bbox_train'], file)\n",
    "# with open(\"bbox_test\", \"wb\") as file:\n",
    "#     pickle.dump(data['bbox_test'], file)"
   ]
  },
  {
   "cell_type": "code",
   "execution_count": 38,
   "metadata": {},
   "outputs": [
    {
     "data": {
      "application/vnd.jupyter.widget-view+json": {
       "model_id": "3663ed8f626a4b559980e4a11738a078",
       "version_major": 2,
       "version_minor": 0
      },
      "text/html": [
       "<p>Failed to display Jupyter Widget of type <code>HBox</code>.</p>\n",
       "<p>\n",
       "  If you're reading this message in the Jupyter Notebook or JupyterLab Notebook, it may mean\n",
       "  that the widgets JavaScript is still loading. If this message persists, it\n",
       "  likely means that the widgets JavaScript library is either not installed or\n",
       "  not enabled. See the <a href=\"https://ipywidgets.readthedocs.io/en/stable/user_install.html\">Jupyter\n",
       "  Widgets Documentation</a> for setup instructions.\n",
       "</p>\n",
       "<p>\n",
       "  If you're reading this message in another frontend (for example, a static\n",
       "  rendering on GitHub or <a href=\"https://nbviewer.jupyter.org/\">NBViewer</a>),\n",
       "  it may mean that your frontend doesn't currently support widgets.\n",
       "</p>\n"
      ],
      "text/plain": [
       "HBox(children=(IntProgress(value=0, max=38118), HTML(value='')))"
      ]
     },
     "metadata": {},
     "output_type": "display_data"
    },
    {
     "name": "stdout",
     "output_type": "stream",
     "text": [
      "\n"
     ]
    },
    {
     "data": {
      "application/vnd.jupyter.widget-view+json": {
       "model_id": "816be701927a40648b878a5afe58bb0b",
       "version_major": 2,
       "version_minor": 0
      },
      "text/html": [
       "<p>Failed to display Jupyter Widget of type <code>HBox</code>.</p>\n",
       "<p>\n",
       "  If you're reading this message in the Jupyter Notebook or JupyterLab Notebook, it may mean\n",
       "  that the widgets JavaScript is still loading. If this message persists, it\n",
       "  likely means that the widgets JavaScript library is either not installed or\n",
       "  not enabled. See the <a href=\"https://ipywidgets.readthedocs.io/en/stable/user_install.html\">Jupyter\n",
       "  Widgets Documentation</a> for setup instructions.\n",
       "</p>\n",
       "<p>\n",
       "  If you're reading this message in another frontend (for example, a static\n",
       "  rendering on GitHub or <a href=\"https://nbviewer.jupyter.org/\">NBViewer</a>),\n",
       "  it may mean that your frontend doesn't currently support widgets.\n",
       "</p>\n"
      ],
      "text/plain": [
       "HBox(children=(IntProgress(value=0, max=38118), HTML(value='')))"
      ]
     },
     "metadata": {},
     "output_type": "display_data"
    },
    {
     "name": "stdout",
     "output_type": "stream",
     "text": [
      "\n"
     ]
    },
    {
     "data": {
      "application/vnd.jupyter.widget-view+json": {
       "model_id": "652330b065714d81a899a66a6bcc7aad",
       "version_major": 2,
       "version_minor": 0
      },
      "text/html": [
       "<p>Failed to display Jupyter Widget of type <code>HBox</code>.</p>\n",
       "<p>\n",
       "  If you're reading this message in the Jupyter Notebook or JupyterLab Notebook, it may mean\n",
       "  that the widgets JavaScript is still loading. If this message persists, it\n",
       "  likely means that the widgets JavaScript library is either not installed or\n",
       "  not enabled. See the <a href=\"https://ipywidgets.readthedocs.io/en/stable/user_install.html\">Jupyter\n",
       "  Widgets Documentation</a> for setup instructions.\n",
       "</p>\n",
       "<p>\n",
       "  If you're reading this message in another frontend (for example, a static\n",
       "  rendering on GitHub or <a href=\"https://nbviewer.jupyter.org/\">NBViewer</a>),\n",
       "  it may mean that your frontend doesn't currently support widgets.\n",
       "</p>\n"
      ],
      "text/plain": [
       "HBox(children=(IntProgress(value=0, max=38118), HTML(value='')))"
      ]
     },
     "metadata": {},
     "output_type": "display_data"
    },
    {
     "name": "stdout",
     "output_type": "stream",
     "text": [
      "\n"
     ]
    },
    {
     "data": {
      "application/vnd.jupyter.widget-view+json": {
       "model_id": "90964732f74646c0b0d8f50902fdc5fd",
       "version_major": 2,
       "version_minor": 0
      },
      "text/html": [
       "<p>Failed to display Jupyter Widget of type <code>HBox</code>.</p>\n",
       "<p>\n",
       "  If you're reading this message in the Jupyter Notebook or JupyterLab Notebook, it may mean\n",
       "  that the widgets JavaScript is still loading. If this message persists, it\n",
       "  likely means that the widgets JavaScript library is either not installed or\n",
       "  not enabled. See the <a href=\"https://ipywidgets.readthedocs.io/en/stable/user_install.html\">Jupyter\n",
       "  Widgets Documentation</a> for setup instructions.\n",
       "</p>\n",
       "<p>\n",
       "  If you're reading this message in another frontend (for example, a static\n",
       "  rendering on GitHub or <a href=\"https://nbviewer.jupyter.org/\">NBViewer</a>),\n",
       "  it may mean that your frontend doesn't currently support widgets.\n",
       "</p>\n"
      ],
      "text/plain": [
       "HBox(children=(IntProgress(value=0, max=38118), HTML(value='')))"
      ]
     },
     "metadata": {},
     "output_type": "display_data"
    },
    {
     "name": "stdout",
     "output_type": "stream",
     "text": [
      "\n"
     ]
    },
    {
     "data": {
      "application/vnd.jupyter.widget-view+json": {
       "model_id": "47d7396d859c4838adc7ef3ce01dc007",
       "version_major": 2,
       "version_minor": 0
      },
      "text/html": [
       "<p>Failed to display Jupyter Widget of type <code>HBox</code>.</p>\n",
       "<p>\n",
       "  If you're reading this message in the Jupyter Notebook or JupyterLab Notebook, it may mean\n",
       "  that the widgets JavaScript is still loading. If this message persists, it\n",
       "  likely means that the widgets JavaScript library is either not installed or\n",
       "  not enabled. See the <a href=\"https://ipywidgets.readthedocs.io/en/stable/user_install.html\">Jupyter\n",
       "  Widgets Documentation</a> for setup instructions.\n",
       "</p>\n",
       "<p>\n",
       "  If you're reading this message in another frontend (for example, a static\n",
       "  rendering on GitHub or <a href=\"https://nbviewer.jupyter.org/\">NBViewer</a>),\n",
       "  it may mean that your frontend doesn't currently support widgets.\n",
       "</p>\n"
      ],
      "text/plain": [
       "HBox(children=(IntProgress(value=0, max=38118), HTML(value='')))"
      ]
     },
     "metadata": {},
     "output_type": "display_data"
    },
    {
     "name": "stdout",
     "output_type": "stream",
     "text": [
      "\n"
     ]
    },
    {
     "data": {
      "application/vnd.jupyter.widget-view+json": {
       "model_id": "747d5b8fbd364e1b86f4e0c27baadf3d",
       "version_major": 2,
       "version_minor": 0
      },
      "text/html": [
       "<p>Failed to display Jupyter Widget of type <code>HBox</code>.</p>\n",
       "<p>\n",
       "  If you're reading this message in the Jupyter Notebook or JupyterLab Notebook, it may mean\n",
       "  that the widgets JavaScript is still loading. If this message persists, it\n",
       "  likely means that the widgets JavaScript library is either not installed or\n",
       "  not enabled. See the <a href=\"https://ipywidgets.readthedocs.io/en/stable/user_install.html\">Jupyter\n",
       "  Widgets Documentation</a> for setup instructions.\n",
       "</p>\n",
       "<p>\n",
       "  If you're reading this message in another frontend (for example, a static\n",
       "  rendering on GitHub or <a href=\"https://nbviewer.jupyter.org/\">NBViewer</a>),\n",
       "  it may mean that your frontend doesn't currently support widgets.\n",
       "</p>\n"
      ],
      "text/plain": [
       "HBox(children=(IntProgress(value=0, max=38118), HTML(value='')))"
      ]
     },
     "metadata": {},
     "output_type": "display_data"
    },
    {
     "name": "stdout",
     "output_type": "stream",
     "text": [
      "\n"
     ]
    },
    {
     "data": {
      "application/vnd.jupyter.widget-view+json": {
       "model_id": "d930e3272b244029afdd186cd087df0e",
       "version_major": 2,
       "version_minor": 0
      },
      "text/html": [
       "<p>Failed to display Jupyter Widget of type <code>HBox</code>.</p>\n",
       "<p>\n",
       "  If you're reading this message in the Jupyter Notebook or JupyterLab Notebook, it may mean\n",
       "  that the widgets JavaScript is still loading. If this message persists, it\n",
       "  likely means that the widgets JavaScript library is either not installed or\n",
       "  not enabled. See the <a href=\"https://ipywidgets.readthedocs.io/en/stable/user_install.html\">Jupyter\n",
       "  Widgets Documentation</a> for setup instructions.\n",
       "</p>\n",
       "<p>\n",
       "  If you're reading this message in another frontend (for example, a static\n",
       "  rendering on GitHub or <a href=\"https://nbviewer.jupyter.org/\">NBViewer</a>),\n",
       "  it may mean that your frontend doesn't currently support widgets.\n",
       "</p>\n"
      ],
      "text/plain": [
       "HBox(children=(IntProgress(value=0, max=38118), HTML(value='')))"
      ]
     },
     "metadata": {},
     "output_type": "display_data"
    },
    {
     "name": "stdout",
     "output_type": "stream",
     "text": [
      "\n"
     ]
    }
   ],
   "source": [
    "img_name=[]\n",
    "data_len = len(data['bbox_train'])\n",
    "for i in tqdm(range(data_len)):\n",
    "    img_name.append(data['bbox_train'][i][0])\n",
    "\n",
    "img_size=[]\n",
    "for i in tqdm(range(data_len)):\n",
    "    img_size.append(data['bbox_train'][i][1].tolist())\n",
    "\n",
    "action_list=[]\n",
    "for i in tqdm(range(data_len)):\n",
    "    if len(data['bbox_train'][i][2].shape)==1:\n",
    "        temp = data['bbox_train'][i][2]\n",
    "    else:\n",
    "        temp = np.expand_dims(data['bbox_train'][i][2],axis=0)\n",
    "    action_sub_list=[]\n",
    "    image_action_count = len(temp)\n",
    "    for j in range(image_action_count):\n",
    "        action_sub_list.append(temp[j][0])\n",
    "    action_list.append(action_sub_list)\n",
    "\n",
    "human_bbox_list=[]\n",
    "for i in tqdm(range(data_len)):\n",
    "    if len(data['bbox_train'][i][2].shape)==1:\n",
    "        temp = data['bbox_train'][i][2]\n",
    "    else:\n",
    "        temp = np.expand_dims(data['bbox_train'][i][2],axis=0)\n",
    "    human_bbox_sub_list=[]\n",
    "    image_action_count = len(temp)\n",
    "    for j in range(image_action_count):\n",
    "        if len(temp[j][1].shape)==0:\n",
    "            human_bbox_sub_list.append(np.array(temp[j][1].tolist()))\n",
    "        else:\n",
    "            for k in range(temp[j][1].shape[0]):\n",
    "                human_bbox_sub_list.append(np.array(temp[j][1][k].tolist()))\n",
    "    human_bbox_list.append(human_bbox_sub_list)\n",
    "\n",
    "object_bbox_list=[]\n",
    "for i in tqdm(range(data_len)):\n",
    "    if len(data['bbox_train'][i][2].shape)==1:\n",
    "        temp = data['bbox_train'][i][2]\n",
    "    else:\n",
    "        temp = np.expand_dims(data['bbox_train'][i][2],axis=0)\n",
    "    object_bbox_sub_list=[]\n",
    "    image_action_count = len(temp)\n",
    "    for j in range(image_action_count):\n",
    "        if len(temp[j][2].shape)==0:\n",
    "            object_bbox_sub_list.append(np.array(temp[j][2].tolist()))\n",
    "        else:\n",
    "            for k in range(temp[j][2].shape[0]):\n",
    "                object_bbox_sub_list.append(np.array(temp[j][2][k].tolist()))\n",
    "    object_bbox_list.append(object_bbox_sub_list)\n",
    "\n",
    "pair_list=[]\n",
    "for i in tqdm(range(data_len)):\n",
    "    if len(data['bbox_train'][i][2].shape)==1:\n",
    "        temp = data['bbox_train'][i][2]\n",
    "    else:\n",
    "        temp = np.expand_dims(data['bbox_train'][i][2],axis=0)\n",
    "    pair_sub_list=[]\n",
    "    image_action_count = len(temp)\n",
    "    for j in range(image_action_count):\n",
    "        if len(temp[j][3].shape)==1:\n",
    "            pair_sub_list.append(np.array(temp[j][3].tolist()))\n",
    "        else:\n",
    "            for k in range(temp[j][3].shape[0]):\n",
    "                pair_sub_list.append(np.array(temp[j][3][k].tolist()))\n",
    "    pair_list.append(pair_sub_list)\n",
    "\n",
    "invis_list=[]\n",
    "for i in tqdm(range(data_len)):\n",
    "    if len(data['bbox_train'][i][2].shape)==1:\n",
    "        temp = data['bbox_train'][i][2]\n",
    "    else:\n",
    "        temp = np.expand_dims(data['bbox_train'][i][2],axis=0)\n",
    "    invis_sub_list=[]\n",
    "    image_action_count = len(temp)\n",
    "    for j in range(image_action_count):\n",
    "        invis_sub_list.append(temp[j][4])\n",
    "    invis_list.append(invis_sub_list)"
   ]
  },
  {
   "cell_type": "code",
   "execution_count": 40,
   "metadata": {},
   "outputs": [
    {
     "data": {
      "application/vnd.jupyter.widget-view+json": {
       "model_id": "ba104219e32e41b2beda55517929244e",
       "version_major": 2,
       "version_minor": 0
      },
      "text/html": [
       "<p>Failed to display Jupyter Widget of type <code>HBox</code>.</p>\n",
       "<p>\n",
       "  If you're reading this message in the Jupyter Notebook or JupyterLab Notebook, it may mean\n",
       "  that the widgets JavaScript is still loading. If this message persists, it\n",
       "  likely means that the widgets JavaScript library is either not installed or\n",
       "  not enabled. See the <a href=\"https://ipywidgets.readthedocs.io/en/stable/user_install.html\">Jupyter\n",
       "  Widgets Documentation</a> for setup instructions.\n",
       "</p>\n",
       "<p>\n",
       "  If you're reading this message in another frontend (for example, a static\n",
       "  rendering on GitHub or <a href=\"https://nbviewer.jupyter.org/\">NBViewer</a>),\n",
       "  it may mean that your frontend doesn't currently support widgets.\n",
       "</p>\n"
      ],
      "text/plain": [
       "HBox(children=(IntProgress(value=0, max=9658), HTML(value='')))"
      ]
     },
     "metadata": {},
     "output_type": "display_data"
    },
    {
     "name": "stdout",
     "output_type": "stream",
     "text": [
      "\n"
     ]
    },
    {
     "data": {
      "application/vnd.jupyter.widget-view+json": {
       "model_id": "c0fbb9637614442cabc63149b03c7f8b",
       "version_major": 2,
       "version_minor": 0
      },
      "text/html": [
       "<p>Failed to display Jupyter Widget of type <code>HBox</code>.</p>\n",
       "<p>\n",
       "  If you're reading this message in the Jupyter Notebook or JupyterLab Notebook, it may mean\n",
       "  that the widgets JavaScript is still loading. If this message persists, it\n",
       "  likely means that the widgets JavaScript library is either not installed or\n",
       "  not enabled. See the <a href=\"https://ipywidgets.readthedocs.io/en/stable/user_install.html\">Jupyter\n",
       "  Widgets Documentation</a> for setup instructions.\n",
       "</p>\n",
       "<p>\n",
       "  If you're reading this message in another frontend (for example, a static\n",
       "  rendering on GitHub or <a href=\"https://nbviewer.jupyter.org/\">NBViewer</a>),\n",
       "  it may mean that your frontend doesn't currently support widgets.\n",
       "</p>\n"
      ],
      "text/plain": [
       "HBox(children=(IntProgress(value=0, max=9658), HTML(value='')))"
      ]
     },
     "metadata": {},
     "output_type": "display_data"
    },
    {
     "name": "stdout",
     "output_type": "stream",
     "text": [
      "\n"
     ]
    },
    {
     "data": {
      "application/vnd.jupyter.widget-view+json": {
       "model_id": "860bba74090f4a0f8ca6d1b58c0efce5",
       "version_major": 2,
       "version_minor": 0
      },
      "text/html": [
       "<p>Failed to display Jupyter Widget of type <code>HBox</code>.</p>\n",
       "<p>\n",
       "  If you're reading this message in the Jupyter Notebook or JupyterLab Notebook, it may mean\n",
       "  that the widgets JavaScript is still loading. If this message persists, it\n",
       "  likely means that the widgets JavaScript library is either not installed or\n",
       "  not enabled. See the <a href=\"https://ipywidgets.readthedocs.io/en/stable/user_install.html\">Jupyter\n",
       "  Widgets Documentation</a> for setup instructions.\n",
       "</p>\n",
       "<p>\n",
       "  If you're reading this message in another frontend (for example, a static\n",
       "  rendering on GitHub or <a href=\"https://nbviewer.jupyter.org/\">NBViewer</a>),\n",
       "  it may mean that your frontend doesn't currently support widgets.\n",
       "</p>\n"
      ],
      "text/plain": [
       "HBox(children=(IntProgress(value=0, max=9658), HTML(value='')))"
      ]
     },
     "metadata": {},
     "output_type": "display_data"
    },
    {
     "name": "stdout",
     "output_type": "stream",
     "text": [
      "\n"
     ]
    },
    {
     "data": {
      "application/vnd.jupyter.widget-view+json": {
       "model_id": "81d65961d64c46a09a391719e32af1d4",
       "version_major": 2,
       "version_minor": 0
      },
      "text/html": [
       "<p>Failed to display Jupyter Widget of type <code>HBox</code>.</p>\n",
       "<p>\n",
       "  If you're reading this message in the Jupyter Notebook or JupyterLab Notebook, it may mean\n",
       "  that the widgets JavaScript is still loading. If this message persists, it\n",
       "  likely means that the widgets JavaScript library is either not installed or\n",
       "  not enabled. See the <a href=\"https://ipywidgets.readthedocs.io/en/stable/user_install.html\">Jupyter\n",
       "  Widgets Documentation</a> for setup instructions.\n",
       "</p>\n",
       "<p>\n",
       "  If you're reading this message in another frontend (for example, a static\n",
       "  rendering on GitHub or <a href=\"https://nbviewer.jupyter.org/\">NBViewer</a>),\n",
       "  it may mean that your frontend doesn't currently support widgets.\n",
       "</p>\n"
      ],
      "text/plain": [
       "HBox(children=(IntProgress(value=0, max=9658), HTML(value='')))"
      ]
     },
     "metadata": {},
     "output_type": "display_data"
    },
    {
     "name": "stdout",
     "output_type": "stream",
     "text": [
      "\n"
     ]
    },
    {
     "data": {
      "application/vnd.jupyter.widget-view+json": {
       "model_id": "fadb34d27e7244deb986ba3123fd8f58",
       "version_major": 2,
       "version_minor": 0
      },
      "text/html": [
       "<p>Failed to display Jupyter Widget of type <code>HBox</code>.</p>\n",
       "<p>\n",
       "  If you're reading this message in the Jupyter Notebook or JupyterLab Notebook, it may mean\n",
       "  that the widgets JavaScript is still loading. If this message persists, it\n",
       "  likely means that the widgets JavaScript library is either not installed or\n",
       "  not enabled. See the <a href=\"https://ipywidgets.readthedocs.io/en/stable/user_install.html\">Jupyter\n",
       "  Widgets Documentation</a> for setup instructions.\n",
       "</p>\n",
       "<p>\n",
       "  If you're reading this message in another frontend (for example, a static\n",
       "  rendering on GitHub or <a href=\"https://nbviewer.jupyter.org/\">NBViewer</a>),\n",
       "  it may mean that your frontend doesn't currently support widgets.\n",
       "</p>\n"
      ],
      "text/plain": [
       "HBox(children=(IntProgress(value=0, max=9658), HTML(value='')))"
      ]
     },
     "metadata": {},
     "output_type": "display_data"
    },
    {
     "name": "stdout",
     "output_type": "stream",
     "text": [
      "\n"
     ]
    },
    {
     "data": {
      "application/vnd.jupyter.widget-view+json": {
       "model_id": "74d855cfbb2c404ea72eb3e7a7c3d8cf",
       "version_major": 2,
       "version_minor": 0
      },
      "text/html": [
       "<p>Failed to display Jupyter Widget of type <code>HBox</code>.</p>\n",
       "<p>\n",
       "  If you're reading this message in the Jupyter Notebook or JupyterLab Notebook, it may mean\n",
       "  that the widgets JavaScript is still loading. If this message persists, it\n",
       "  likely means that the widgets JavaScript library is either not installed or\n",
       "  not enabled. See the <a href=\"https://ipywidgets.readthedocs.io/en/stable/user_install.html\">Jupyter\n",
       "  Widgets Documentation</a> for setup instructions.\n",
       "</p>\n",
       "<p>\n",
       "  If you're reading this message in another frontend (for example, a static\n",
       "  rendering on GitHub or <a href=\"https://nbviewer.jupyter.org/\">NBViewer</a>),\n",
       "  it may mean that your frontend doesn't currently support widgets.\n",
       "</p>\n"
      ],
      "text/plain": [
       "HBox(children=(IntProgress(value=0, max=9658), HTML(value='')))"
      ]
     },
     "metadata": {},
     "output_type": "display_data"
    },
    {
     "name": "stdout",
     "output_type": "stream",
     "text": [
      "\n"
     ]
    },
    {
     "data": {
      "application/vnd.jupyter.widget-view+json": {
       "model_id": "50c3d62291534e9cbc3e665907bf9d02",
       "version_major": 2,
       "version_minor": 0
      },
      "text/html": [
       "<p>Failed to display Jupyter Widget of type <code>HBox</code>.</p>\n",
       "<p>\n",
       "  If you're reading this message in the Jupyter Notebook or JupyterLab Notebook, it may mean\n",
       "  that the widgets JavaScript is still loading. If this message persists, it\n",
       "  likely means that the widgets JavaScript library is either not installed or\n",
       "  not enabled. See the <a href=\"https://ipywidgets.readthedocs.io/en/stable/user_install.html\">Jupyter\n",
       "  Widgets Documentation</a> for setup instructions.\n",
       "</p>\n",
       "<p>\n",
       "  If you're reading this message in another frontend (for example, a static\n",
       "  rendering on GitHub or <a href=\"https://nbviewer.jupyter.org/\">NBViewer</a>),\n",
       "  it may mean that your frontend doesn't currently support widgets.\n",
       "</p>\n"
      ],
      "text/plain": [
       "HBox(children=(IntProgress(value=0, max=9658), HTML(value='')))"
      ]
     },
     "metadata": {},
     "output_type": "display_data"
    },
    {
     "name": "stdout",
     "output_type": "stream",
     "text": [
      "\n"
     ]
    }
   ],
   "source": [
    "test_img_name=[]\n",
    "data_len = len(data['bbox_test'])\n",
    "for i in tqdm(range(data_len)):\n",
    "    test_img_name.append(data['bbox_test'][i][0])\n",
    "\n",
    "test_img_size=[]\n",
    "for i in tqdm(range(data_len)):\n",
    "    test_img_size.append(data['bbox_test'][i][1].tolist())\n",
    "\n",
    "test_action_list=[]\n",
    "for i in tqdm(range(data_len)):\n",
    "    if len(data['bbox_test'][i][2].shape)==1:\n",
    "        temp = data['bbox_test'][i][2]\n",
    "    else:\n",
    "        temp = np.expand_dims(data['bbox_test'][i][2],axis=0)\n",
    "    action_sub_list=[]\n",
    "    image_action_count = len(temp)\n",
    "    for j in range(image_action_count):\n",
    "        action_sub_list.append(temp[j][0])\n",
    "    test_action_list.append(action_sub_list)\n",
    "\n",
    "test_human_bbox_list=[]\n",
    "for i in tqdm(range(data_len)):\n",
    "    if len(data['bbox_test'][i][2].shape)==1:\n",
    "        temp = data['bbox_test'][i][2]\n",
    "    else:\n",
    "        temp = np.expand_dims(data['bbox_test'][i][2],axis=0)\n",
    "    human_bbox_sub_list=[]\n",
    "    image_action_count = len(temp)\n",
    "    for j in range(image_action_count):\n",
    "        if len(temp[j][1].shape)==0:\n",
    "            human_bbox_sub_list.append(np.array(temp[j][1].tolist()))\n",
    "        else:\n",
    "            for k in range(temp[j][1].shape[0]):\n",
    "                human_bbox_sub_list.append(np.array(temp[j][1][k].tolist()))\n",
    "    test_human_bbox_list.append(human_bbox_sub_list)\n",
    "\n",
    "test_object_bbox_list=[]\n",
    "for i in tqdm(range(data_len)):\n",
    "    if len(data['bbox_test'][i][2].shape)==1:\n",
    "        temp = data['bbox_test'][i][2]\n",
    "    else:\n",
    "        temp = np.expand_dims(data['bbox_test'][i][2],axis=0)\n",
    "    object_bbox_sub_list=[]\n",
    "    image_action_count = len(temp)\n",
    "    for j in range(image_action_count):\n",
    "        if len(temp[j][2].shape)==0:\n",
    "            object_bbox_sub_list.append(np.array(temp[j][2].tolist()))\n",
    "        else:\n",
    "            for k in range(temp[j][2].shape[0]):\n",
    "                object_bbox_sub_list.append(np.array(temp[j][2][k].tolist()))\n",
    "    test_object_bbox_list.append(object_bbox_sub_list)\n",
    "\n",
    "test_pair_list=[]\n",
    "for i in tqdm(range(data_len)):\n",
    "    if len(data['bbox_test'][i][2].shape)==1:\n",
    "        temp = data['bbox_test'][i][2]\n",
    "    else:\n",
    "        temp = np.expand_dims(data['bbox_test'][i][2],axis=0)\n",
    "    pair_sub_list=[]\n",
    "    image_action_count = len(temp)\n",
    "    for j in range(image_action_count):\n",
    "        if len(temp[j][3].shape)==1:\n",
    "            pair_sub_list.append(np.array(temp[j][3].tolist()))\n",
    "        else:\n",
    "            for k in range(temp[j][3].shape[0]):\n",
    "                pair_sub_list.append(np.array(temp[j][3][k].tolist()))\n",
    "    test_pair_list.append(pair_sub_list)\n",
    "\n",
    "test_invis_list=[]\n",
    "for i in tqdm(range(data_len)):\n",
    "    if len(data['bbox_test'][i][2].shape)==1:\n",
    "        temp = data['bbox_test'][i][2]\n",
    "    else:\n",
    "        temp = np.expand_dims(data['bbox_test'][i][2],axis=0)\n",
    "    invis_sub_list=[]\n",
    "    image_action_count = len(temp)\n",
    "    for j in range(image_action_count):\n",
    "        invis_sub_list.append(temp[j][4])\n",
    "    test_invis_list.append(invis_sub_list)"
   ]
  },
  {
   "cell_type": "code",
   "execution_count": 41,
   "metadata": {},
   "outputs": [
    {
     "data": {
      "text/plain": [
       "(38118, 38118, 38118, 38118, 38118, 38118, 38118)"
      ]
     },
     "execution_count": 41,
     "metadata": {},
     "output_type": "execute_result"
    }
   ],
   "source": [
    "len(img_name),len(img_size),len(action_list),len(human_bbox_list),len(object_bbox_list),len(pair_list),len(invis_list)"
   ]
  },
  {
   "cell_type": "code",
   "execution_count": 42,
   "metadata": {},
   "outputs": [
    {
     "data": {
      "text/plain": [
       "(9658, 9658, 9658, 9658, 9658, 9658, 9658)"
      ]
     },
     "execution_count": 42,
     "metadata": {},
     "output_type": "execute_result"
    }
   ],
   "source": [
    "len(test_img_name),len(test_img_size),len(test_action_list),len(test_human_bbox_list),len(test_object_bbox_list),len(test_pair_list),len(test_invis_list)"
   ]
  },
  {
   "cell_type": "code",
   "execution_count": 43,
   "metadata": {},
   "outputs": [],
   "source": [
    "train_data = pd.DataFrame({\n",
    "    'name':img_name,\n",
    "    'size':img_size,\n",
    "    'action_no':action_list,\n",
    "    'human_bbox':human_bbox_list,\n",
    "    'object_bbox':object_bbox_list,\n",
    "    'pair_no':pair_list,\n",
    "    'invisible':invis_list\n",
    "})"
   ]
  },
  {
   "cell_type": "code",
   "execution_count": 44,
   "metadata": {},
   "outputs": [],
   "source": [
    "test_data = pd.DataFrame({\n",
    "    'name':test_img_name,\n",
    "    'size':test_img_size,\n",
    "    'action_no':test_action_list,\n",
    "    'human_bbox':test_human_bbox_list,\n",
    "    'object_bbox':test_object_bbox_list,\n",
    "    'pair_no':test_pair_list,\n",
    "    'invisible':test_invis_list\n",
    "})"
   ]
  },
  {
   "cell_type": "code",
   "execution_count": 45,
   "metadata": {},
   "outputs": [],
   "source": [
    "train_data = train_data[['name','size','action_no','human_bbox','object_bbox','pair_no','invisible']]\n",
    "test_data = test_data[['name','size','action_no','human_bbox','object_bbox','pair_no','invisible']]"
   ]
  },
  {
   "cell_type": "code",
   "execution_count": 46,
   "metadata": {},
   "outputs": [
    {
     "data": {
      "text/html": [
       "<div>\n",
       "<table border=\"1\" class=\"dataframe\">\n",
       "  <thead>\n",
       "    <tr style=\"text-align: right;\">\n",
       "      <th></th>\n",
       "      <th>name</th>\n",
       "      <th>size</th>\n",
       "      <th>action_no</th>\n",
       "      <th>human_bbox</th>\n",
       "      <th>object_bbox</th>\n",
       "      <th>pair_no</th>\n",
       "      <th>invisible</th>\n",
       "    </tr>\n",
       "  </thead>\n",
       "  <tbody>\n",
       "    <tr>\n",
       "      <th>0</th>\n",
       "      <td>HICO_train2015_00000001.jpg</td>\n",
       "      <td>(640, 480, 3)</td>\n",
       "      <td>[153, 154, 155, 156]</td>\n",
       "      <td>[[208, 427, 33, 300], [213, 438, 20, 357], [20...</td>\n",
       "      <td>[[59, 572, 98, 405], [77, 583, 115, 396], [61,...</td>\n",
       "      <td>[[1, 1], [1, 1], [1, 1], [1, 1]]</td>\n",
       "      <td>[0, 0, 0, 0]</td>\n",
       "    </tr>\n",
       "    <tr>\n",
       "      <th>1</th>\n",
       "      <td>HICO_train2015_00000002.jpg</td>\n",
       "      <td>(640, 480, 3)</td>\n",
       "      <td>[224]</td>\n",
       "      <td>[[262, 638, 1, 138]]</td>\n",
       "      <td>[[162, 258, 131, 165]]</td>\n",
       "      <td>[[1, 1]]</td>\n",
       "      <td>[0]</td>\n",
       "    </tr>\n",
       "    <tr>\n",
       "      <th>2</th>\n",
       "      <td>HICO_train2015_00000003.jpg</td>\n",
       "      <td>(599, 640, 3)</td>\n",
       "      <td>[65]</td>\n",
       "      <td>[[567, 580, 361, 390]]</td>\n",
       "      <td>[[74, 510, 52, 484]]</td>\n",
       "      <td>[[1, 1]]</td>\n",
       "      <td>[0]</td>\n",
       "    </tr>\n",
       "    <tr>\n",
       "      <th>3</th>\n",
       "      <td>HICO_train2015_00000004.jpg</td>\n",
       "      <td>(640, 427, 3)</td>\n",
       "      <td>[48, 49]</td>\n",
       "      <td>[[223, 484, 29, 368], [221, 485, 30, 372]]</td>\n",
       "      <td>[[269, 363, 89, 122], [261, 367, 86, 122]]</td>\n",
       "      <td>[[1, 1], [1, 1]]</td>\n",
       "      <td>[0, 0]</td>\n",
       "    </tr>\n",
       "    <tr>\n",
       "      <th>4</th>\n",
       "      <td>HICO_train2015_00000005.jpg</td>\n",
       "      <td>(640, 425, 3)</td>\n",
       "      <td>[242]</td>\n",
       "      <td>[[82, 203, 154, 272]]</td>\n",
       "      <td>[[1, 313, 176, 422]]</td>\n",
       "      <td>[[1, 1]]</td>\n",
       "      <td>[0]</td>\n",
       "    </tr>\n",
       "  </tbody>\n",
       "</table>\n",
       "</div>"
      ],
      "text/plain": [
       "                          name           size             action_no  \\\n",
       "0  HICO_train2015_00000001.jpg  (640, 480, 3)  [153, 154, 155, 156]   \n",
       "1  HICO_train2015_00000002.jpg  (640, 480, 3)                 [224]   \n",
       "2  HICO_train2015_00000003.jpg  (599, 640, 3)                  [65]   \n",
       "3  HICO_train2015_00000004.jpg  (640, 427, 3)              [48, 49]   \n",
       "4  HICO_train2015_00000005.jpg  (640, 425, 3)                 [242]   \n",
       "\n",
       "                                          human_bbox  \\\n",
       "0  [[208, 427, 33, 300], [213, 438, 20, 357], [20...   \n",
       "1                               [[262, 638, 1, 138]]   \n",
       "2                             [[567, 580, 361, 390]]   \n",
       "3         [[223, 484, 29, 368], [221, 485, 30, 372]]   \n",
       "4                              [[82, 203, 154, 272]]   \n",
       "\n",
       "                                         object_bbox  \\\n",
       "0  [[59, 572, 98, 405], [77, 583, 115, 396], [61,...   \n",
       "1                             [[162, 258, 131, 165]]   \n",
       "2                               [[74, 510, 52, 484]]   \n",
       "3         [[269, 363, 89, 122], [261, 367, 86, 122]]   \n",
       "4                               [[1, 313, 176, 422]]   \n",
       "\n",
       "                            pair_no     invisible  \n",
       "0  [[1, 1], [1, 1], [1, 1], [1, 1]]  [0, 0, 0, 0]  \n",
       "1                          [[1, 1]]           [0]  \n",
       "2                          [[1, 1]]           [0]  \n",
       "3                  [[1, 1], [1, 1]]        [0, 0]  \n",
       "4                          [[1, 1]]           [0]  "
      ]
     },
     "execution_count": 46,
     "metadata": {},
     "output_type": "execute_result"
    }
   ],
   "source": [
    "train_data.head()"
   ]
  },
  {
   "cell_type": "code",
   "execution_count": 48,
   "metadata": {},
   "outputs": [],
   "source": [
    "train_data.to_json('train_data.json')\n",
    "test_data.to_json('test_data.json')"
   ]
  },
  {
   "cell_type": "code",
   "execution_count": null,
   "metadata": {},
   "outputs": [],
   "source": []
  }
 ],
 "metadata": {
  "kernelspec": {
   "display_name": "Python 3",
   "language": "python",
   "name": "python3"
  },
  "language_info": {
   "codemirror_mode": {
    "name": "ipython",
    "version": 3
   },
   "file_extension": ".py",
   "mimetype": "text/x-python",
   "name": "python",
   "nbconvert_exporter": "python",
   "pygments_lexer": "ipython3",
   "version": "3.6.3"
  }
 },
 "nbformat": 4,
 "nbformat_minor": 2
}
